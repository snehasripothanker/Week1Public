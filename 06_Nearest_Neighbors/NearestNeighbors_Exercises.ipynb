{
 "cells": [
  {
   "cell_type": "markdown",
   "source": "# Nearest Neighbors Exercises",
   "metadata": {
    "colab_type": "text",
    "id": "3hHvV20eD58o",
    "cell_id": "00000-c2e7636f-01eb-4539-9615-f462e6f2f682",
    "deepnote_cell_type": "markdown"
   }
  },
  {
   "cell_type": "code",
   "metadata": {
    "colab_type": "code",
    "id": "z1h_AAj_D4kX",
    "colab": {},
    "cell_id": "00001-f904f2ff-f49d-4cf5-a2bf-8f8d4d09a9f4",
    "deepnote_to_be_reexecuted": false,
    "source_hash": "dbfc783c",
    "execution_start": 1625684193147,
    "execution_millis": 4,
    "deepnote_cell_type": "code"
   },
   "source": "import numpy as np\nimport pandas as pd\nimport matplotlib.pyplot as plt\n\nfrom sklearn.model_selection import train_test_split\nfrom sklearn.neighbors import KNeighborsClassifier\nfrom sklearn.metrics import accuracy_score\n",
   "outputs": [],
   "execution_count": null
  },
  {
   "cell_type": "markdown",
   "source": "## Problem 1\n\nConsider the following simple data-set:\n\n<img src=\"https://github.com/BeaverWorksMedlytics2020/Data_Public/raw/master/Images/Week1/knn_notebook_example_table.png\" alt=\"Example Table\" width=\"600\">\n\nNow consider the Sample:\n    $$X= 4, Y = 4, Z = 2$$",
   "metadata": {
    "id": "87tmgzNMb9tV",
    "colab_type": "text",
    "cell_id": "00002-2beb2222-d4f3-4315-93f0-65c78469f97c",
    "deepnote_cell_type": "markdown"
   }
  },
  {
   "cell_type": "markdown",
   "source": "Using kNN, what is the class for this sample for $k = 1$ and $k = 3?$ Use the Eucledian metric.\n\nFor k=1, the class of the sample is 1. For k=3, the class of the sample is 2. ",
   "metadata": {
    "colab_type": "text",
    "id": "gqjait37Qws0",
    "cell_id": "00003-18cde72a-8ca0-4c0d-b013-47e1989dbbb6",
    "deepnote_cell_type": "markdown"
   }
  },
  {
   "cell_type": "code",
   "source": "# SAMPLE - SAMPLE1\n\nimport math\nsample1dist=math.sqrt((5-4)**2+(4-4)**2+(3-2)**2)\nsample1dist",
   "metadata": {
    "tags": [],
    "cell_id": "00004-2a0a3eb8-5f69-4871-92df-c073f2d5debe",
    "deepnote_to_be_reexecuted": false,
    "source_hash": "9ab452a3",
    "execution_start": 1625684187669,
    "execution_millis": 9,
    "deepnote_cell_type": "code"
   },
   "outputs": [
    {
     "output_type": "execute_result",
     "execution_count": 2,
     "data": {
      "text/plain": "1.4142135623730951"
     },
     "metadata": {}
    }
   ],
   "execution_count": null
  },
  {
   "cell_type": "code",
   "source": "# SAMPLE - SAMPLE2\nimport math\nmath.sqrt((4 - 1)**2 + (4 - 2)**2 + (2-2)**2)",
   "metadata": {
    "tags": [],
    "cell_id": "00005-5aafbc93-30a3-4082-bff8-7e6e84046b88",
    "deepnote_to_be_reexecuted": false,
    "source_hash": "7c50fb52",
    "execution_start": 1625684187680,
    "execution_millis": 16,
    "deepnote_cell_type": "code"
   },
   "outputs": [
    {
     "output_type": "execute_result",
     "execution_count": 3,
     "data": {
      "text/plain": "3.605551275463989"
     },
     "metadata": {}
    }
   ],
   "execution_count": null
  },
  {
   "cell_type": "code",
   "source": "# SAMPLE - SAMPLE3\n\nimport math\n\nmath.sqrt((4 - 1)**2 + (4 - 2)**2 + (2 - 3)**2)",
   "metadata": {
    "tags": [],
    "cell_id": "00006-37f0b33e-fe14-43ce-b224-b381b809c13d",
    "deepnote_to_be_reexecuted": false,
    "source_hash": "405e3bbf",
    "execution_start": 1625684187690,
    "execution_millis": 6,
    "deepnote_cell_type": "code"
   },
   "outputs": [
    {
     "output_type": "execute_result",
     "execution_count": 4,
     "data": {
      "text/plain": "3.7416573867739413"
     },
     "metadata": {}
    }
   ],
   "execution_count": null
  },
  {
   "cell_type": "markdown",
   "source": "## Problem 2\nEarlier in the tutorial we were told that kNN depends on several factors, one of them being $k$. Consider the following datasets below, find the optimal value of $k$ that gives the highest accuracy. Visualize your data! Can you come up with some rule for getting a good idea of what $k$ is? \n\nHINT: look for a pattern/bound! Answer should be in terms of the size of the dataset $n$. ",
   "metadata": {
    "colab_type": "text",
    "id": "MtE0uiKuTWsI",
    "cell_id": "00004-1e5b3c66-acca-4989-9b28-d291cabf73b5",
    "deepnote_cell_type": "markdown"
   }
  },
  {
   "cell_type": "code",
   "metadata": {
    "id": "aapncOgUo_5r",
    "colab_type": "code",
    "colab": {},
    "cell_id": "00005-5ace4d9e-53cb-4a41-984a-68dc97516054",
    "deepnote_to_be_reexecuted": false,
    "source_hash": "c308e276",
    "execution_start": 1625684187733,
    "execution_millis": 211,
    "deepnote_cell_type": "code"
   },
   "source": "\n# Solve this problem for each of these datasets\nfrom sklearn.datasets import load_iris \nfrom sklearn.datasets import load_breast_cancer\nfrom sklearn.datasets import load_wine \n\n# Load those datasets into some easily accessible variables\n# The datasets are already normalized, so that saves us some steps!\niris = load_iris()                    #iris dataset: size = 150\nbreast_cancer = load_breast_cancer()  #diabetes dataset: size = 569\nwine = load_wine()                    #wine dataset: size 178\n\n# This function will perfom KNN classification for a specified k\ndef split_train_test_dataset(dataset, k, test_size=0.2):\n    \"\"\"Loads and performs KNN classification on the provided dataset\"\"\"\n    # Grab and split the dataset\n    X_train, X_val, y_train, y_val = train_test_split(\n        dataset.data, dataset.target, test_size=test_size, random_state=0)\n\n    # Build a KNN classifier, fit it and test its predictions\n    knn = KNeighborsClassifier(n_neighbors=k)\n    knn.fit(X_train, y_train)\n    print(\"Validation Accuracy is {:5.1%}\".format(\n        accuracy_score(y_val, knn.predict(X_val))))\n\n#split_train_test_dataset(iris,)\n\n\n\nidf = iris['data']\nsepLen = idf[:,0] # sepal length (cm)\nsepWid = idf[:,1]\npetLen = idf[:,2]\npetWid = idf[:,3]\n# plt.xlabel(\"Length (cm)\")\n# plt.ylabel(\"Width (cm)\")\nplt.scatter(sepLen, sepWid)\nplt.scatter(petLen, petWid)\n\n# plt.scatter(petLen)\n# plt.scatter(petLen)\n# split_train_test_dataset(iris,50)\n\n",
   "outputs": [
    {
     "output_type": "execute_result",
     "execution_count": 5,
     "data": {
      "text/plain": "<matplotlib.collections.PathCollection at 0x7f151451abd0>"
     },
     "metadata": {}
    },
    {
     "data": {
      "text/plain": "<Figure size 432x288 with 1 Axes>",
      "image/png": "[encoded data removed]"
     },
     "metadata": {
      "needs_background": "light",
      "image/png": {
       "width": 362,
       "height": 248
      }
     },
     "output_type": "display_data"
    }
   ],
   "execution_count": null
  },
  {
   "cell_type": "code",
   "source": "",
   "metadata": {
    "cell_id": "00009-30b77e6d-a2b3-409c-8a0d-253f8af09ecf",
    "deepnote_to_be_reexecuted": false,
    "source_hash": "b623e53d",
    "execution_start": 1625684187932,
    "execution_millis": 4,
    "deepnote_cell_type": "visualization"
   },
   "outputs": [],
   "execution_count": null
  },
  {
   "cell_type": "code",
   "source": "\nfor k in range (1,120):\n    split_train_test_dataset(breast_cancer, k)\n    print(k)\n#split_train_test_dataset(breast_cancer, 5)",
   "metadata": {
    "tags": [],
    "cell_id": "00010-f856ee97-61ed-4559-ae3e-c30cbff90e8e",
    "deepnote_to_be_reexecuted": false,
    "source_hash": "604e0dca",
    "execution_start": 1625684187942,
    "execution_millis": 1711,
    "deepnote_cell_type": "code"
   },
   "outputs": [
    {
     "name": "stdout",
     "text": "Validation Accuracy is 91.2%\n1\nValidation Accuracy is 89.5%\n2\nValidation Accuracy is 91.2%\n3\nValidation Accuracy is 92.1%\n4\nValidation Accuracy is 93.9%\n5\nValidation Accuracy is 93.9%\n6\nValidation Accuracy is 94.7%\n7\nValidation Accuracy is 94.7%\n8\nValidation Accuracy is 96.5%\n9\nValidation Accuracy is 94.7%\n10\nValidation Accuracy is 96.5%\n11\nValidation Accuracy is 96.5%\n12\nValidation Accuracy is 96.5%\n13\nValidation Accuracy is 96.5%\n14\nValidation Accuracy is 96.5%\n15\nValidation Accuracy is 96.5%\n16\nValidation Accuracy is 96.5%\n17\nValidation Accuracy is 96.5%\n18\nValidation Accuracy is 96.5%\n19\nValidation Accuracy is 96.5%\n20\nValidation Accuracy is 96.5%\n21\nValidation Accuracy is 96.5%\n22\nValidation Accuracy is 96.5%\n23\nValidation Accuracy is 96.5%\n24\nValidation Accuracy is 96.5%\n25\nValidation Accuracy is 96.5%\n26\nValidation Accuracy is 95.6%\n27\nValidation Accuracy is 96.5%\n28\nValidation Accuracy is 95.6%\n29\nValidation Accuracy is 96.5%\n30\nValidation Accuracy is 94.7%\n31\nValidation Accuracy is 94.7%\n32\nValidation Accuracy is 94.7%\n33\nValidation Accuracy is 94.7%\n34\nValidation Accuracy is 94.7%\n35\nValidation Accuracy is 94.7%\n36\nValidation Accuracy is 94.7%\n37\nValidation Accuracy is 95.6%\n38\nValidation Accuracy is 94.7%\n39\nValidation Accuracy is 95.6%\n40\nValidation Accuracy is 94.7%\n41\nValidation Accuracy is 95.6%\n42\nValidation Accuracy is 95.6%\n43\nValidation Accuracy is 95.6%\n44\nValidation Accuracy is 94.7%\n45\nValidation Accuracy is 94.7%\n46\nValidation Accuracy is 94.7%\n47\nValidation Accuracy is 94.7%\n48\nValidation Accuracy is 94.7%\n49\nValidation Accuracy is 94.7%\n50\nValidation Accuracy is 94.7%\n51\nValidation Accuracy is 94.7%\n52\nValidation Accuracy is 94.7%\n53\nValidation Accuracy is 94.7%\n54\nValidation Accuracy is 93.9%\n55\nValidation Accuracy is 94.7%\n56\nValidation Accuracy is 93.9%\n57\nValidation Accuracy is 93.9%\n58\nValidation Accuracy is 93.9%\n59\nValidation Accuracy is 93.9%\n60\nValidation Accuracy is 93.0%\n61\nValidation Accuracy is 93.0%\n62\nValidation Accuracy is 93.0%\n63\nValidation Accuracy is 93.0%\n64\nValidation Accuracy is 93.0%\n65\nValidation Accuracy is 93.0%\n66\nValidation Accuracy is 93.0%\n67\nValidation Accuracy is 93.0%\n68\nValidation Accuracy is 93.0%\n69\nValidation Accuracy is 93.0%\n70\nValidation Accuracy is 93.0%\n71\nValidation Accuracy is 93.0%\n72\nValidation Accuracy is 93.0%\n73\nValidation Accuracy is 93.0%\n74\nValidation Accuracy is 93.0%\n75\nValidation Accuracy is 93.0%\n76\nValidation Accuracy is 93.0%\n77\nValidation Accuracy is 93.0%\n78\nValidation Accuracy is 93.0%\n79\nValidation Accuracy is 93.0%\n80\nValidation Accuracy is 93.0%\n81\nValidation Accuracy is 93.0%\n82\nValidation Accuracy is 93.0%\n83\nValidation Accuracy is 93.0%\n84\nValidation Accuracy is 93.0%\n85\nValidation Accuracy is 93.0%\n86\nValidation Accuracy is 93.0%\n87\nValidation Accuracy is 93.0%\n88\nValidation Accuracy is 92.1%\n89\nValidation Accuracy is 93.0%\n90\nValidation Accuracy is 93.0%\n91\nValidation Accuracy is 93.0%\n92\nValidation Accuracy is 93.0%\n93\nValidation Accuracy is 93.0%\n94\nValidation Accuracy is 93.0%\n95\nValidation Accuracy is 93.0%\n96\nValidation Accuracy is 92.1%\n97\nValidation Accuracy is 92.1%\n98\nValidation Accuracy is 92.1%\n99\nValidation Accuracy is 92.1%\n100\nValidation Accuracy is 91.2%\n101\nValidation Accuracy is 92.1%\n102\nValidation Accuracy is 90.4%\n103\nValidation Accuracy is 90.4%\n104\nValidation Accuracy is 90.4%\n105\nValidation Accuracy is 90.4%\n106\nValidation Accuracy is 90.4%\n107\nValidation Accuracy is 90.4%\n108\nValidation Accuracy is 90.4%\n109\nValidation Accuracy is 90.4%\n110\nValidation Accuracy is 90.4%\n111\nValidation Accuracy is 90.4%\n112\nValidation Accuracy is 90.4%\n113\nValidation Accuracy is 90.4%\n114\nValidation Accuracy is 90.4%\n115\nValidation Accuracy is 90.4%\n116\nValidation Accuracy is 90.4%\n117\nValidation Accuracy is 90.4%\n118\nValidation Accuracy is 90.4%\n119\n",
     "output_type": "stream"
    }
   ],
   "execution_count": null
  },
  {
   "cell_type": "markdown",
   "source": "Write a single mathematical expression describing the relationship you found between $n$ (the size of the dataset) and $k$ (the number of datapoints used to classify each validation datum).",
   "metadata": {
    "id": "n1_EbFlqzjAT",
    "colab_type": "text",
    "cell_id": "00007-9e31e134-f849-45d6-980b-81094c4e074f",
    "deepnote_cell_type": "markdown"
   }
  },
  {
   "cell_type": "markdown",
   "source": "Iris dataset, k = 1 (lowest k value)\nBreast cancer dataset, k = 9 (lowest k value)\nWine data set, k = 95 (lowest k value)\nn=-1.696244477k+358.3685567\n",
   "metadata": {
    "id": "PbbrX6rGq6CV",
    "colab_type": "text",
    "cell_id": "00008-01630e1e-58e1-480d-b182-928216e4dc1d",
    "deepnote_cell_type": "markdown"
   }
  },
  {
   "cell_type": "markdown",
   "source": "## Problem 3\nNow, we will **be writing our k-NNA**. Recall that we said a kNN is comprised of a predictions and using those predictions to classify the data. Here we will try to mimic sklearn's kNN methods. We will be using the Pima diabetes dataset. ",
   "metadata": {
    "colab_type": "text",
    "id": "-vDZy0F3eyeH",
    "cell_id": "00009-6b713464-0106-4edd-946f-132b72febf84",
    "deepnote_cell_type": "markdown"
   }
  },
  {
   "cell_type": "markdown",
   "source": "### Loading and splitting data",
   "metadata": {
    "id": "8YFfjG9G3lVO",
    "colab_type": "text",
    "cell_id": "00010-84a30058-7b6a-4895-b6d3-3c2289005067",
    "deepnote_cell_type": "markdown"
   }
  },
  {
   "cell_type": "code",
   "metadata": {
    "colab_type": "code",
    "id": "zbs8WICFgITd",
    "colab": {},
    "cell_id": "00011-1c057c97-58b6-4874-80b7-10c7451fa29c",
    "deepnote_to_be_reexecuted": false,
    "source_hash": "5ef26caa",
    "execution_start": 1625684205883,
    "execution_millis": 32,
    "deepnote_cell_type": "code"
   },
   "source": "url = \"https://github.com/BeaverWorksMedlytics2020/Data_Public/raw/master/NotebookExampleData/Week1/diabetes.csv\"\nnames = ['preg', 'plas', 'pres', 'skin', 'test', 'mass', 'pedi', 'age', 'class']\ndata = pd.read_csv(url, names=names)\n\n# Dropping NaN rows\ninvalid = ['plas', 'pres', 'skin', 'test', 'mass']\n\nfor i in invalid:\n    data[i].replace(to_replace=0, value=np.nan, inplace=True)\n    \ndata = data.dropna(axis=0).reset_index(drop=True)",
   "outputs": [],
   "execution_count": null
  },
  {
   "cell_type": "markdown",
   "source": "Now, let's clearly define which columns will act as explanatory variables, and which column will be the target value, and split the dataset between your training data and testing data. Let's try an 80-20 split and use sklearn's [train_test_split](http://scikit-learn.org/stable/modules/generated/sklearn.model_selection.train_test_split.html) method (set random_state = 0 so we get the same output each time).",
   "metadata": {
    "id": "aSUwHL6-4P2F",
    "colab_type": "text",
    "cell_id": "00012-edbb2bcc-a36e-4f35-82dc-f76f34842e05",
    "deepnote_cell_type": "markdown"
   }
  },
  {
   "cell_type": "code",
   "metadata": {
    "colab_type": "code",
    "id": "9MXZjxRcgy78",
    "colab": {
     "base_uri": "https://localhost:8080/",
     "height": 68
    },
    "outputId": "91bb35f5-9c29-4c6b-dbba-7a0644a3e2ca",
    "cell_id": "00013-92ad0b5c-3054-4097-b3ae-6285d5b03669",
    "deepnote_to_be_reexecuted": false,
    "source_hash": "d98a6cd6",
    "execution_start": 1625684207569,
    "execution_millis": 6,
    "deepnote_cell_type": "code"
   },
   "source": "# Columns we will use to make predictions with (features!) feel free to play around with these\nX_cols = ['preg', 'plas', 'pres', 'skin', 'test', 'mass', 'pedi', 'age']\n\n# Column that we want to predict (the labels)\ny_col = 'class'\n\n# 80-20 train-test split of datset\ntest_size = 0.2\nX_train, X_test, y_train, y_test = train_test_split(data[X_cols], data[y_col], test_size=test_size, random_state=0)\n\n# Further split X and y of training into training and validation sets\nX_train, X_val, y_train, y_val = train_test_split(X_train, y_train, test_size=test_size, random_state=0)\n\nprint('There are {} training samples with {} features and {} associated classification labels'.format(*X_train.shape, *y_train.shape))\nprint('There are {} validation samples with {} features and {} associated classification labels'.format(*X_val.shape, *y_val.shape))\nprint('There are {} test samples with {} features and {} associated classification labels'.format(*X_test.shape, *y_test.shape))",
   "outputs": [
    {
     "name": "stdout",
     "text": "There are 250 training samples with 8 features and 250 associated classification labels\nThere are 63 validation samples with 8 features and 63 associated classification labels\nThere are 79 test samples with 8 features and 79 associated classification labels\n",
     "output_type": "stream"
    }
   ],
   "execution_count": null
  },
  {
   "cell_type": "markdown",
   "source": "### Normalizing Data\n\nLet's not forget to normalize the data! We'll use sklearn's StandardScaler normalization like we did before to normalize the training **and** validation/data.",
   "metadata": {
    "colab_type": "text",
    "id": "De_EJnYKgz_6",
    "cell_id": "00014-d3d19f71-9aab-4cb2-a5bc-bd51c048aaab",
    "deepnote_cell_type": "markdown"
   }
  },
  {
   "cell_type": "code",
   "metadata": {
    "colab_type": "code",
    "id": "6PD6-ibriBJO",
    "colab": {},
    "cell_id": "00015-3c4b33fb-bf48-4a47-888f-26f963243ca1",
    "deepnote_to_be_reexecuted": false,
    "source_hash": "844e8ff7",
    "execution_start": 1625684209096,
    "execution_millis": 4,
    "deepnote_cell_type": "code"
   },
   "source": "from sklearn.preprocessing import StandardScaler\n\nscaler = StandardScaler()\n\nfor i in list(X_train):\n    feature_data_train = X_train[i].values.reshape(-1, 1)\n    scaler.fit(feature_data_train)\n    X_train[i] = scaler.transform(feature_data_train)\n\nfor j in list(X_test):\n    feature_data_test = X_test[j].values.reshape(-1, 1)\n    scaler.fit(feature_data_test)\n    X_test[j] = scaler.transform(feature_data_test)\n    \nfor k in list(X_val):\n    feature_data_val = X_val[k].values.reshape(-1, 1)\n    scaler.fit(feature_data_val)\n    X_val[k] = scaler.transform(feature_data_val)",
   "outputs": [],
   "execution_count": null
  },
  {
   "cell_type": "markdown",
   "source": "### Writing your kNN\n\nNow for the fun part! Fill in the 3 following methods, euclidean_dist(), predict(), and knn().\n\nThe predict method that we'll make below needs to: \n1. Compute the euclidean distance between the “new” observation and all the data points in the training set. \n2. Assign the corresponding label to the observation\n3. Select the k nearest ones and perform a \"majority vote\"",
   "metadata": {
    "colab_type": "text",
    "id": "hnv61aiiitxU",
    "cell_id": "00016-936a23e0-5940-4cd3-bfbf-f65294228af4",
    "deepnote_cell_type": "markdown"
   }
  },
  {
   "cell_type": "code",
   "metadata": {
    "id": "xXkIw6zN3lVb",
    "colab_type": "code",
    "colab": {},
    "cell_id": "00017-14b68561-0190-4b35-9b04-3b33196a69b9",
    "deepnote_to_be_reexecuted": false,
    "source_hash": "89fb46be",
    "execution_start": 1625684210877,
    "execution_millis": 11,
    "deepnote_cell_type": "code"
   },
   "source": "# Euclidean distance function from tutorial\ndef euclidean_dist(datum1, datum2):\n    inner_val = 0.0\n    \n    for g in range(datum1.shape[0]):\n        inner_val += (datum1[g]- datum2[g]) ** 2\n    \n    distance = np.sqrt(inner_val)\n    return(distance)\n\nprint(X_train)",
   "outputs": [
    {
     "name": "stdout",
     "text": "         preg      plas      pres      skin      test      mass      pedi  \\\n173 -0.763913  0.494808 -2.166661 -0.956356 -0.594823 -0.657013  0.357848   \n289 -0.763913 -1.193513 -0.269712  0.485677 -0.644461  0.659616 -0.379316   \n115  1.130086  1.858451  1.109888 -0.764085  0.306925  0.408125  0.159717   \n335  0.498753 -0.024675  0.247638  1.062489 -0.644461  0.141841 -0.763924   \n181  0.498753 -0.803900 -1.476861 -0.091136 -0.594823  0.127047 -0.093774   \n..        ...       ...       ...       ...       ...       ...       ...   \n257  1.130086 -0.966239 -0.614612 -0.379543 -0.627915  0.023492  0.602599   \n11   2.077085  0.040260 -0.097262 -0.283407 -0.330090 -0.301967 -0.950400   \n249 -0.763913  0.494808 -0.787061  1.158625  2.689527  1.118217  0.014032   \n101 -1.079579  0.527275 -0.528387 -0.283407 -0.205996  1.399295 -0.291906   \n248 -1.079579  0.364937 -0.269712  1.254760  0.786755  1.354915 -0.484209   \n\n          age  \n173 -0.888644  \n289 -0.705039  \n115  1.773615  \n335 -0.337831  \n181 -0.154227  \n..        ...  \n257  0.855595  \n11   0.855595  \n249 -0.980446  \n101 -0.705039  \n248 -0.705039  \n\n[250 rows x 8 columns]\n",
     "output_type": "stream"
    }
   ],
   "execution_count": null
  },
  {
   "cell_type": "code",
   "metadata": {
    "colab_type": "code",
    "id": "FqJkm_ytjFgM",
    "colab": {},
    "cell_id": "00018-7a3be6d5-55b3-4735-9047-9e5f47a66054",
    "deepnote_to_be_reexecuted": false,
    "source_hash": "499f8250",
    "execution_start": 1625684225289,
    "execution_millis": 1,
    "deepnote_cell_type": "code"
   },
   "source": "from collections import Counter\n\ndef predict(x_training, y_training, x_test_sample, k):\n    \n    # Create list for distances and targets\n    distances = []\n    targets = []\n\n    # YOUR CODE HERE\n\n    for i in list(x_training.index):\n        distances.append([euclidean_dist(x_training.loc[i], x_test_sample), i])\n\n    distances = sorted(distances)\n    for i in range(k):\n        dis = distances[i][1]\n        targets.append(y_training.loc[dis])\n    \n    c = Counter(targets)\n    return c.most_common()[0][0]",
   "outputs": [],
   "execution_count": null
  },
  {
   "cell_type": "code",
   "metadata": {
    "id": "BguZLcRa3lVh",
    "colab_type": "code",
    "colab": {},
    "cell_id": "00019-0630ca1e-0300-4f0e-8a92-1b703be12bbe",
    "deepnote_to_be_reexecuted": false,
    "source_hash": "9a0fe39c",
    "execution_start": 1625684225883,
    "execution_millis": 1,
    "deepnote_cell_type": "code"
   },
   "source": "def knn(x_training, y_training, x_testing, k):\n\n    predictions = []\n\n    for i in list(x_testing.index):\n        predictions.append(predict(x_training, y_training, x_testing.loc[i], k))\n\n    return predictions\n    ",
   "outputs": [],
   "execution_count": null
  },
  {
   "cell_type": "markdown",
   "source": "When done, test your code by running the methods here!",
   "metadata": {
    "colab_type": "text",
    "id": "4uhQZPIpjdo9",
    "cell_id": "00020-cfffd903-553f-4ecc-8220-5636a082d81a",
    "deepnote_cell_type": "markdown"
   }
  },
  {
   "cell_type": "code",
   "metadata": {
    "colab_type": "code",
    "id": "AHRJXVr7jcao",
    "colab": {},
    "cell_id": "00021-89b4af94-0959-47b8-ac7a-1c2f48e40679",
    "deepnote_to_be_reexecuted": false,
    "source_hash": "411446fa",
    "execution_start": 1625684227649,
    "execution_millis": 2186,
    "deepnote_cell_type": "code"
   },
   "source": "from sklearn.metrics import accuracy_score\nimport time\n\nstart = time.time()\npredictions_slow = knn(X_train, y_train, X_val, k=5)\n\nprint('Took {} seconds'.format(time.time() - start))\nprint(\"Validation Accuracy is \", accuracy_score(y_val,predictions_slow)*100)",
   "outputs": [
    {
     "name": "stdout",
     "text": "Took 2.248098134994507 seconds\nValidation Accuracy is  80.95238095238095\n",
     "output_type": "stream"
    }
   ],
   "execution_count": null
  },
  {
   "cell_type": "markdown",
   "source": "Check sklearn's predictions on validation data from the tutorial notebook and make sure they match yours. Sklearn is faster, but you should get the same answers.",
   "metadata": {
    "id": "2a51RcbJ3lVq",
    "colab_type": "text",
    "cell_id": "00022-4a85eefc-cd74-4a60-894d-aa845d36111f",
    "deepnote_cell_type": "markdown"
   }
  },
  {
   "cell_type": "markdown",
   "source": "",
   "metadata": {
    "tags": [],
    "cell_id": "00027-5e268e2d-7e4e-4bab-86e7-f9772cd1af3d",
    "deepnote_cell_type": "markdown"
   }
  },
  {
   "cell_type": "markdown",
   "source": "<a style='text-decoration:none;line-height:16px;display:flex;color:#5B5B62;padding:10px;justify-content:end;' href='https://deepnote.com?utm_source=created-in-deepnote-cell&projectId=87ac0e45-1ead-4d49-81f5-83b26292767f' target=\"_blank\">\n<img alt='Created in deepnote.com' style='display:inline;max-height:16px;margin:0px;margin-right:7.5px;' src='data:image/svg+xml;base64,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' > </img>\nCreated in <span style='font-weight:600;margin-left:4px;'>Deepnote</span></a>",
   "metadata": {
    "tags": [],
    "created_in_deepnote_cell": true,
    "deepnote_cell_type": "markdown"
   }
  }
 ],
 "nbformat": 4,
 "nbformat_minor": 0,
 "metadata": {
  "colab": {
   "name": "NearestNeighbors_Exercises",
   "provenance": [],
   "collapsed_sections": []
  },
  "kernelspec": {
   "display_name": "Python 3",
   "language": "python",
   "name": "python3"
  },
  "language_info": {
   "codemirror_mode": {
    "name": "ipython",
    "version": 3
   },
   "file_extension": ".py",
   "mimetype": "text/x-python",
   "name": "python",
   "nbconvert_exporter": "python",
   "pygments_lexer": "ipython3",
   "version": "3.7.3"
  },
  "deepnote_notebook_id": "9b6a0168-bffb-4750-b7a9-565c6addf8e5",
  "deepnote": {},
  "deepnote_execution_queue": []
 }
}