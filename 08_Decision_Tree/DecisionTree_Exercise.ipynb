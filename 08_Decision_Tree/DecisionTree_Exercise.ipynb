{
 "cells": [
  {
   "cell_type": "markdown",
   "source": "# Decision Tree Worksheet",
   "metadata": {
    "colab_type": "text",
    "id": "-UimMCmGe19F",
    "cell_id": "00000-a17bbd0c-936b-4d1f-bfc8-e616765c57a2",
    "deepnote_cell_type": "markdown"
   }
  },
  {
   "cell_type": "code",
   "metadata": {
    "colab": {
     "autoexec": {
      "startup": false,
      "wait_interval": 0
     }
    },
    "colab_type": "code",
    "id": "kedW02LgKjVL",
    "cell_id": "00001-c3a1e231-0620-4e41-9bfb-126e240634bd",
    "deepnote_to_be_reexecuted": false,
    "source_hash": "eb9a879d",
    "execution_start": 1625691723934,
    "execution_millis": 2317,
    "deepnote_cell_type": "code"
   },
   "source": "import numpy as np\nimport pandas as pd\nfrom sklearn.model_selection import train_test_split\nfrom sklearn.tree import DecisionTreeClassifier\nfrom sklearn.metrics import accuracy_score\nfrom sklearn import tree\nfrom sklearn.ensemble import RandomForestClassifier\nfrom sklearn import metrics\nimport graphviz\nimport matplotlib.pyplot as plt",
   "outputs": [],
   "execution_count": null
  },
  {
   "cell_type": "markdown",
   "source": "## Loading data\n\nLoad Pima diabetes dataset and split data, with test size 20% and validaton 20%.",
   "metadata": {
    "colab_type": "text",
    "id": "rz35eT5-SMht",
    "cell_id": "00002-e2b4cf2f-ab18-4c3d-a27e-cb9494cd9638",
    "deepnote_cell_type": "markdown"
   }
  },
  {
   "cell_type": "code",
   "metadata": {
    "colab": {
     "autoexec": {
      "startup": false,
      "wait_interval": 0
     }
    },
    "colab_type": "code",
    "id": "Ydh9gmDkMGmu",
    "cell_id": "00003-5bf0a911-8f0b-4156-b87f-79779a708c8b",
    "deepnote_to_be_reexecuted": false,
    "source_hash": "dbdc6dbe",
    "execution_start": 1625691726322,
    "execution_millis": 52,
    "deepnote_cell_type": "code"
   },
   "source": "url = \"https://raw.githubusercontent.com/jbrownlee/Datasets/master/pima-indians-diabetes.data.csv\"\nnames = ['preg', 'plas', 'pres', 'skin', 'test', 'mass', 'pedi', 'age', 'class']\ndata = pd.read_csv(url, names=names)\n\n\n\n# Dropping NaN rows\ninvalid = ['plas', 'pres', 'skin', 'test', 'mass']\n\nfor i in invalid:\n    data[i].replace(to_replace=0, value=np.nan, inplace=True)\n    \ndata = data.dropna(axis=0).reset_index(drop=True)\ndata.head()\n\n# Splitting data\nX_cols = ['preg', 'plas', 'pres', 'skin', 'test', 'mass', 'pedi', 'age']\ny_col = 'class'\n\ntest_size = 0.2\nX_train, X_test, y_train, y_test = train_test_split(data[X_cols], data[y_col],test_size=test_size, random_state=0)\nX_train, X_val, y_train, y_val = train_test_split(X_train, y_train, test_size=test_size, random_state=0)",
   "outputs": [],
   "execution_count": null
  },
  {
   "cell_type": "markdown",
   "source": "## Creating Model\n\nMake a model using sklearn's DecisionTreeClassifier, with a high max-depth and low minimum sample leafs.",
   "metadata": {
    "colab_type": "text",
    "id": "KAFhsJIsSpMR",
    "cell_id": "00004-6639bcea-5f35-47d7-b6ef-12778faac808",
    "deepnote_cell_type": "markdown"
   }
  },
  {
   "cell_type": "code",
   "metadata": {
    "colab": {
     "autoexec": {
      "startup": false,
      "wait_interval": 0
     }
    },
    "colab_type": "code",
    "id": "fHbA28aFS2DM",
    "cell_id": "00005-34b9ffb0-76e4-42f5-8e16-3f49f8c50e72",
    "deepnote_to_be_reexecuted": false,
    "source_hash": "5e5ebc72",
    "execution_start": 1625691726382,
    "execution_millis": 23,
    "deepnote_cell_type": "code"
   },
   "source": "## YOUR CODE HERE\ndecision_tree_high_dep = DecisionTreeClassifier(criterion = \"entropy\", random_state = None,\n                              max_depth=100, min_samples_leaf=1)  # minimum sample leafs is the minimum sample \n                                                                # amount the leaf can have\n\n# Training/fitting the model with training data\ndecision_tree_high_dep.fit(X_train, y_train)\n",
   "outputs": [
    {
     "output_type": "execute_result",
     "execution_count": 3,
     "data": {
      "text/plain": "DecisionTreeClassifier(criterion='entropy', max_depth=100)"
     },
     "metadata": {}
    }
   ],
   "execution_count": null
  },
  {
   "cell_type": "markdown",
   "source": "Print accuracy of training and validation data.",
   "metadata": {
    "colab_type": "text",
    "id": "4_8DZinWTJRa",
    "cell_id": "00006-81e439d6-7a96-472e-9262-17c68e1d0b9e",
    "deepnote_cell_type": "markdown"
   }
  },
  {
   "cell_type": "code",
   "metadata": {
    "colab": {
     "autoexec": {
      "startup": false,
      "wait_interval": 0
     }
    },
    "colab_type": "code",
    "id": "EgByCP_EhyB2",
    "cell_id": "00007-e8d6f2e4-f39b-46a2-9d98-d51ee62690da",
    "deepnote_to_be_reexecuted": false,
    "source_hash": "556819e6",
    "execution_start": 1625691726419,
    "execution_millis": 0,
    "deepnote_cell_type": "code"
   },
   "source": "# Printing accuracy of testing & training data\ny_train_pred=decision_tree_high_dep.predict(X_train)\nprint(\"Training Accuracy is \", accuracy_score(y_train, y_train_pred)*100)\ny_val_pred=decision_tree_high_dep.predict(X_val)\nprint(\"Validation Accuracy is \", accuracy_score(y_val,y_val_pred)*100)",
   "outputs": [
    {
     "name": "stdout",
     "text": "Training Accuracy is  100.0\nValidation Accuracy is  79.36507936507937\n",
     "output_type": "stream"
    }
   ],
   "execution_count": null
  },
  {
   "cell_type": "markdown",
   "source": "Make a model with a low max-depth and higher minimum sample leafs.",
   "metadata": {
    "colab_type": "text",
    "id": "6HNa6fxbT6ak",
    "cell_id": "00008-6e91e88a-ef5c-4aed-8764-def8ee31374d",
    "deepnote_cell_type": "markdown"
   }
  },
  {
   "cell_type": "code",
   "metadata": {
    "colab": {
     "autoexec": {
      "startup": false,
      "wait_interval": 0
     },
     "base_uri": "https://localhost:8080/",
     "height": 17
    },
    "colab_type": "code",
    "executionInfo": {
     "elapsed": 287,
     "status": "ok",
     "timestamp": 1530627778885,
     "user": {
      "displayName": "john passarelli",
      "photoUrl": "https://lh3.googleusercontent.com/a/default-user=s128",
      "userId": "102241934905781120798"
     },
     "user_tz": 240
    },
    "id": "6Pbu-t_tiqnB",
    "outputId": "ef95b427-e6b4-41a7-f992-9826342b662c",
    "cell_id": "00009-dc03dee1-6581-4b23-bd62-24cf1243aa14",
    "deepnote_to_be_reexecuted": false,
    "source_hash": "75ab4c5b",
    "execution_start": 1625691726470,
    "execution_millis": 7,
    "deepnote_cell_type": "code"
   },
   "source": "tree_model = DecisionTreeClassifier(criterion=\"entropy\", random_state = 0,\n                               max_depth=5, min_samples_leaf=7)\ntree_model.fit(X_train, y_train)",
   "outputs": [
    {
     "output_type": "execute_result",
     "execution_count": 5,
     "data": {
      "text/plain": "DecisionTreeClassifier(criterion='entropy', max_depth=5, min_samples_leaf=7,\n                       random_state=0)"
     },
     "metadata": {}
    }
   ],
   "execution_count": null
  },
  {
   "cell_type": "markdown",
   "source": "Print accuracy of training and validation data.",
   "metadata": {
    "cell_id": "00010-7d8f485f-76b0-4e38-a2e5-088cb3280c4c",
    "deepnote_cell_type": "markdown"
   }
  },
  {
   "cell_type": "code",
   "metadata": {
    "cell_id": "00011-3f1ae7c6-a846-4695-94e8-22d5b70aa40e",
    "deepnote_to_be_reexecuted": false,
    "source_hash": "19d100f7",
    "execution_start": 1625691726471,
    "execution_millis": 6,
    "deepnote_cell_type": "code"
   },
   "source": "# Printing accuracy of testing & training data\ny_train_pred=tree_model.predict(X_train)\nprint(\"Training Accuracy is \", accuracy_score(y_train, y_train_pred)*100)\ny_val_pred=tree_model.predict(X_val)\nprint(\"Validation Accuracy is \", accuracy_score(y_val,y_val_pred)*100)",
   "outputs": [
    {
     "name": "stdout",
     "text": "Training Accuracy is  84.0\nValidation Accuracy is  76.19047619047619\n",
     "output_type": "stream"
    }
   ],
   "execution_count": null
  },
  {
   "cell_type": "markdown",
   "source": "Explain the accuracy results below. \n\nWith a high depth and low leaf minimum, the model overfits the dataset.\n\nWith a low depth and high leaf minimum, the model fits the dataset well. ",
   "metadata": {
    "cell_id": "00012-9cf39459-b066-4108-a92c-db97336134c5",
    "deepnote_cell_type": "markdown"
   }
  },
  {
   "cell_type": "markdown",
   "source": "## Metrics",
   "metadata": {
    "cell_id": "00013-f73ddd54-5cd5-4d88-bfef-6e7d298889a7",
    "deepnote_cell_type": "markdown"
   }
  },
  {
   "cell_type": "markdown",
   "source": "Plot the ROC curve and print the AUC of the second model.",
   "metadata": {
    "cell_id": "00014-debf10c1-dd3b-46a5-ac8b-2371da3d5867",
    "deepnote_cell_type": "markdown"
   }
  },
  {
   "cell_type": "code",
   "metadata": {
    "cell_id": "00015-e99a7d62-9b22-4318-b695-8427017bfbcf",
    "deepnote_to_be_reexecuted": false,
    "source_hash": "9f8ad305",
    "execution_start": 1625691726518,
    "execution_millis": 0,
    "deepnote_cell_type": "code"
   },
   "source": "## YOUR CODE HERE\n\n\n\nlabels = [0,1]\ny_val_prob = tree_model.predict_proba(X_val,labels)\n\n\n# Calculate the FPR and TPR at varying thresholds (assume label 1 is the \"postive\" class)\nfpr, tpr, thresholds = metrics.roc_curve(y_val, y_val_prob[:,1])\n\n# Calculate the area under the ROC curve\nroc_auc = metrics.auc(fpr, tpr)\n\n",
   "outputs": [],
   "execution_count": null
  },
  {
   "cell_type": "code",
   "metadata": {
    "colab": {
     "autoexec": {
      "startup": false,
      "wait_interval": 0
     }
    },
    "colab_type": "code",
    "id": "8o55bY_jl8gj",
    "cell_id": "00017-937c99ac-ed8f-4575-8a24-2033a69b5153",
    "deepnote_to_be_reexecuted": false,
    "source_hash": "14ed178c",
    "execution_start": 1625691726519,
    "execution_millis": 229,
    "deepnote_cell_type": "code"
   },
   "source": "## YOUR CODE HERE\n\n# Plot the ROC curve\nplt.figure(figsize=(6,6))\nlw = 2\nplt.plot(fpr, tpr, color='darkorange',\n         lw=lw, label='ROC curve (area = %0.2f)' % roc_auc)\nplt.plot([0, 1], [0, 1], color='navy', lw=lw, linestyle='--')\nplt.xlim([0.0, 1.0])\nplt.ylim([0.0, 1.0])\nplt.xlabel('False Positive Rate')\nplt.ylabel('True Positive Rate')\nplt.title('Receiver operating characteristic')\nplt.legend(loc=\"lower right\")\nplt.show()",
   "outputs": [
    {
     "data": {
      "text/plain": "<Figure size 432x432 with 1 Axes>",
      "image/png": "[encoded data removed]"
     },
     "metadata": {
      "needs_background": "light",
      "image/png": {
       "width": 394,
       "height": 387
      }
     },
     "output_type": "display_data"
    }
   ],
   "execution_count": null
  },
  {
   "cell_type": "markdown",
   "source": "Use graphviz to visualize your 2nd tree.",
   "metadata": {
    "colab_type": "text",
    "id": "tKdqOMBKUvGZ",
    "cell_id": "00016-ceb0a3bf-53b7-4fda-95a1-8759c4cf9041",
    "deepnote_cell_type": "markdown"
   }
  },
  {
   "cell_type": "code",
   "source": "dot_data = tree.export_graphviz(tree_model, filled=True)\n\ngraph = graphviz.Source(dot_data)\ngraph",
   "metadata": {
    "tags": [],
    "cell_id": "00036-645d0657-bb1f-4d3b-98cc-7901da69fcec",
    "deepnote_to_be_reexecuted": false,
    "source_hash": "a0e87119",
    "execution_start": 1625691726803,
    "execution_millis": 17,
    "deepnote_cell_type": "code"
   },
   "outputs": [
    {
     "output_type": "execute_result",
     "execution_count": 9,
     "data": {
      "text/plain": "<graphviz.files.Source at 0x7fd23945bc90>",
      "image/svg+xml": "<?xml version=\"1.0\" encoding=\"UTF-8\" standalone=\"no\"?>\n<!DOCTYPE svg PUBLIC \"-//W3C//DTD SVG 1.1//EN\"\n \"http://www.w3.org/Graphics/SVG/1.1/DTD/svg11.dtd\">\n<!-- Generated by graphviz version 2.40.1 (20161225.0304)\n -->\n<!-- Title: Tree Pages: 1 -->\n<svg width=\"1297pt\" height=\"581pt\"\n viewBox=\"0.00 0.00 1297.00 581.00\" xmlns=\"http://www.w3.org/2000/svg\" xmlns:xlink=\"http://www.w3.org/1999/xlink\">\n<g id=\"graph0\" class=\"graph\" transform=\"scale(1 1) rotate(0) translate(4 577)\">\n<title>Tree</title>\n<polygon fill=\"#ffffff\" stroke=\"transparent\" points=\"-4,4 -4,-577 1293,-577 1293,4 -4,4\"/>\n<!-- 0 -->\n<g id=\"node1\" class=\"node\">\n<title>0</title>\n<polygon fill=\"#f2be9a\" stroke=\"#000000\" points=\"701,-573 561,-573 561,-505 701,-505 701,-573\"/>\n<text text-anchor=\"middle\" x=\"631\" y=\"-557.8\" font-family=\"Times,serif\" font-size=\"14.00\" fill=\"#000000\">X[1] &lt;= 127.5</text>\n<text text-anchor=\"middle\" x=\"631\" y=\"-542.8\" font-family=\"Times,serif\" font-size=\"14.00\" fill=\"#000000\">entropy = 0.913</text>\n<text text-anchor=\"middle\" x=\"631\" y=\"-527.8\" font-family=\"Times,serif\" font-size=\"14.00\" fill=\"#000000\">samples = 250</text>\n<text text-anchor=\"middle\" x=\"631\" y=\"-512.8\" font-family=\"Times,serif\" font-size=\"14.00\" fill=\"#000000\">value = [168, 82]</text>\n</g>\n<!-- 1 -->\n<g id=\"node2\" class=\"node\">\n<title>1</title>\n<polygon fill=\"#e9965a\" stroke=\"#000000\" points=\"624,-469 484,-469 484,-401 624,-401 624,-469\"/>\n<text text-anchor=\"middle\" x=\"554\" y=\"-453.8\" font-family=\"Times,serif\" font-size=\"14.00\" fill=\"#000000\">X[6] &lt;= 0.677</text>\n<text text-anchor=\"middle\" x=\"554\" y=\"-438.8\" font-family=\"Times,serif\" font-size=\"14.00\" fill=\"#000000\">entropy = 0.589</text>\n<text text-anchor=\"middle\" x=\"554\" y=\"-423.8\" font-family=\"Times,serif\" font-size=\"14.00\" fill=\"#000000\">samples = 155</text>\n<text text-anchor=\"middle\" x=\"554\" y=\"-408.8\" font-family=\"Times,serif\" font-size=\"14.00\" fill=\"#000000\">value = [133, 22]</text>\n</g>\n<!-- 0&#45;&gt;1 -->\n<g id=\"edge1\" class=\"edge\">\n<title>0&#45;&gt;1</title>\n<path fill=\"none\" stroke=\"#000000\" d=\"M605.7873,-504.9465C599.2727,-496.1475 592.1795,-486.5672 585.3918,-477.3993\"/>\n<polygon fill=\"#000000\" stroke=\"#000000\" points=\"588.0327,-475.0843 579.2693,-469.13 582.4069,-479.2496 588.0327,-475.0843\"/>\n<text text-anchor=\"middle\" x=\"575.5809\" y=\"-490.1564\" font-family=\"Times,serif\" font-size=\"14.00\" fill=\"#000000\">True</text>\n</g>\n<!-- 18 -->\n<g id=\"node19\" class=\"node\">\n<title>18</title>\n<polygon fill=\"#acd6f4\" stroke=\"#000000\" points=\"776,-469 642,-469 642,-401 776,-401 776,-469\"/>\n<text text-anchor=\"middle\" x=\"709\" y=\"-453.8\" font-family=\"Times,serif\" font-size=\"14.00\" fill=\"#000000\">X[7] &lt;= 23.5</text>\n<text text-anchor=\"middle\" x=\"709\" y=\"-438.8\" font-family=\"Times,serif\" font-size=\"14.00\" fill=\"#000000\">entropy = 0.949</text>\n<text text-anchor=\"middle\" x=\"709\" y=\"-423.8\" font-family=\"Times,serif\" font-size=\"14.00\" fill=\"#000000\">samples = 95</text>\n<text text-anchor=\"middle\" x=\"709\" y=\"-408.8\" font-family=\"Times,serif\" font-size=\"14.00\" fill=\"#000000\">value = [35, 60]</text>\n</g>\n<!-- 0&#45;&gt;18 -->\n<g id=\"edge18\" class=\"edge\">\n<title>0&#45;&gt;18</title>\n<path fill=\"none\" stroke=\"#000000\" d=\"M656.5401,-504.9465C663.1393,-496.1475 670.3246,-486.5672 677.2005,-477.3993\"/>\n<polygon fill=\"#000000\" stroke=\"#000000\" points=\"680.2025,-479.23 683.4025,-469.13 674.6025,-475.03 680.2025,-479.23\"/>\n<text text-anchor=\"middle\" x=\"686.938\" y=\"-490.1787\" font-family=\"Times,serif\" font-size=\"14.00\" fill=\"#000000\">False</text>\n</g>\n<!-- 2 -->\n<g id=\"node3\" class=\"node\">\n<title>2</title>\n<polygon fill=\"#e78a46\" stroke=\"#000000\" points=\"343,-365 209,-365 209,-297 343,-297 343,-365\"/>\n<text text-anchor=\"middle\" x=\"276\" y=\"-349.8\" font-family=\"Times,serif\" font-size=\"14.00\" fill=\"#000000\">X[5] &lt;= 30.95</text>\n<text text-anchor=\"middle\" x=\"276\" y=\"-334.8\" font-family=\"Times,serif\" font-size=\"14.00\" fill=\"#000000\">entropy = 0.342</text>\n<text text-anchor=\"middle\" x=\"276\" y=\"-319.8\" font-family=\"Times,serif\" font-size=\"14.00\" fill=\"#000000\">samples = 110</text>\n<text text-anchor=\"middle\" x=\"276\" y=\"-304.8\" font-family=\"Times,serif\" font-size=\"14.00\" fill=\"#000000\">value = [103, 7]</text>\n</g>\n<!-- 1&#45;&gt;2 -->\n<g id=\"edge2\" class=\"edge\">\n<title>1&#45;&gt;2</title>\n<path fill=\"none\" stroke=\"#000000\" d=\"M483.8489,-408.7564C443.8563,-393.7952 393.6909,-375.0282 352.6637,-359.6799\"/>\n<polygon fill=\"#000000\" stroke=\"#000000\" points=\"353.8442,-356.3847 343.2517,-356.1589 351.3914,-362.941 353.8442,-356.3847\"/>\n</g>\n<!-- 9 -->\n<g id=\"node10\" class=\"node\">\n<title>9</title>\n<polygon fill=\"#f2c09c\" stroke=\"#000000\" points=\"622,-365 488,-365 488,-297 622,-297 622,-365\"/>\n<text text-anchor=\"middle\" x=\"555\" y=\"-349.8\" font-family=\"Times,serif\" font-size=\"14.00\" fill=\"#000000\">X[7] &lt;= 25.5</text>\n<text text-anchor=\"middle\" x=\"555\" y=\"-334.8\" font-family=\"Times,serif\" font-size=\"14.00\" fill=\"#000000\">entropy = 0.918</text>\n<text text-anchor=\"middle\" x=\"555\" y=\"-319.8\" font-family=\"Times,serif\" font-size=\"14.00\" fill=\"#000000\">samples = 45</text>\n<text text-anchor=\"middle\" x=\"555\" y=\"-304.8\" font-family=\"Times,serif\" font-size=\"14.00\" fill=\"#000000\">value = [30, 15]</text>\n</g>\n<!-- 1&#45;&gt;9 -->\n<g id=\"edge9\" class=\"edge\">\n<title>1&#45;&gt;9</title>\n<path fill=\"none\" stroke=\"#000000\" d=\"M554.3274,-400.9465C554.406,-392.776 554.491,-383.9318 554.5734,-375.3697\"/>\n<polygon fill=\"#000000\" stroke=\"#000000\" points=\"558.0754,-375.1632 554.6718,-365.13 551.0757,-375.0958 558.0754,-375.1632\"/>\n</g>\n<!-- 3 -->\n<g id=\"node4\" class=\"node\">\n<title>3</title>\n<polygon fill=\"#e58139\" stroke=\"#000000\" points=\"191,-253.5 69,-253.5 69,-200.5 191,-200.5 191,-253.5\"/>\n<text text-anchor=\"middle\" x=\"130\" y=\"-238.3\" font-family=\"Times,serif\" font-size=\"14.00\" fill=\"#000000\">entropy = 0.0</text>\n<text text-anchor=\"middle\" x=\"130\" y=\"-223.3\" font-family=\"Times,serif\" font-size=\"14.00\" fill=\"#000000\">samples = 45</text>\n<text text-anchor=\"middle\" x=\"130\" y=\"-208.3\" font-family=\"Times,serif\" font-size=\"14.00\" fill=\"#000000\">value = [45, 0]</text>\n</g>\n<!-- 2&#45;&gt;3 -->\n<g id=\"edge3\" class=\"edge\">\n<title>2&#45;&gt;3</title>\n<path fill=\"none\" stroke=\"#000000\" d=\"M228.1941,-296.9465C211.3392,-284.9403 192.4419,-271.4791 175.7601,-259.5962\"/>\n<polygon fill=\"#000000\" stroke=\"#000000\" points=\"177.4367,-256.4933 167.2611,-253.5422 173.3753,-262.1947 177.4367,-256.4933\"/>\n</g>\n<!-- 4 -->\n<g id=\"node5\" class=\"node\">\n<title>4</title>\n<polygon fill=\"#e89051\" stroke=\"#000000\" points=\"343,-261 209,-261 209,-193 343,-193 343,-261\"/>\n<text text-anchor=\"middle\" x=\"276\" y=\"-245.8\" font-family=\"Times,serif\" font-size=\"14.00\" fill=\"#000000\">X[5] &lt;= 37.5</text>\n<text text-anchor=\"middle\" x=\"276\" y=\"-230.8\" font-family=\"Times,serif\" font-size=\"14.00\" fill=\"#000000\">entropy = 0.493</text>\n<text text-anchor=\"middle\" x=\"276\" y=\"-215.8\" font-family=\"Times,serif\" font-size=\"14.00\" fill=\"#000000\">samples = 65</text>\n<text text-anchor=\"middle\" x=\"276\" y=\"-200.8\" font-family=\"Times,serif\" font-size=\"14.00\" fill=\"#000000\">value = [58, 7]</text>\n</g>\n<!-- 2&#45;&gt;4 -->\n<g id=\"edge4\" class=\"edge\">\n<title>2&#45;&gt;4</title>\n<path fill=\"none\" stroke=\"#000000\" d=\"M276,-296.9465C276,-288.776 276,-279.9318 276,-271.3697\"/>\n<polygon fill=\"#000000\" stroke=\"#000000\" points=\"279.5001,-271.13 276,-261.13 272.5001,-271.13 279.5001,-271.13\"/>\n</g>\n<!-- 5 -->\n<g id=\"node6\" class=\"node\">\n<title>5</title>\n<polygon fill=\"#ea9a61\" stroke=\"#000000\" points=\"196.5,-157 71.5,-157 71.5,-89 196.5,-89 196.5,-157\"/>\n<text text-anchor=\"middle\" x=\"134\" y=\"-141.8\" font-family=\"Times,serif\" font-size=\"14.00\" fill=\"#000000\">X[3] &lt;= 24.0</text>\n<text text-anchor=\"middle\" x=\"134\" y=\"-126.8\" font-family=\"Times,serif\" font-size=\"14.00\" fill=\"#000000\">entropy = 0.65</text>\n<text text-anchor=\"middle\" x=\"134\" y=\"-111.8\" font-family=\"Times,serif\" font-size=\"14.00\" fill=\"#000000\">samples = 42</text>\n<text text-anchor=\"middle\" x=\"134\" y=\"-96.8\" font-family=\"Times,serif\" font-size=\"14.00\" fill=\"#000000\">value = [35, 7]</text>\n</g>\n<!-- 4&#45;&gt;5 -->\n<g id=\"edge5\" class=\"edge\">\n<title>4&#45;&gt;5</title>\n<path fill=\"none\" stroke=\"#000000\" d=\"M229.5039,-192.9465C216.5092,-183.4293 202.2663,-172.9978 188.8379,-163.163\"/>\n<polygon fill=\"#000000\" stroke=\"#000000\" points=\"190.7363,-160.2151 180.6006,-157.13 186.6002,-165.8624 190.7363,-160.2151\"/>\n</g>\n<!-- 8 -->\n<g id=\"node9\" class=\"node\">\n<title>8</title>\n<polygon fill=\"#e58139\" stroke=\"#000000\" points=\"337,-149.5 215,-149.5 215,-96.5 337,-96.5 337,-149.5\"/>\n<text text-anchor=\"middle\" x=\"276\" y=\"-134.3\" font-family=\"Times,serif\" font-size=\"14.00\" fill=\"#000000\">entropy = 0.0</text>\n<text text-anchor=\"middle\" x=\"276\" y=\"-119.3\" font-family=\"Times,serif\" font-size=\"14.00\" fill=\"#000000\">samples = 23</text>\n<text text-anchor=\"middle\" x=\"276\" y=\"-104.3\" font-family=\"Times,serif\" font-size=\"14.00\" fill=\"#000000\">value = [23, 0]</text>\n</g>\n<!-- 4&#45;&gt;8 -->\n<g id=\"edge8\" class=\"edge\">\n<title>4&#45;&gt;8</title>\n<path fill=\"none\" stroke=\"#000000\" d=\"M276,-192.9465C276,-182.2621 276,-170.4254 276,-159.5742\"/>\n<polygon fill=\"#000000\" stroke=\"#000000\" points=\"279.5001,-159.5421 276,-149.5422 272.5001,-159.5422 279.5001,-159.5421\"/>\n</g>\n<!-- 6 -->\n<g id=\"node7\" class=\"node\">\n<title>6</title>\n<polygon fill=\"#e58139\" stroke=\"#000000\" points=\"122,-53 0,-53 0,0 122,0 122,-53\"/>\n<text text-anchor=\"middle\" x=\"61\" y=\"-37.8\" font-family=\"Times,serif\" font-size=\"14.00\" fill=\"#000000\">entropy = 0.0</text>\n<text text-anchor=\"middle\" x=\"61\" y=\"-22.8\" font-family=\"Times,serif\" font-size=\"14.00\" fill=\"#000000\">samples = 12</text>\n<text text-anchor=\"middle\" x=\"61\" y=\"-7.8\" font-family=\"Times,serif\" font-size=\"14.00\" fill=\"#000000\">value = [12, 0]</text>\n</g>\n<!-- 5&#45;&gt;6 -->\n<g id=\"edge6\" class=\"edge\">\n<title>5&#45;&gt;6</title>\n<path fill=\"none\" stroke=\"#000000\" d=\"M108.2629,-88.9777C101.4744,-80.0039 94.1404,-70.3089 87.3216,-61.295\"/>\n<polygon fill=\"#000000\" stroke=\"#000000\" points=\"90.059,-59.1121 81.2346,-53.2485 84.4763,-63.3352 90.059,-59.1121\"/>\n</g>\n<!-- 7 -->\n<g id=\"node8\" class=\"node\">\n<title>7</title>\n<polygon fill=\"#eda775\" stroke=\"#000000\" points=\"274,-53 140,-53 140,0 274,0 274,-53\"/>\n<text text-anchor=\"middle\" x=\"207\" y=\"-37.8\" font-family=\"Times,serif\" font-size=\"14.00\" fill=\"#000000\">entropy = 0.784</text>\n<text text-anchor=\"middle\" x=\"207\" y=\"-22.8\" font-family=\"Times,serif\" font-size=\"14.00\" fill=\"#000000\">samples = 30</text>\n<text text-anchor=\"middle\" x=\"207\" y=\"-7.8\" font-family=\"Times,serif\" font-size=\"14.00\" fill=\"#000000\">value = [23, 7]</text>\n</g>\n<!-- 5&#45;&gt;7 -->\n<g id=\"edge7\" class=\"edge\">\n<title>5&#45;&gt;7</title>\n<path fill=\"none\" stroke=\"#000000\" d=\"M159.7371,-88.9777C166.5256,-80.0039 173.8596,-70.3089 180.6784,-61.295\"/>\n<polygon fill=\"#000000\" stroke=\"#000000\" points=\"183.5237,-63.3352 186.7654,-53.2485 177.941,-59.1121 183.5237,-63.3352\"/>\n</g>\n<!-- 10 -->\n<g id=\"node11\" class=\"node\">\n<title>10</title>\n<polygon fill=\"#e78b48\" stroke=\"#000000\" points=\"622,-261 488,-261 488,-193 622,-193 622,-261\"/>\n<text text-anchor=\"middle\" x=\"555\" y=\"-245.8\" font-family=\"Times,serif\" font-size=\"14.00\" fill=\"#000000\">X[6] &lt;= 0.811</text>\n<text text-anchor=\"middle\" x=\"555\" y=\"-230.8\" font-family=\"Times,serif\" font-size=\"14.00\" fill=\"#000000\">entropy = 0.371</text>\n<text text-anchor=\"middle\" x=\"555\" y=\"-215.8\" font-family=\"Times,serif\" font-size=\"14.00\" fill=\"#000000\">samples = 14</text>\n<text text-anchor=\"middle\" x=\"555\" y=\"-200.8\" font-family=\"Times,serif\" font-size=\"14.00\" fill=\"#000000\">value = [13, 1]</text>\n</g>\n<!-- 9&#45;&gt;10 -->\n<g id=\"edge10\" class=\"edge\">\n<title>9&#45;&gt;10</title>\n<path fill=\"none\" stroke=\"#000000\" d=\"M555,-296.9465C555,-288.776 555,-279.9318 555,-271.3697\"/>\n<polygon fill=\"#000000\" stroke=\"#000000\" points=\"558.5001,-271.13 555,-261.13 551.5001,-271.13 558.5001,-271.13\"/>\n</g>\n<!-- 13 -->\n<g id=\"node14\" class=\"node\">\n<title>13</title>\n<polygon fill=\"#fae9dc\" stroke=\"#000000\" points=\"775,-261 641,-261 641,-193 775,-193 775,-261\"/>\n<text text-anchor=\"middle\" x=\"708\" y=\"-245.8\" font-family=\"Times,serif\" font-size=\"14.00\" fill=\"#000000\">X[4] &lt;= 85.5</text>\n<text text-anchor=\"middle\" x=\"708\" y=\"-230.8\" font-family=\"Times,serif\" font-size=\"14.00\" fill=\"#000000\">entropy = 0.993</text>\n<text text-anchor=\"middle\" x=\"708\" y=\"-215.8\" font-family=\"Times,serif\" font-size=\"14.00\" fill=\"#000000\">samples = 31</text>\n<text text-anchor=\"middle\" x=\"708\" y=\"-200.8\" font-family=\"Times,serif\" font-size=\"14.00\" fill=\"#000000\">value = [17, 14]</text>\n</g>\n<!-- 9&#45;&gt;13 -->\n<g id=\"edge13\" class=\"edge\">\n<title>9&#45;&gt;13</title>\n<path fill=\"none\" stroke=\"#000000\" d=\"M605.0979,-296.9465C619.2313,-287.3395 634.7352,-276.8009 649.3233,-266.8848\"/>\n<polygon fill=\"#000000\" stroke=\"#000000\" points=\"651.4868,-269.6463 657.7895,-261.13 647.5517,-263.8571 651.4868,-269.6463\"/>\n</g>\n<!-- 11 -->\n<g id=\"node12\" class=\"node\">\n<title>11</title>\n<polygon fill=\"#e9965a\" stroke=\"#000000\" points=\"489,-149.5 355,-149.5 355,-96.5 489,-96.5 489,-149.5\"/>\n<text text-anchor=\"middle\" x=\"422\" y=\"-134.3\" font-family=\"Times,serif\" font-size=\"14.00\" fill=\"#000000\">entropy = 0.592</text>\n<text text-anchor=\"middle\" x=\"422\" y=\"-119.3\" font-family=\"Times,serif\" font-size=\"14.00\" fill=\"#000000\">samples = 7</text>\n<text text-anchor=\"middle\" x=\"422\" y=\"-104.3\" font-family=\"Times,serif\" font-size=\"14.00\" fill=\"#000000\">value = [6, 1]</text>\n</g>\n<!-- 10&#45;&gt;11 -->\n<g id=\"edge11\" class=\"edge\">\n<title>10&#45;&gt;11</title>\n<path fill=\"none\" stroke=\"#000000\" d=\"M511.4508,-192.9465C496.2375,-181.0504 479.1977,-167.726 464.1043,-155.9237\"/>\n<polygon fill=\"#000000\" stroke=\"#000000\" points=\"465.9769,-152.9449 455.9433,-149.5422 461.6649,-158.4592 465.9769,-152.9449\"/>\n</g>\n<!-- 12 -->\n<g id=\"node13\" class=\"node\">\n<title>12</title>\n<polygon fill=\"#e58139\" stroke=\"#000000\" points=\"623,-149.5 507,-149.5 507,-96.5 623,-96.5 623,-149.5\"/>\n<text text-anchor=\"middle\" x=\"565\" y=\"-134.3\" font-family=\"Times,serif\" font-size=\"14.00\" fill=\"#000000\">entropy = 0.0</text>\n<text text-anchor=\"middle\" x=\"565\" y=\"-119.3\" font-family=\"Times,serif\" font-size=\"14.00\" fill=\"#000000\">samples = 7</text>\n<text text-anchor=\"middle\" x=\"565\" y=\"-104.3\" font-family=\"Times,serif\" font-size=\"14.00\" fill=\"#000000\">value = [7, 0]</text>\n</g>\n<!-- 10&#45;&gt;12 -->\n<g id=\"edge12\" class=\"edge\">\n<title>10&#45;&gt;12</title>\n<path fill=\"none\" stroke=\"#000000\" d=\"M558.2744,-192.9465C559.3017,-182.2621 560.4399,-170.4254 561.4832,-159.5742\"/>\n<polygon fill=\"#000000\" stroke=\"#000000\" points=\"564.9746,-159.8313 562.4479,-149.5422 558.0067,-159.1612 564.9746,-159.8313\"/>\n</g>\n<!-- 14 -->\n<g id=\"node15\" class=\"node\">\n<title>14</title>\n<polygon fill=\"#e88f4f\" stroke=\"#000000\" points=\"775,-149.5 641,-149.5 641,-96.5 775,-96.5 775,-149.5\"/>\n<text text-anchor=\"middle\" x=\"708\" y=\"-134.3\" font-family=\"Times,serif\" font-size=\"14.00\" fill=\"#000000\">entropy = 0.469</text>\n<text text-anchor=\"middle\" x=\"708\" y=\"-119.3\" font-family=\"Times,serif\" font-size=\"14.00\" fill=\"#000000\">samples = 10</text>\n<text text-anchor=\"middle\" x=\"708\" y=\"-104.3\" font-family=\"Times,serif\" font-size=\"14.00\" fill=\"#000000\">value = [9, 1]</text>\n</g>\n<!-- 13&#45;&gt;14 -->\n<g id=\"edge14\" class=\"edge\">\n<title>13&#45;&gt;14</title>\n<path fill=\"none\" stroke=\"#000000\" d=\"M708,-192.9465C708,-182.2621 708,-170.4254 708,-159.5742\"/>\n<polygon fill=\"#000000\" stroke=\"#000000\" points=\"711.5001,-159.5421 708,-149.5422 704.5001,-159.5422 711.5001,-159.5421\"/>\n</g>\n<!-- 15 -->\n<g id=\"node16\" class=\"node\">\n<title>15</title>\n<polygon fill=\"#b3d9f5\" stroke=\"#000000\" points=\"927,-157 793,-157 793,-89 927,-89 927,-157\"/>\n<text text-anchor=\"middle\" x=\"860\" y=\"-141.8\" font-family=\"Times,serif\" font-size=\"14.00\" fill=\"#000000\">X[3] &lt;= 32.5</text>\n<text text-anchor=\"middle\" x=\"860\" y=\"-126.8\" font-family=\"Times,serif\" font-size=\"14.00\" fill=\"#000000\">entropy = 0.959</text>\n<text text-anchor=\"middle\" x=\"860\" y=\"-111.8\" font-family=\"Times,serif\" font-size=\"14.00\" fill=\"#000000\">samples = 21</text>\n<text text-anchor=\"middle\" x=\"860\" y=\"-96.8\" font-family=\"Times,serif\" font-size=\"14.00\" fill=\"#000000\">value = [8, 13]</text>\n</g>\n<!-- 13&#45;&gt;15 -->\n<g id=\"edge15\" class=\"edge\">\n<title>13&#45;&gt;15</title>\n<path fill=\"none\" stroke=\"#000000\" d=\"M757.7705,-192.9465C771.8115,-183.3395 787.214,-172.8009 801.7068,-162.8848\"/>\n<polygon fill=\"#000000\" stroke=\"#000000\" points=\"803.841,-165.6655 810.1177,-157.13 799.8882,-159.8883 803.841,-165.6655\"/>\n</g>\n<!-- 16 -->\n<g id=\"node17\" class=\"node\">\n<title>16</title>\n<polygon fill=\"#72b9ec\" stroke=\"#000000\" points=\"829,-53 695,-53 695,0 829,0 829,-53\"/>\n<text text-anchor=\"middle\" x=\"762\" y=\"-37.8\" font-family=\"Times,serif\" font-size=\"14.00\" fill=\"#000000\">entropy = 0.764</text>\n<text text-anchor=\"middle\" x=\"762\" y=\"-22.8\" font-family=\"Times,serif\" font-size=\"14.00\" fill=\"#000000\">samples = 9</text>\n<text text-anchor=\"middle\" x=\"762\" y=\"-7.8\" font-family=\"Times,serif\" font-size=\"14.00\" fill=\"#000000\">value = [2, 7]</text>\n</g>\n<!-- 15&#45;&gt;16 -->\n<g id=\"edge16\" class=\"edge\">\n<title>15&#45;&gt;16</title>\n<path fill=\"none\" stroke=\"#000000\" d=\"M825.4489,-88.9777C816.0566,-79.7292 805.8864,-69.7147 796.4971,-60.4691\"/>\n<polygon fill=\"#000000\" stroke=\"#000000\" points=\"798.7454,-57.7709 789.1643,-53.2485 793.8339,-62.7587 798.7454,-57.7709\"/>\n</g>\n<!-- 17 -->\n<g id=\"node18\" class=\"node\">\n<title>17</title>\n<polygon fill=\"#ffffff\" stroke=\"#000000\" points=\"963,-53 847,-53 847,0 963,0 963,-53\"/>\n<text text-anchor=\"middle\" x=\"905\" y=\"-37.8\" font-family=\"Times,serif\" font-size=\"14.00\" fill=\"#000000\">entropy = 1.0</text>\n<text text-anchor=\"middle\" x=\"905\" y=\"-22.8\" font-family=\"Times,serif\" font-size=\"14.00\" fill=\"#000000\">samples = 12</text>\n<text text-anchor=\"middle\" x=\"905\" y=\"-7.8\" font-family=\"Times,serif\" font-size=\"14.00\" fill=\"#000000\">value = [6, 6]</text>\n</g>\n<!-- 15&#45;&gt;17 -->\n<g id=\"edge17\" class=\"edge\">\n<title>15&#45;&gt;17</title>\n<path fill=\"none\" stroke=\"#000000\" d=\"M875.8653,-88.9777C879.8792,-80.3702 884.2025,-71.0992 888.2581,-62.402\"/>\n<polygon fill=\"#000000\" stroke=\"#000000\" points=\"891.4723,-63.7907 892.5266,-53.2485 885.1282,-60.8323 891.4723,-63.7907\"/>\n</g>\n<!-- 19 -->\n<g id=\"node20\" class=\"node\">\n<title>19</title>\n<polygon fill=\"#ea985d\" stroke=\"#000000\" points=\"776,-357.5 642,-357.5 642,-304.5 776,-304.5 776,-357.5\"/>\n<text text-anchor=\"middle\" x=\"709\" y=\"-342.3\" font-family=\"Times,serif\" font-size=\"14.00\" fill=\"#000000\">entropy = 0.619</text>\n<text text-anchor=\"middle\" x=\"709\" y=\"-327.3\" font-family=\"Times,serif\" font-size=\"14.00\" fill=\"#000000\">samples = 13</text>\n<text text-anchor=\"middle\" x=\"709\" y=\"-312.3\" font-family=\"Times,serif\" font-size=\"14.00\" fill=\"#000000\">value = [11, 2]</text>\n</g>\n<!-- 18&#45;&gt;19 -->\n<g id=\"edge19\" class=\"edge\">\n<title>18&#45;&gt;19</title>\n<path fill=\"none\" stroke=\"#000000\" d=\"M709,-400.9465C709,-390.2621 709,-378.4254 709,-367.5742\"/>\n<polygon fill=\"#000000\" stroke=\"#000000\" points=\"712.5001,-367.5421 709,-357.5422 705.5001,-367.5422 712.5001,-367.5421\"/>\n</g>\n<!-- 20 -->\n<g id=\"node21\" class=\"node\">\n<title>20</title>\n<polygon fill=\"#8bc6f0\" stroke=\"#000000\" points=\"928,-365 794,-365 794,-297 928,-297 928,-365\"/>\n<text text-anchor=\"middle\" x=\"861\" y=\"-349.8\" font-family=\"Times,serif\" font-size=\"14.00\" fill=\"#000000\">X[3] &lt;= 20.0</text>\n<text text-anchor=\"middle\" x=\"861\" y=\"-334.8\" font-family=\"Times,serif\" font-size=\"14.00\" fill=\"#000000\">entropy = 0.872</text>\n<text text-anchor=\"middle\" x=\"861\" y=\"-319.8\" font-family=\"Times,serif\" font-size=\"14.00\" fill=\"#000000\">samples = 82</text>\n<text text-anchor=\"middle\" x=\"861\" y=\"-304.8\" font-family=\"Times,serif\" font-size=\"14.00\" fill=\"#000000\">value = [24, 58]</text>\n</g>\n<!-- 18&#45;&gt;20 -->\n<g id=\"edge20\" class=\"edge\">\n<title>18&#45;&gt;20</title>\n<path fill=\"none\" stroke=\"#000000\" d=\"M758.7705,-400.9465C772.8115,-391.3395 788.214,-380.8009 802.7068,-370.8848\"/>\n<polygon fill=\"#000000\" stroke=\"#000000\" points=\"804.841,-373.6655 811.1177,-365.13 800.8882,-367.8883 804.841,-373.6655\"/>\n</g>\n<!-- 21 -->\n<g id=\"node22\" class=\"node\">\n<title>21</title>\n<polygon fill=\"#f2c09c\" stroke=\"#000000\" points=\"928,-253.5 794,-253.5 794,-200.5 928,-200.5 928,-253.5\"/>\n<text text-anchor=\"middle\" x=\"861\" y=\"-238.3\" font-family=\"Times,serif\" font-size=\"14.00\" fill=\"#000000\">entropy = 0.918</text>\n<text text-anchor=\"middle\" x=\"861\" y=\"-223.3\" font-family=\"Times,serif\" font-size=\"14.00\" fill=\"#000000\">samples = 9</text>\n<text text-anchor=\"middle\" x=\"861\" y=\"-208.3\" font-family=\"Times,serif\" font-size=\"14.00\" fill=\"#000000\">value = [6, 3]</text>\n</g>\n<!-- 20&#45;&gt;21 -->\n<g id=\"edge21\" class=\"edge\">\n<title>20&#45;&gt;21</title>\n<path fill=\"none\" stroke=\"#000000\" d=\"M861,-296.9465C861,-286.2621 861,-274.4254 861,-263.5742\"/>\n<polygon fill=\"#000000\" stroke=\"#000000\" points=\"864.5001,-263.5421 861,-253.5422 857.5001,-263.5422 864.5001,-263.5421\"/>\n</g>\n<!-- 22 -->\n<g id=\"node23\" class=\"node\">\n<title>22</title>\n<polygon fill=\"#7abdee\" stroke=\"#000000\" points=\"1080,-261 946,-261 946,-193 1080,-193 1080,-261\"/>\n<text text-anchor=\"middle\" x=\"1013\" y=\"-245.8\" font-family=\"Times,serif\" font-size=\"14.00\" fill=\"#000000\">X[1] &lt;= 133.5</text>\n<text text-anchor=\"middle\" x=\"1013\" y=\"-230.8\" font-family=\"Times,serif\" font-size=\"14.00\" fill=\"#000000\">entropy = 0.806</text>\n<text text-anchor=\"middle\" x=\"1013\" y=\"-215.8\" font-family=\"Times,serif\" font-size=\"14.00\" fill=\"#000000\">samples = 73</text>\n<text text-anchor=\"middle\" x=\"1013\" y=\"-200.8\" font-family=\"Times,serif\" font-size=\"14.00\" fill=\"#000000\">value = [18, 55]</text>\n</g>\n<!-- 20&#45;&gt;22 -->\n<g id=\"edge22\" class=\"edge\">\n<title>20&#45;&gt;22</title>\n<path fill=\"none\" stroke=\"#000000\" d=\"M910.7705,-296.9465C924.8115,-287.3395 940.214,-276.8009 954.7068,-266.8848\"/>\n<polygon fill=\"#000000\" stroke=\"#000000\" points=\"956.841,-269.6655 963.1177,-261.13 952.8882,-263.8883 956.841,-269.6655\"/>\n</g>\n<!-- 23 -->\n<g id=\"node24\" class=\"node\">\n<title>23</title>\n<polygon fill=\"#399de5\" stroke=\"#000000\" points=\"1066,-149.5 950,-149.5 950,-96.5 1066,-96.5 1066,-149.5\"/>\n<text text-anchor=\"middle\" x=\"1008\" y=\"-134.3\" font-family=\"Times,serif\" font-size=\"14.00\" fill=\"#000000\">entropy = 0.0</text>\n<text text-anchor=\"middle\" x=\"1008\" y=\"-119.3\" font-family=\"Times,serif\" font-size=\"14.00\" fill=\"#000000\">samples = 9</text>\n<text text-anchor=\"middle\" x=\"1008\" y=\"-104.3\" font-family=\"Times,serif\" font-size=\"14.00\" fill=\"#000000\">value = [0, 9]</text>\n</g>\n<!-- 22&#45;&gt;23 -->\n<g id=\"edge23\" class=\"edge\">\n<title>22&#45;&gt;23</title>\n<path fill=\"none\" stroke=\"#000000\" d=\"M1011.3628,-192.9465C1010.8491,-182.2621 1010.2801,-170.4254 1009.7584,-159.5742\"/>\n<polygon fill=\"#000000\" stroke=\"#000000\" points=\"1013.2523,-159.3625 1009.2761,-149.5422 1006.2604,-159.6987 1013.2523,-159.3625\"/>\n</g>\n<!-- 24 -->\n<g id=\"node25\" class=\"node\">\n<title>24</title>\n<polygon fill=\"#86c3ef\" stroke=\"#000000\" points=\"1218,-157 1084,-157 1084,-89 1218,-89 1218,-157\"/>\n<text text-anchor=\"middle\" x=\"1151\" y=\"-141.8\" font-family=\"Times,serif\" font-size=\"14.00\" fill=\"#000000\">X[7] &lt;= 25.5</text>\n<text text-anchor=\"middle\" x=\"1151\" y=\"-126.8\" font-family=\"Times,serif\" font-size=\"14.00\" fill=\"#000000\">entropy = 0.857</text>\n<text text-anchor=\"middle\" x=\"1151\" y=\"-111.8\" font-family=\"Times,serif\" font-size=\"14.00\" fill=\"#000000\">samples = 64</text>\n<text text-anchor=\"middle\" x=\"1151\" y=\"-96.8\" font-family=\"Times,serif\" font-size=\"14.00\" fill=\"#000000\">value = [18, 46]</text>\n</g>\n<!-- 22&#45;&gt;24 -->\n<g id=\"edge24\" class=\"edge\">\n<title>22&#45;&gt;24</title>\n<path fill=\"none\" stroke=\"#000000\" d=\"M1058.1864,-192.9465C1070.815,-183.4293 1084.6567,-172.9978 1097.7068,-163.163\"/>\n<polygon fill=\"#000000\" stroke=\"#000000\" points=\"1099.8325,-165.9437 1105.7121,-157.13 1095.6195,-160.3534 1099.8325,-165.9437\"/>\n</g>\n<!-- 25 -->\n<g id=\"node26\" class=\"node\">\n<title>25</title>\n<polygon fill=\"#399de5\" stroke=\"#000000\" points=\"1137,-53 1021,-53 1021,0 1137,0 1137,-53\"/>\n<text text-anchor=\"middle\" x=\"1079\" y=\"-37.8\" font-family=\"Times,serif\" font-size=\"14.00\" fill=\"#000000\">entropy = 0.0</text>\n<text text-anchor=\"middle\" x=\"1079\" y=\"-22.8\" font-family=\"Times,serif\" font-size=\"14.00\" fill=\"#000000\">samples = 8</text>\n<text text-anchor=\"middle\" x=\"1079\" y=\"-7.8\" font-family=\"Times,serif\" font-size=\"14.00\" fill=\"#000000\">value = [0, 8]</text>\n</g>\n<!-- 24&#45;&gt;25 -->\n<g id=\"edge25\" class=\"edge\">\n<title>24&#45;&gt;25</title>\n<path fill=\"none\" stroke=\"#000000\" d=\"M1125.6155,-88.9777C1118.92,-80.0039 1111.6865,-70.3089 1104.961,-61.295\"/>\n<polygon fill=\"#000000\" stroke=\"#000000\" points=\"1107.7427,-59.1704 1098.9574,-53.2485 1102.1323,-63.3565 1107.7427,-59.1704\"/>\n</g>\n<!-- 26 -->\n<g id=\"node27\" class=\"node\">\n<title>26</title>\n<polygon fill=\"#97cbf1\" stroke=\"#000000\" points=\"1289,-53 1155,-53 1155,0 1289,0 1289,-53\"/>\n<text text-anchor=\"middle\" x=\"1222\" y=\"-37.8\" font-family=\"Times,serif\" font-size=\"14.00\" fill=\"#000000\">entropy = 0.906</text>\n<text text-anchor=\"middle\" x=\"1222\" y=\"-22.8\" font-family=\"Times,serif\" font-size=\"14.00\" fill=\"#000000\">samples = 56</text>\n<text text-anchor=\"middle\" x=\"1222\" y=\"-7.8\" font-family=\"Times,serif\" font-size=\"14.00\" fill=\"#000000\">value = [18, 38]</text>\n</g>\n<!-- 24&#45;&gt;26 -->\n<g id=\"edge26\" class=\"edge\">\n<title>24&#45;&gt;26</title>\n<path fill=\"none\" stroke=\"#000000\" d=\"M1176.0319,-88.9777C1182.5671,-80.0954 1189.622,-70.5067 1196.1964,-61.5711\"/>\n<polygon fill=\"#000000\" stroke=\"#000000\" points=\"1199.2126,-63.3775 1202.3198,-53.2485 1193.5743,-59.229 1199.2126,-63.3775\"/>\n</g>\n</g>\n</svg>\n"
     },
     "metadata": {}
    }
   ],
   "execution_count": null
  },
  {
   "cell_type": "markdown",
   "source": "#### Use the graph above to answer the questions below",
   "metadata": {
    "colab_type": "text",
    "id": "4iz4meWDVmo2",
    "cell_id": "00018-d531e6b3-0be6-4593-911a-1697ac904853",
    "deepnote_cell_type": "markdown"
   }
  },
  {
   "cell_type": "markdown",
   "source": "Question 1: What do you think X[n] represents in the nodes from the graph?\n\nIt represents the true positive rate at the nth element in the tree",
   "metadata": {
    "colab_type": "text",
    "id": "u1yM9h10WUEv",
    "cell_id": "00019-51773616-e8a0-44ba-9e36-d70097fa5655",
    "deepnote_cell_type": "markdown"
   }
  },
  {
   "cell_type": "markdown",
   "source": "Question 2: What is the root feature? Does it make sense as the root feature?\n\nX[1] <= 127.5, yes because you are comparing the x-values at the first n-value.",
   "metadata": {
    "colab_type": "text",
    "id": "rA7B0oTaWUIe",
    "cell_id": "00020-2deceefe-565a-4b18-8401-7c83ec9bda5e",
    "deepnote_cell_type": "markdown"
   }
  },
  {
   "cell_type": "markdown",
   "source": "Question 3: If you were to change the parameters to have a max_depth of 500 and min_samples_leaf of 1, what do you think the effect would be on the test accuracy? Training accuracy?\n\n\nThe testing accuracy would be too high signaling that the model overfits the data. The training accuracy would be very close to the testing accuracy also signaling that the model overfits the data.",
   "metadata": {
    "colab_type": "text",
    "id": "1t559pS3ZHES",
    "cell_id": "00021-e29e7b88-9eaf-4236-8c1d-c18d93258c0b",
    "deepnote_cell_type": "markdown"
   }
  },
  {
   "cell_type": "markdown",
   "source": "**Test your guesses, create a model with max_depth=500 and min_samples_leaf=1, and predict values for the training and validation data**",
   "metadata": {
    "colab_type": "text",
    "id": "7dnlqId2bIcR",
    "cell_id": "00022-ed72e79c-1fb3-44cb-b533-d47d428bf747",
    "deepnote_cell_type": "markdown"
   }
  },
  {
   "cell_type": "code",
   "metadata": {
    "colab": {
     "autoexec": {
      "startup": false,
      "wait_interval": 0
     },
     "base_uri": "https://localhost:8080/",
     "height": 17
    },
    "colab_type": "code",
    "executionInfo": {
     "elapsed": 235,
     "status": "ok",
     "timestamp": 1530627843330,
     "user": {
      "displayName": "john passarelli",
      "photoUrl": "https://lh3.googleusercontent.com/a/default-user=s128",
      "userId": "102241934905781120798"
     },
     "user_tz": 240
    },
    "id": "hnUQKX9vl9Gy",
    "outputId": "ebaa5e52-a33f-4749-a3f6-6a3fde24da1f",
    "cell_id": "00023-49fb46da-e9bc-4bf3-a37f-ba7898041e16",
    "deepnote_to_be_reexecuted": false,
    "source_hash": "e1e2b86e",
    "execution_start": 1625691726866,
    "execution_millis": 8,
    "deepnote_cell_type": "code"
   },
   "source": "new_tree_model = DecisionTreeClassifier(criterion=\"entropy\", random_state = 0,\n                               max_depth=500, min_samples_leaf=1)\nnew_tree_model.fit(X_train, y_train)",
   "outputs": [
    {
     "output_type": "execute_result",
     "execution_count": 10,
     "data": {
      "text/plain": "DecisionTreeClassifier(criterion='entropy', max_depth=500, random_state=0)"
     },
     "metadata": {}
    }
   ],
   "execution_count": null
  },
  {
   "cell_type": "code",
   "source": "y_train_pred=new_tree_model.predict(X_train)\nprint(\"Training Accuracy is \", accuracy_score(y_train, y_train_pred)*100)\ny_val_pred=new_tree_model.predict(X_val)\nprint(\"Validation Accuracy is \", accuracy_score(y_val,y_val_pred)*100)",
   "metadata": {
    "tags": [],
    "cell_id": "00025-8ec52576-21a4-4cdd-8341-2b455475b1e0",
    "deepnote_to_be_reexecuted": false,
    "source_hash": "5f247cf8",
    "execution_start": 1625691726867,
    "execution_millis": 7,
    "deepnote_cell_type": "code"
   },
   "outputs": [
    {
     "name": "stdout",
     "text": "Training Accuracy is  100.0\nValidation Accuracy is  80.95238095238095\n",
     "output_type": "stream"
    }
   ],
   "execution_count": null
  },
  {
   "cell_type": "markdown",
   "source": "# Random Forest",
   "metadata": {
    "colab_type": "text",
    "id": "40Psyt65pD8p",
    "cell_id": "00024-f6243122-11c3-4e0e-b411-2261dd2a6ce6",
    "deepnote_cell_type": "markdown"
   }
  },
  {
   "cell_type": "markdown",
   "source": "## Creating Model\n\nCreate a model with sklearn's RandomForestClassifier and predict values on your validation set.",
   "metadata": {
    "colab_type": "text",
    "id": "mjLu1MLIpGNF",
    "cell_id": "00025-9ac59e6e-64f7-43cb-9dc9-ee4523ef3599",
    "deepnote_cell_type": "markdown"
   }
  },
  {
   "cell_type": "code",
   "metadata": {
    "colab": {
     "autoexec": {
      "startup": false,
      "wait_interval": 0
     },
     "base_uri": "https://localhost:8080/",
     "height": 37
    },
    "colab_type": "code",
    "executionInfo": {
     "elapsed": 318,
     "status": "ok",
     "timestamp": 1530627847311,
     "user": {
      "displayName": "john passarelli",
      "photoUrl": "https://lh3.googleusercontent.com/a/default-user=s128",
      "userId": "102241934905781120798"
     },
     "user_tz": 240
    },
    "id": "TYwbpWxUfDIY",
    "outputId": "0008a18f-a9e3-4c04-b42e-adc8ce9aa966",
    "cell_id": "00026-de694ae1-f14e-428e-a672-14f3cfa91f97",
    "deepnote_to_be_reexecuted": false,
    "source_hash": "6d97d4f7",
    "execution_start": 1625691726928,
    "execution_millis": 202,
    "deepnote_cell_type": "code"
   },
   "source": "# Creating a model w sklearn's RandomForestClassifier\nrandom_forest = RandomForestClassifier(n_estimators=100)\n\n# Training/fitting the model with training data\nrandom_forest.fit(X_train, y_train)",
   "outputs": [
    {
     "output_type": "execute_result",
     "execution_count": 12,
     "data": {
      "text/plain": "RandomForestClassifier()"
     },
     "metadata": {}
    }
   ],
   "execution_count": null
  },
  {
   "cell_type": "markdown",
   "source": "Print accuracy of training and validation data.",
   "metadata": {
    "colab_type": "text",
    "id": "6Ys_J3O4pd0u",
    "cell_id": "00027-37ee0acc-7ffe-4b8a-b287-d02e0827e18e",
    "deepnote_cell_type": "markdown"
   }
  },
  {
   "cell_type": "code",
   "metadata": {
    "colab": {
     "autoexec": {
      "startup": false,
      "wait_interval": 0
     },
     "base_uri": "https://localhost:8080/",
     "height": 17
    },
    "colab_type": "code",
    "executionInfo": {
     "elapsed": 337,
     "status": "ok",
     "timestamp": 1530627851278,
     "user": {
      "displayName": "john passarelli",
      "photoUrl": "https://lh3.googleusercontent.com/a/default-user=s128",
      "userId": "102241934905781120798"
     },
     "user_tz": 240
    },
    "id": "aQdfjEWdfDOH",
    "outputId": "751008b5-156c-4bea-d599-37f84bd1b60c",
    "cell_id": "00028-6dc8051a-5dab-40fd-8577-1a964ad85ec1",
    "deepnote_to_be_reexecuted": false,
    "source_hash": "22cff500",
    "execution_start": 1625691727127,
    "execution_millis": 53,
    "deepnote_cell_type": "code"
   },
   "source": "# Printing accuracy of testing & training data\ny_train_pred=random_forest.predict(X_train)\nprint(\"Training Accuracy is \", accuracy_score(y_train, y_train_pred)*100)\ny_val_pred=random_forest.predict(X_val)\nprint(\"Validation Accuracy is \", accuracy_score(y_val,y_val_pred)*100)",
   "outputs": [
    {
     "name": "stdout",
     "text": "Training Accuracy is  100.0\nValidation Accuracy is  77.77777777777779\n",
     "output_type": "stream"
    }
   ],
   "execution_count": null
  },
  {
   "cell_type": "markdown",
   "source": "How did the accuracy compare to the decision tree's accuracy?\n\nThe forest's validaton accuracy is random. In this example, it is lower than the decision tree's validation acccuracy\n\nThe forest's training accuracy is consistently higher than the decision tree's training accuracy.",
   "metadata": {
    "cell_id": "00029-e39ef078-6e30-45dd-926b-bbb507b140eb",
    "deepnote_cell_type": "markdown"
   }
  },
  {
   "cell_type": "markdown",
   "source": "Print the 3 most important features (hint: sklearn has an attribute to help you find these)",
   "metadata": {
    "colab_type": "text",
    "id": "jGlSHxuUqAnX",
    "cell_id": "00030-5e94d202-3299-4773-8fe0-f4448bcb9862",
    "deepnote_cell_type": "markdown"
   }
  },
  {
   "cell_type": "code",
   "metadata": {
    "colab": {
     "autoexec": {
      "startup": false,
      "wait_interval": 0
     },
     "base_uri": "https://localhost:8080/",
     "height": 17
    },
    "colab_type": "code",
    "executionInfo": {
     "elapsed": 448,
     "status": "ok",
     "timestamp": 1530627855691,
     "user": {
      "displayName": "john passarelli",
      "photoUrl": "https://lh3.googleusercontent.com/a/default-user=s128",
      "userId": "102241934905781120798"
     },
     "user_tz": 240
    },
    "id": "5rVekWn0qw3r",
    "outputId": "d5e516d3-4f91-4394-b2e5-f26427b404ef",
    "cell_id": "00031-8c53bed0-f3ad-4d2c-9d15-a2d331c52695",
    "deepnote_to_be_reexecuted": false,
    "source_hash": "fc016dfd",
    "execution_start": 1625691745337,
    "execution_millis": 11,
    "deepnote_cell_type": "code"
   },
   "source": "## YOUR CODE HERE\nrandom_forest.feature_importances_\n#names = ['preg', 'plas', 'pres', 'skin', 'test', 'mass', 'pedi', 'age', 'class']\n",
   "outputs": [
    {
     "output_type": "execute_result",
     "execution_count": 17,
     "data": {
      "text/plain": "array([0.0786141 , 0.22936579, 0.07737566, 0.08481372, 0.16645571,\n       0.11112532, 0.11172835, 0.14052134])"
     },
     "metadata": {}
    }
   ],
   "execution_count": null
  },
  {
   "cell_type": "markdown",
   "source": "The most important features in the decision tree are: plas,&nbsp;test, age.",
   "metadata": {
    "tags": [],
    "cell_id": "00035-be47cefc-dd44-44f4-9f57-a69c9d100ffb",
    "deepnote_cell_type": "text-cell-p"
   }
  },
  {
   "cell_type": "markdown",
   "source": "Find the accuracy for random forests with 1 to 100 trees, counting by 5. Print and then plot these accuracies.",
   "metadata": {
    "colab_type": "text",
    "id": "lynu8pLDtd0S",
    "cell_id": "00032-b66c2556-892c-4fe8-8399-f5699345b768",
    "deepnote_cell_type": "markdown"
   }
  },
  {
   "cell_type": "code",
   "metadata": {
    "colab": {
     "autoexec": {
      "startup": false,
      "wait_interval": 0
     },
     "base_uri": "https://localhost:8080/",
     "height": 17
    },
    "colab_type": "code",
    "executionInfo": {
     "elapsed": 371,
     "status": "ok",
     "timestamp": 1530627860158,
     "user": {
      "displayName": "john passarelli",
      "photoUrl": "https://lh3.googleusercontent.com/a/default-user=s128",
      "userId": "102241934905781120798"
     },
     "user_tz": 240
    },
    "id": "e2hG7npcuM7f",
    "outputId": "fb9e32ed-fb17-462e-a2f2-8db7964bb3d7",
    "cell_id": "00033-cc17e767-e961-47c5-b451-f98211db658d",
    "deepnote_to_be_reexecuted": false,
    "source_hash": "75b8b019",
    "execution_start": 1625691750655,
    "execution_millis": 5504,
    "deepnote_cell_type": "code"
   },
   "source": "## YOUR CODE HERE\n\nxvals = []\nyvals = []\n\nfor i in range(1, 100, 5):\n\n    # Creating a model w sklearn's RandomForestClassifier\n    random_forest1 = RandomForestClassifier(n_estimators=100)\n\n    # Training/fitting the model with training data\n    random_forest1.fit(X_train, y_train)\n\n    # Printing accuracy of testing & training data\n    y_train_pred=random_forest1.predict(X_train)\n    print(\"Training Accuracy is \", accuracy_score(y_train, y_train_pred)*100)\n\n\n    y_val_pred=random_forest1.predict(X_val)\n    print(\"Validation Accuracy is \", accuracy_score(y_val,y_val_pred)*100)\n    yvals.append(accuracy_score(y_val,y_val_pred))\n    \n    xvals.append(i)\n\n    print()\n\n\nplt.plot(xvals, yvals)",
   "outputs": [
    {
     "name": "stdout",
     "text": "Training Accuracy is  100.0\nValidation Accuracy is  79.36507936507937\n\nTraining Accuracy is  100.0\nValidation Accuracy is  76.19047619047619\n\nTraining Accuracy is  100.0\nValidation Accuracy is  77.77777777777779\n\nTraining Accuracy is  100.0\nValidation Accuracy is  85.71428571428571\n\nTraining Accuracy is  100.0\nValidation Accuracy is  79.36507936507937\n\nTraining Accuracy is  100.0\nValidation Accuracy is  76.19047619047619\n\nTraining Accuracy is  100.0\nValidation Accuracy is  79.36507936507937\n\nTraining Accuracy is  100.0\nValidation Accuracy is  82.53968253968253\n\nTraining Accuracy is  100.0\nValidation Accuracy is  77.77777777777779\n\nTraining Accuracy is  100.0\nValidation Accuracy is  77.77777777777779\n\nTraining Accuracy is  100.0\nValidation Accuracy is  73.01587301587301\n\nTraining Accuracy is  100.0\nValidation Accuracy is  82.53968253968253\n\nTraining Accuracy is  100.0\nValidation Accuracy is  79.36507936507937\n\nTraining Accuracy is  100.0\nValidation Accuracy is  84.12698412698413\n\nTraining Accuracy is  100.0\nValidation Accuracy is  76.19047619047619\n\nTraining Accuracy is  100.0\nValidation Accuracy is  82.53968253968253\n\nTraining Accuracy is  100.0\nValidation Accuracy is  84.12698412698413\n\nTraining Accuracy is  100.0\nValidation Accuracy is  80.95238095238095\n\nTraining Accuracy is  100.0\nValidation Accuracy is  77.77777777777779\n\nTraining Accuracy is  100.0\nValidation Accuracy is  80.95238095238095\n\n",
     "output_type": "stream"
    },
    {
     "output_type": "execute_result",
     "execution_count": 18,
     "data": {
      "text/plain": "[<matplotlib.lines.Line2D at 0x7fd23928b190>]"
     },
     "metadata": {}
    },
    {
     "data": {
      "text/plain": "<Figure size 432x288 with 1 Axes>",
      "image/png": "[encoded data removed]"
     },
     "metadata": {
      "needs_background": "light",
      "image/png": {
       "width": 385,
       "height": 248
      }
     },
     "output_type": "display_data"
    }
   ],
   "execution_count": null
  },
  {
   "cell_type": "markdown",
   "source": "Plot the roc_curve using predict_proba a function for our random forest model, and metrics.roc_curve\n\nIt might help to google these functions and look at sklearn's documentation.",
   "metadata": {
    "cell_id": "00034-e51aa614-cd4a-40a3-9dcd-64e7966fbf1c",
    "deepnote_cell_type": "markdown"
   }
  },
  {
   "cell_type": "code",
   "metadata": {
    "cell_id": "00035-104f4dee-fe87-4866-ad6c-d7b4b3d97e90",
    "deepnote_to_be_reexecuted": false,
    "source_hash": "4a0a5b2c",
    "execution_start": 1625691756166,
    "execution_millis": 23,
    "deepnote_cell_type": "code"
   },
   "source": "## YOUR CODE HERE\n\nlabels = [0,1]\ny_val_prob = random_forest.predict_proba(X_val)\n\n\n# Calculate the FPR and TPR at varying thresholds (assume label 1 is the \"postive\" class)\nfpr, tpr, thresholds = metrics.roc_curve(y_val, y_val_prob[:,1])\n\n# Calculate the area under the ROC curve\nroc_auc = metrics.auc(fpr, tpr)",
   "outputs": [],
   "execution_count": null
  },
  {
   "cell_type": "code",
   "source": "## YOUR CODE HERE\n\n# Plot the ROC curve\nplt.figure(figsize=(6,6))\nlw = 2\nplt.plot(fpr, tpr, color='darkorange',\n         lw=lw, label='ROC curve (area = %0.2f)' % roc_auc)\nplt.plot([0, 1], [0, 1], color='navy', lw=lw, linestyle='--')\nplt.xlim([0.0, 1.0])\nplt.ylim([0.0, 1.0])\nplt.xlabel('False Positive Rate')\nplt.ylabel('True Positive Rate')\nplt.title('Receiver operating characteristic')\nplt.legend(loc=\"lower right\")\nplt.show()",
   "metadata": {
    "tags": [],
    "cell_id": "00038-0b7a0395-f871-4de4-9ebc-752511495a9d",
    "deepnote_to_be_reexecuted": false,
    "source_hash": "14ed178c",
    "execution_start": 1625691756208,
    "execution_millis": 219,
    "deepnote_cell_type": "code"
   },
   "outputs": [
    {
     "data": {
      "text/plain": "<Figure size 432x432 with 1 Axes>",
      "image/png": "[encoded data removed]"
     },
     "metadata": {
      "needs_background": "light",
      "image/png": {
       "width": 394,
       "height": 387
      }
     },
     "output_type": "display_data"
    }
   ],
   "execution_count": null
  },
  {
   "cell_type": "code",
   "source": "",
   "metadata": {
    "tags": [],
    "cell_id": "00039-7d2769e2-0388-46b6-948b-90f3e857e795",
    "deepnote_to_be_reexecuted": true,
    "source_hash": "b623e53d",
    "deepnote_cell_type": "code"
   },
   "outputs": [],
   "execution_count": null
  },
  {
   "cell_type": "markdown",
   "source": "<a style='text-decoration:none;line-height:16px;display:flex;color:#5B5B62;padding:10px;justify-content:end;' href='https://deepnote.com?utm_source=created-in-deepnote-cell&projectId=87ac0e45-1ead-4d49-81f5-83b26292767f' target=\"_blank\">\n<img alt='Created in deepnote.com' style='display:inline;max-height:16px;margin:0px;margin-right:7.5px;' src='data:image/svg+xml;base64,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' > </img>\nCreated in <span style='font-weight:600;margin-left:4px;'>Deepnote</span></a>",
   "metadata": {
    "tags": [],
    "created_in_deepnote_cell": true,
    "deepnote_cell_type": "markdown"
   }
  }
 ],
 "nbformat": 4,
 "nbformat_minor": 1,
 "metadata": {
  "colab": {
   "collapsed_sections": [],
   "default_view": {},
   "name": "DecisionTreeWorksheetStudent",
   "provenance": [
    {
     "file_id": "165CSmT99w4_Sv1UENIyvIkH7ZEw2Xeh8",
     "timestamp": 1527780043079
    }
   ],
   "version": "0.3.2",
   "views": {}
  },
  "kernelspec": {
   "display_name": "Python 3",
   "language": "python",
   "name": "python3"
  },
  "language_info": {
   "codemirror_mode": {
    "name": "ipython",
    "version": 3
   },
   "file_extension": ".py",
   "mimetype": "text/x-python",
   "name": "python",
   "nbconvert_exporter": "python",
   "pygments_lexer": "ipython3",
   "version": "3.7.3"
  },
  "deepnote_notebook_id": "5160454b-8d9a-4d65-91ef-99b6d4c100e8",
  "deepnote": {},
  "deepnote_execution_queue": []
 }
}