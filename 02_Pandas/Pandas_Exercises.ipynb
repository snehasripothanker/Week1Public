{
 "cells": [
  {
   "cell_type": "markdown",
   "source": "# Pandas Exercises",
   "metadata": {
    "colab_type": "text",
    "id": "bSU6eKZTdMXZ",
    "cell_id": "00000-a1a70b45-4173-41c3-bd0f-1c7334aedbc1",
    "deepnote_cell_type": "markdown"
   }
  },
  {
   "cell_type": "code",
   "metadata": {
    "colab_type": "code",
    "id": "c5ewTg7vdQFm",
    "colab": {},
    "cell_id": "00001-c6d0491e-81bf-48bb-9f7d-2474bd25924c",
    "deepnote_to_be_reexecuted": false,
    "source_hash": "73161b4",
    "execution_start": 1625597752901,
    "execution_millis": 4,
    "deepnote_cell_type": "code"
   },
   "source": "import pandas as pd\n\nurl = \"https://raw.githubusercontent.com/BeaverWorksMedlytics2020/Data_Public/master/NotebookExampleData/Week1/diabetes.csv\"\nnames = ['preg', 'plas', 'pres', 'skin', 'test', 'mass', 'pedi', 'age', 'class']",
   "execution_count": null,
   "outputs": []
  },
  {
   "cell_type": "markdown",
   "source": "Read in csv above to a pandas dataframe",
   "metadata": {
    "colab_type": "text",
    "id": "QOLgFaSKeShR",
    "cell_id": "00002-042a372d-c00c-4c1f-ac93-787afa44b1e9",
    "deepnote_cell_type": "markdown"
   }
  },
  {
   "cell_type": "code",
   "metadata": {
    "colab_type": "code",
    "id": "Okcb8dnXeX2C",
    "colab": {},
    "cell_id": "00003-3853efa3-180b-4c70-8be9-3a18524779a8",
    "deepnote_to_be_reexecuted": false,
    "source_hash": "5a4e7785",
    "execution_start": 1625598687376,
    "execution_millis": 104,
    "deepnote_cell_type": "code"
   },
   "source": "# YOUR CODE HERE\n\ndata = pd.read_csv(url, names = names)\n",
   "execution_count": null,
   "outputs": []
  },
  {
   "cell_type": "markdown",
   "source": "Print out the age and class of the 100th patient",
   "metadata": {
    "colab_type": "text",
    "id": "d4DyOsuoewE2",
    "cell_id": "00004-7ec9296d-24bf-4019-8f5a-c844c6b8cb1a",
    "deepnote_cell_type": "markdown"
   }
  },
  {
   "cell_type": "code",
   "metadata": {
    "colab_type": "code",
    "id": "xZqBsg39eY8_",
    "colab": {},
    "cell_id": "00005-0056ddb4-3287-41f8-834d-5ece93cf6909",
    "deepnote_to_be_reexecuted": false,
    "source_hash": "3e2e723c",
    "execution_start": 1625598050606,
    "execution_millis": 8,
    "deepnote_cell_type": "code"
   },
   "source": "# YOUR CODE HERE\n\nprint(data.loc[99, 'age'])\nprint(data.loc[99, 'class'])",
   "execution_count": null,
   "outputs": [
    {
     "name": "stdout",
     "text": "31\n1\n",
     "output_type": "stream"
    }
   ]
  },
  {
   "cell_type": "markdown",
   "source": "Write code to figure out how many people are classified as not having diabetes, class is 0",
   "metadata": {
    "colab_type": "text",
    "id": "j8L2EM-5iOWc",
    "cell_id": "00006-82daaf2f-3e31-463a-9b7a-53799ab84fef",
    "deepnote_cell_type": "markdown"
   }
  },
  {
   "cell_type": "code",
   "metadata": {
    "colab_type": "code",
    "id": "vohzS51WiWvD",
    "colab": {},
    "cell_id": "00007-2d900e3b-23a6-403c-9bde-7e09d0510fcd",
    "deepnote_to_be_reexecuted": false,
    "source_hash": "abc070e1",
    "execution_start": 1625598905285,
    "execution_millis": 7,
    "deepnote_cell_type": "code"
   },
   "source": "# YOUR CODE HERE\n\ndata_diabetes_boolean = data['class'] == 0\n\nfiltered_dataframe_by_class = data[data_diabetes_boolean]\nlen(filtered_dataframe_by_class)",
   "execution_count": null,
   "outputs": [
    {
     "output_type": "execute_result",
     "execution_count": 62,
     "data": {
      "text/plain": "500"
     },
     "metadata": {}
    }
   ]
  },
  {
   "cell_type": "markdown",
   "source": "Write code to figure out how many people are classified as having diabetes, class is 1",
   "metadata": {
    "colab_type": "text",
    "id": "ieGRz4iiiX4E",
    "cell_id": "00008-389ce810-0027-4af4-b4bf-a5bdc38c1573",
    "deepnote_cell_type": "markdown"
   }
  },
  {
   "cell_type": "code",
   "metadata": {
    "colab_type": "code",
    "id": "-jq2O-vriXRT",
    "colab": {},
    "cell_id": "00009-5eb55bcc-0b10-4a59-a3de-fad689a23fe1",
    "deepnote_to_be_reexecuted": false,
    "source_hash": "541292cd",
    "execution_start": 1625598760771,
    "execution_millis": 5,
    "deepnote_cell_type": "code"
   },
   "source": "# YOUR CODE HERE\n\ndata_diabetes_boolean = data['class'] == 1\n\nfiltered_dataframe_by_class = data[data_diabetes_boolean]\nlen(filtered_dataframe_by_class)",
   "execution_count": null,
   "outputs": [
    {
     "output_type": "execute_result",
     "execution_count": 53,
     "data": {
      "text/plain": "268"
     },
     "metadata": {}
    }
   ]
  },
  {
   "cell_type": "markdown",
   "source": "What percent of people have diabetes in the study\n",
   "metadata": {
    "colab_type": "text",
    "id": "oeFT7T9OnuSd",
    "cell_id": "00010-31b5f7c6-ea56-457b-ae9c-72ab86c5c567",
    "deepnote_cell_type": "markdown"
   }
  },
  {
   "cell_type": "markdown",
   "source": "Print out the `\"pres\"` and `\"class\"` (no other columns) for the first 5 people",
   "metadata": {
    "colab_type": "text",
    "id": "nbrjnRPafs0p",
    "cell_id": "00012-5080ee0d-b515-4ca1-954d-63144b849480",
    "deepnote_cell_type": "markdown"
   }
  },
  {
   "cell_type": "code",
   "metadata": {
    "colab_type": "code",
    "id": "GiNCJ19KfHJQ",
    "colab": {},
    "cell_id": "00013-52905732-b305-424f-98c1-182e4ababc0c",
    "deepnote_to_be_reexecuted": false,
    "source_hash": "866f0a1e",
    "execution_start": 1625600819762,
    "execution_millis": 9,
    "deepnote_cell_type": "code"
   },
   "source": "# YOUR CODE HERE\nlen(data[(data['class'] == 1)])\nnumpos = len(filtered_dataframe_by_class)\nprint('Percent of people with diabetes: ' + str(numpos/len(data['class'])*100), \"%\")",
   "execution_count": null,
   "outputs": [
    {
     "name": "stdout",
     "text": "Percent of people with diabetes: 65.10416666666666 %\n",
     "output_type": "stream"
    }
   ]
  },
  {
   "cell_type": "markdown",
   "source": "Run the cell below, it will print out the correlation among the columns",
   "metadata": {
    "colab_type": "text",
    "id": "O-CcsoqlhxUn",
    "cell_id": "00014-f3aad72a-9f72-4fb7-9d82-8d10b502d48a",
    "deepnote_cell_type": "markdown"
   }
  },
  {
   "cell_type": "code",
   "metadata": {
    "colab_type": "code",
    "id": "pXpVFt6MffQt",
    "colab": {},
    "cell_id": "00015-2172a85f-0f52-484b-a29e-5c3e48658917",
    "deepnote_to_be_reexecuted": false,
    "source_hash": "d0fc2601",
    "execution_start": 1625598972339,
    "execution_millis": 39,
    "deepnote_cell_type": "code"
   },
   "source": "data.corr()",
   "execution_count": null,
   "outputs": [
    {
     "output_type": "execute_result",
     "execution_count": 63,
     "data": {
      "application/vnd.deepnote.dataframe.v2+json": {
       "row_count": 9,
       "column_count": 9,
       "columns": [
        {
         "name": "preg",
         "dtype": "float64",
         "stats": {
          "unique_count": 9,
          "nan_count": 0,
          "min": "-0.08167177444900726",
          "max": "1.0",
          "histogram": [
           {
            "bin_start": -0.08167177444900726,
            "bin_end": 0.026495402995893452,
            "count": 4
           },
           {
            "bin_start": 0.026495402995893452,
            "bin_end": 0.13466258044079416,
            "count": 1
           },
           {
            "bin_start": 0.13466258044079416,
            "bin_end": 0.24282975788569489,
            "count": 2
           },
           {
            "bin_start": 0.24282975788569489,
            "bin_end": 0.3509969353305956,
            "count": 0
           },
           {
            "bin_start": 0.3509969353305956,
            "bin_end": 0.45916411277549635,
            "count": 0
           },
           {
            "bin_start": 0.45916411277549635,
            "bin_end": 0.567331290220397,
            "count": 1
           },
           {
            "bin_start": 0.567331290220397,
            "bin_end": 0.6754984676652978,
            "count": 0
           },
           {
            "bin_start": 0.6754984676652978,
            "bin_end": 0.7836656451101984,
            "count": 0
           },
           {
            "bin_start": 0.7836656451101984,
            "bin_end": 0.8918328225550991,
            "count": 0
           },
           {
            "bin_start": 0.8918328225550991,
            "bin_end": 1,
            "count": 1
           }
          ]
         }
        },
        {
         "name": "plas",
         "dtype": "float64",
         "stats": {
          "unique_count": 9,
          "nan_count": 0,
          "min": "0.05732789073817692",
          "max": "1.0",
          "histogram": [
           {
            "bin_start": 0.05732789073817692,
            "bin_end": 0.15159510166435924,
            "count": 3
           },
           {
            "bin_start": 0.15159510166435924,
            "bin_end": 0.24586231259054156,
            "count": 2
           },
           {
            "bin_start": 0.24586231259054156,
            "bin_end": 0.3401295235167239,
            "count": 2
           },
           {
            "bin_start": 0.3401295235167239,
            "bin_end": 0.43439673444290616,
            "count": 0
           },
           {
            "bin_start": 0.43439673444290616,
            "bin_end": 0.5286639453690885,
            "count": 1
           },
           {
            "bin_start": 0.5286639453690885,
            "bin_end": 0.6229311562952708,
            "count": 0
           },
           {
            "bin_start": 0.6229311562952708,
            "bin_end": 0.7171983672214531,
            "count": 0
           },
           {
            "bin_start": 0.7171983672214531,
            "bin_end": 0.8114655781476354,
            "count": 0
           },
           {
            "bin_start": 0.8114655781476354,
            "bin_end": 0.9057327890738177,
            "count": 0
           },
           {
            "bin_start": 0.9057327890738177,
            "bin_end": 1,
            "count": 1
           }
          ]
         }
        },
        {
         "name": "pres",
         "dtype": "float64",
         "stats": {
          "unique_count": 9,
          "nan_count": 0,
          "min": "0.04126494793009856",
          "max": "1.0",
          "histogram": [
           {
            "bin_start": 0.04126494793009856,
            "bin_end": 0.1371384531370887,
            "count": 3
           },
           {
            "bin_start": 0.1371384531370887,
            "bin_end": 0.23301195834407884,
            "count": 3
           },
           {
            "bin_start": 0.23301195834407884,
            "bin_end": 0.328885463551069,
            "count": 2
           },
           {
            "bin_start": 0.328885463551069,
            "bin_end": 0.42475896875805913,
            "count": 0
           },
           {
            "bin_start": 0.42475896875805913,
            "bin_end": 0.5206324739650493,
            "count": 0
           },
           {
            "bin_start": 0.5206324739650493,
            "bin_end": 0.6165059791720395,
            "count": 0
           },
           {
            "bin_start": 0.6165059791720395,
            "bin_end": 0.7123794843790296,
            "count": 0
           },
           {
            "bin_start": 0.7123794843790296,
            "bin_end": 0.8082529895860198,
            "count": 0
           },
           {
            "bin_start": 0.8082529895860198,
            "bin_end": 0.9041264947930099,
            "count": 0
           },
           {
            "bin_start": 0.9041264947930099,
            "bin_end": 1,
            "count": 1
           }
          ]
         }
        },
        {
         "name": "skin",
         "dtype": "float64",
         "stats": {
          "unique_count": 9,
          "nan_count": 0,
          "min": "-0.11397026236774152",
          "max": "1.0",
          "histogram": [
           {
            "bin_start": -0.11397026236774152,
            "bin_end": -0.0025732361309673824,
            "count": 2
           },
           {
            "bin_start": -0.0025732361309673824,
            "bin_end": 0.10882379010580676,
            "count": 2
           },
           {
            "bin_start": 0.10882379010580676,
            "bin_end": 0.22022081634258087,
            "count": 2
           },
           {
            "bin_start": 0.22022081634258087,
            "bin_end": 0.331617842579355,
            "count": 0
           },
           {
            "bin_start": 0.331617842579355,
            "bin_end": 0.44301486881612917,
            "count": 2
           },
           {
            "bin_start": 0.44301486881612917,
            "bin_end": 0.5544118950529032,
            "count": 0
           },
           {
            "bin_start": 0.5544118950529032,
            "bin_end": 0.6658089212896774,
            "count": 0
           },
           {
            "bin_start": 0.6658089212896774,
            "bin_end": 0.7772059475264516,
            "count": 0
           },
           {
            "bin_start": 0.7772059475264516,
            "bin_end": 0.8886029737632256,
            "count": 0
           },
           {
            "bin_start": 0.8886029737632256,
            "bin_end": 1,
            "count": 1
           }
          ]
         }
        },
        {
         "name": "test",
         "dtype": "float64",
         "stats": {
          "unique_count": 9,
          "nan_count": 0,
          "min": "-0.07353461435162822",
          "max": "1.0",
          "histogram": [
           {
            "bin_start": -0.07353461435162822,
            "bin_end": 0.033818847083534595,
            "count": 2
           },
           {
            "bin_start": 0.033818847083534595,
            "bin_end": 0.14117230851869741,
            "count": 2
           },
           {
            "bin_start": 0.14117230851869741,
            "bin_end": 0.24852576995386022,
            "count": 2
           },
           {
            "bin_start": 0.24852576995386022,
            "bin_end": 0.35587923138902305,
            "count": 1
           },
           {
            "bin_start": 0.35587923138902305,
            "bin_end": 0.4632326928241859,
            "count": 1
           },
           {
            "bin_start": 0.4632326928241859,
            "bin_end": 0.5705861542593487,
            "count": 0
           },
           {
            "bin_start": 0.5705861542593487,
            "bin_end": 0.6779396156945116,
            "count": 0
           },
           {
            "bin_start": 0.6779396156945116,
            "bin_end": 0.7852930771296743,
            "count": 0
           },
           {
            "bin_start": 0.7852930771296743,
            "bin_end": 0.8926465385648371,
            "count": 0
           },
           {
            "bin_start": 0.8926465385648371,
            "bin_end": 1,
            "count": 1
           }
          ]
         }
        },
        {
         "name": "mass",
         "dtype": "float64",
         "stats": {
          "unique_count": 9,
          "nan_count": 0,
          "min": "0.017683090727830565",
          "max": "1.0",
          "histogram": [
           {
            "bin_start": 0.017683090727830565,
            "bin_end": 0.11591478165504751,
            "count": 2
           },
           {
            "bin_start": 0.11591478165504751,
            "bin_end": 0.21414647258226444,
            "count": 2
           },
           {
            "bin_start": 0.21414647258226444,
            "bin_end": 0.3123781635094814,
            "count": 3
           },
           {
            "bin_start": 0.3123781635094814,
            "bin_end": 0.41060985443669834,
            "count": 1
           },
           {
            "bin_start": 0.41060985443669834,
            "bin_end": 0.5088415453639152,
            "count": 0
           },
           {
            "bin_start": 0.5088415453639152,
            "bin_end": 0.6070732362911322,
            "count": 0
           },
           {
            "bin_start": 0.6070732362911322,
            "bin_end": 0.7053049272183491,
            "count": 0
           },
           {
            "bin_start": 0.7053049272183491,
            "bin_end": 0.8035366181455661,
            "count": 0
           },
           {
            "bin_start": 0.8035366181455661,
            "bin_end": 0.901768309072783,
            "count": 0
           },
           {
            "bin_start": 0.901768309072783,
            "bin_end": 1,
            "count": 1
           }
          ]
         }
        },
        {
         "name": "pedi",
         "dtype": "float64",
         "stats": {
          "unique_count": 9,
          "nan_count": 0,
          "min": "-0.03352267296261304",
          "max": "1.0",
          "histogram": [
           {
            "bin_start": -0.03352267296261304,
            "bin_end": 0.06982959433364827,
            "count": 3
           },
           {
            "bin_start": 0.06982959433364827,
            "bin_end": 0.17318186162990956,
            "count": 2
           },
           {
            "bin_start": 0.17318186162990956,
            "bin_end": 0.2765341289261709,
            "count": 3
           },
           {
            "bin_start": 0.2765341289261709,
            "bin_end": 0.3798863962224322,
            "count": 0
           },
           {
            "bin_start": 0.3798863962224322,
            "bin_end": 0.4832386635186935,
            "count": 0
           },
           {
            "bin_start": 0.4832386635186935,
            "bin_end": 0.5865909308149548,
            "count": 0
           },
           {
            "bin_start": 0.5865909308149548,
            "bin_end": 0.6899431981112161,
            "count": 0
           },
           {
            "bin_start": 0.6899431981112161,
            "bin_end": 0.7932954654074774,
            "count": 0
           },
           {
            "bin_start": 0.7932954654074774,
            "bin_end": 0.8966477327037388,
            "count": 0
           },
           {
            "bin_start": 0.8966477327037388,
            "bin_end": 1,
            "count": 1
           }
          ]
         }
        },
        {
         "name": "age",
         "dtype": "float64",
         "stats": {
          "unique_count": 9,
          "nan_count": 0,
          "min": "-0.11397026236774152",
          "max": "1.0",
          "histogram": [
           {
            "bin_start": -0.11397026236774152,
            "bin_end": -0.0025732361309673824,
            "count": 2
           },
           {
            "bin_start": -0.0025732361309673824,
            "bin_end": 0.10882379010580676,
            "count": 2
           },
           {
            "bin_start": 0.10882379010580676,
            "bin_end": 0.22022081634258087,
            "count": 0
           },
           {
            "bin_start": 0.22022081634258087,
            "bin_end": 0.331617842579355,
            "count": 3
           },
           {
            "bin_start": 0.331617842579355,
            "bin_end": 0.44301486881612917,
            "count": 0
           },
           {
            "bin_start": 0.44301486881612917,
            "bin_end": 0.5544118950529032,
            "count": 1
           },
           {
            "bin_start": 0.5544118950529032,
            "bin_end": 0.6658089212896774,
            "count": 0
           },
           {
            "bin_start": 0.6658089212896774,
            "bin_end": 0.7772059475264516,
            "count": 0
           },
           {
            "bin_start": 0.7772059475264516,
            "bin_end": 0.8886029737632256,
            "count": 0
           },
           {
            "bin_start": 0.8886029737632256,
            "bin_end": 1,
            "count": 1
           }
          ]
         }
        },
        {
         "name": "class",
         "dtype": "float64",
         "stats": {
          "unique_count": 9,
          "nan_count": 0,
          "min": "0.06506835955033277",
          "max": "1.0",
          "histogram": [
           {
            "bin_start": 0.06506835955033277,
            "bin_end": 0.15856152359529951,
            "count": 3
           },
           {
            "bin_start": 0.15856152359529951,
            "bin_end": 0.25205468764026623,
            "count": 3
           },
           {
            "bin_start": 0.25205468764026623,
            "bin_end": 0.34554785168523294,
            "count": 1
           },
           {
            "bin_start": 0.34554785168523294,
            "bin_end": 0.4390410157301997,
            "count": 0
           },
           {
            "bin_start": 0.4390410157301997,
            "bin_end": 0.5325341797751664,
            "count": 1
           },
           {
            "bin_start": 0.5325341797751664,
            "bin_end": 0.6260273438201331,
            "count": 0
           },
           {
            "bin_start": 0.6260273438201331,
            "bin_end": 0.7195205078650998,
            "count": 0
           },
           {
            "bin_start": 0.7195205078650998,
            "bin_end": 0.8130136719100666,
            "count": 0
           },
           {
            "bin_start": 0.8130136719100666,
            "bin_end": 0.9065068359550333,
            "count": 0
           },
           {
            "bin_start": 0.9065068359550333,
            "bin_end": 1,
            "count": 1
           }
          ]
         }
        },
        {
         "name": "_deepnote_index_column",
         "dtype": "object"
        }
       ],
       "rows_top": [
        {
         "preg": 1,
         "plas": 0.12945867149927248,
         "pres": 0.14128197740713966,
         "skin": -0.08167177444900726,
         "test": -0.07353461435162822,
         "mass": 0.017683090727830565,
         "pedi": -0.03352267296261304,
         "age": 0.5443412284023392,
         "class": 0.22189815303398636,
         "_deepnote_index_column": "preg"
        },
        {
         "preg": 0.12945867149927248,
         "plas": 1,
         "pres": 0.1525895865686646,
         "skin": 0.05732789073817692,
         "test": 0.3313571099202092,
         "mass": 0.2210710694589828,
         "pedi": 0.13733729982837092,
         "age": 0.26351431982433343,
         "class": 0.46658139830687373,
         "_deepnote_index_column": "plas"
        },
        {
         "preg": 0.14128197740713966,
         "plas": 0.1525895865686646,
         "pres": 1,
         "skin": 0.2073705384030709,
         "test": 0.08893337837319314,
         "mass": 0.2818052888499109,
         "pedi": 0.04126494793009856,
         "age": 0.23952794642136344,
         "class": 0.06506835955033277,
         "_deepnote_index_column": "pres"
        },
        {
         "preg": -0.08167177444900726,
         "plas": 0.05732789073817692,
         "pres": 0.2073705384030709,
         "skin": 1,
         "test": 0.43678257012001326,
         "mass": 0.39257320415903835,
         "pedi": 0.1839275729541631,
         "age": -0.11397026236774152,
         "class": 0.07475223191831946,
         "_deepnote_index_column": "skin"
        },
        {
         "preg": -0.07353461435162822,
         "plas": 0.3313571099202092,
         "pres": 0.08893337837319314,
         "skin": 0.43678257012001326,
         "test": 1,
         "mass": 0.19785905649310145,
         "pedi": 0.1850709291680993,
         "age": -0.04216295473537695,
         "class": 0.13054795488404794,
         "_deepnote_index_column": "test"
        },
        {
         "preg": 0.017683090727830565,
         "plas": 0.2210710694589828,
         "pres": 0.2818052888499109,
         "skin": 0.39257320415903835,
         "test": 0.19785905649310145,
         "mass": 1,
         "pedi": 0.14064695254510523,
         "age": 0.03624187009229395,
         "class": 0.2926946626444454,
         "_deepnote_index_column": "mass"
        },
        {
         "preg": -0.03352267296261304,
         "plas": 0.13733729982837092,
         "pres": 0.04126494793009856,
         "skin": 0.1839275729541631,
         "test": 0.1850709291680993,
         "mass": 0.14064695254510523,
         "pedi": 1,
         "age": 0.03356131243480539,
         "class": 0.17384406565296004,
         "_deepnote_index_column": "pedi"
        },
        {
         "preg": 0.5443412284023392,
         "plas": 0.26351431982433343,
         "pres": 0.23952794642136344,
         "skin": -0.11397026236774152,
         "test": -0.04216295473537695,
         "mass": 0.03624187009229395,
         "pedi": 0.03356131243480539,
         "age": 1,
         "class": 0.23835598302719757,
         "_deepnote_index_column": "age"
        },
        {
         "preg": 0.22189815303398636,
         "plas": 0.46658139830687373,
         "pres": 0.06506835955033277,
         "skin": 0.07475223191831946,
         "test": 0.13054795488404794,
         "mass": 0.2926946626444454,
         "pedi": 0.17384406565296004,
         "age": 0.23835598302719757,
         "class": 1,
         "_deepnote_index_column": "class"
        }
       ],
       "rows_bottom": null
      },
      "text/plain": "           preg      plas      pres      skin      test      mass      pedi  \\\npreg   1.000000  0.129459  0.141282 -0.081672 -0.073535  0.017683 -0.033523   \nplas   0.129459  1.000000  0.152590  0.057328  0.331357  0.221071  0.137337   \npres   0.141282  0.152590  1.000000  0.207371  0.088933  0.281805  0.041265   \nskin  -0.081672  0.057328  0.207371  1.000000  0.436783  0.392573  0.183928   \ntest  -0.073535  0.331357  0.088933  0.436783  1.000000  0.197859  0.185071   \nmass   0.017683  0.221071  0.281805  0.392573  0.197859  1.000000  0.140647   \npedi  -0.033523  0.137337  0.041265  0.183928  0.185071  0.140647  1.000000   \nage    0.544341  0.263514  0.239528 -0.113970 -0.042163  0.036242  0.033561   \nclass  0.221898  0.466581  0.065068  0.074752  0.130548  0.292695  0.173844   \n\n            age     class  \npreg   0.544341  0.221898  \nplas   0.263514  0.466581  \npres   0.239528  0.065068  \nskin  -0.113970  0.074752  \ntest  -0.042163  0.130548  \nmass   0.036242  0.292695  \npedi   0.033561  0.173844  \nage    1.000000  0.238356  \nclass  0.238356  1.000000  ",
      "text/html": "<div>\n<style scoped>\n    .dataframe tbody tr th:only-of-type {\n        vertical-align: middle;\n    }\n\n    .dataframe tbody tr th {\n        vertical-align: top;\n    }\n\n    .dataframe thead th {\n        text-align: right;\n    }\n</style>\n<table border=\"1\" class=\"dataframe\">\n  <thead>\n    <tr style=\"text-align: right;\">\n      <th></th>\n      <th>preg</th>\n      <th>plas</th>\n      <th>pres</th>\n      <th>skin</th>\n      <th>test</th>\n      <th>mass</th>\n      <th>pedi</th>\n      <th>age</th>\n      <th>class</th>\n    </tr>\n  </thead>\n  <tbody>\n    <tr>\n      <th>preg</th>\n      <td>1.000000</td>\n      <td>0.129459</td>\n      <td>0.141282</td>\n      <td>-0.081672</td>\n      <td>-0.073535</td>\n      <td>0.017683</td>\n      <td>-0.033523</td>\n      <td>0.544341</td>\n      <td>0.221898</td>\n    </tr>\n    <tr>\n      <th>plas</th>\n      <td>0.129459</td>\n      <td>1.000000</td>\n      <td>0.152590</td>\n      <td>0.057328</td>\n      <td>0.331357</td>\n      <td>0.221071</td>\n      <td>0.137337</td>\n      <td>0.263514</td>\n      <td>0.466581</td>\n    </tr>\n    <tr>\n      <th>pres</th>\n      <td>0.141282</td>\n      <td>0.152590</td>\n      <td>1.000000</td>\n      <td>0.207371</td>\n      <td>0.088933</td>\n      <td>0.281805</td>\n      <td>0.041265</td>\n      <td>0.239528</td>\n      <td>0.065068</td>\n    </tr>\n    <tr>\n      <th>skin</th>\n      <td>-0.081672</td>\n      <td>0.057328</td>\n      <td>0.207371</td>\n      <td>1.000000</td>\n      <td>0.436783</td>\n      <td>0.392573</td>\n      <td>0.183928</td>\n      <td>-0.113970</td>\n      <td>0.074752</td>\n    </tr>\n    <tr>\n      <th>test</th>\n      <td>-0.073535</td>\n      <td>0.331357</td>\n      <td>0.088933</td>\n      <td>0.436783</td>\n      <td>1.000000</td>\n      <td>0.197859</td>\n      <td>0.185071</td>\n      <td>-0.042163</td>\n      <td>0.130548</td>\n    </tr>\n    <tr>\n      <th>mass</th>\n      <td>0.017683</td>\n      <td>0.221071</td>\n      <td>0.281805</td>\n      <td>0.392573</td>\n      <td>0.197859</td>\n      <td>1.000000</td>\n      <td>0.140647</td>\n      <td>0.036242</td>\n      <td>0.292695</td>\n    </tr>\n    <tr>\n      <th>pedi</th>\n      <td>-0.033523</td>\n      <td>0.137337</td>\n      <td>0.041265</td>\n      <td>0.183928</td>\n      <td>0.185071</td>\n      <td>0.140647</td>\n      <td>1.000000</td>\n      <td>0.033561</td>\n      <td>0.173844</td>\n    </tr>\n    <tr>\n      <th>age</th>\n      <td>0.544341</td>\n      <td>0.263514</td>\n      <td>0.239528</td>\n      <td>-0.113970</td>\n      <td>-0.042163</td>\n      <td>0.036242</td>\n      <td>0.033561</td>\n      <td>1.000000</td>\n      <td>0.238356</td>\n    </tr>\n    <tr>\n      <th>class</th>\n      <td>0.221898</td>\n      <td>0.466581</td>\n      <td>0.065068</td>\n      <td>0.074752</td>\n      <td>0.130548</td>\n      <td>0.292695</td>\n      <td>0.173844</td>\n      <td>0.238356</td>\n      <td>1.000000</td>\n    </tr>\n  </tbody>\n</table>\n</div>"
     },
     "metadata": {}
    }
   ]
  },
  {
   "cell_type": "markdown",
   "source": "What column has the highest correlation with class? Find the mean() value of that column",
   "metadata": {
    "colab_type": "text",
    "id": "P_7xRF11h4Uf",
    "cell_id": "00016-c6dc3dd2-3401-45f6-82f1-9b8d3db94077",
    "deepnote_cell_type": "markdown"
   }
  },
  {
   "cell_type": "markdown",
   "source": "The column with the highest correlation with class is plas.",
   "metadata": {
    "tags": [],
    "cell_id": "00016-bb191312-7d6c-402c-aa37-eddba3c5eaa2",
    "deepnote_cell_type": "text-cell-p"
   }
  },
  {
   "cell_type": "code",
   "metadata": {
    "colab_type": "code",
    "id": "clb2Gh8Mn9d4",
    "colab": {},
    "cell_id": "00017-b1dcf134-97de-42fa-ac10-96fe97db8e2c",
    "deepnote_to_be_reexecuted": false,
    "source_hash": "fbaa1b78",
    "execution_start": 1625599830804,
    "execution_millis": 10,
    "deepnote_cell_type": "code"
   },
   "source": "# YOUR CODE HERE\n\navg = data.corr()['plas'].mean()\navg\n\n\n",
   "execution_count": null,
   "outputs": [
    {
     "output_type": "execute_result",
     "execution_count": 83,
     "data": {
      "text/plain": "0.3065819273494316"
     },
     "metadata": {}
    }
   ]
  },
  {
   "cell_type": "markdown",
   "source": "Create a new dataframe with only people that are above the mean found in the above cell.",
   "metadata": {
    "colab_type": "text",
    "id": "64yWhAARoWw-",
    "cell_id": "00018-fd63fcb2-c10a-4a26-b428-e30348fe833a",
    "deepnote_cell_type": "markdown"
   }
  },
  {
   "cell_type": "code",
   "metadata": {
    "colab_type": "code",
    "id": "HRLjs3agkdPY",
    "colab": {},
    "cell_id": "00019-8b938a90-7bd5-4ba2-92f1-4df4ffc190e0",
    "deepnote_to_be_reexecuted": false,
    "source_hash": "dac2bbe5",
    "execution_start": 1625600048676,
    "execution_millis": 11,
    "deepnote_cell_type": "code"
   },
   "source": "# YOUR CODE HERE\n\n\ndata_diabetes_boolean_plas = data['plas'] > avg\n\nplas_mean_plus = data[data_diabetes_boolean_plas]\nplas_mean_plus.head(10)\n",
   "execution_count": null,
   "outputs": [
    {
     "output_type": "execute_result",
     "execution_count": 89,
     "data": {
      "application/vnd.deepnote.dataframe.v2+json": {
       "row_count": 10,
       "column_count": 9,
       "columns": [
        {
         "name": "preg",
         "dtype": "int64",
         "stats": {
          "unique_count": 8,
          "nan_count": 0,
          "min": "0",
          "max": "10",
          "histogram": [
           {
            "bin_start": 0,
            "bin_end": 1,
            "count": 1
           },
           {
            "bin_start": 1,
            "bin_end": 2,
            "count": 2
           },
           {
            "bin_start": 2,
            "bin_end": 3,
            "count": 1
           },
           {
            "bin_start": 3,
            "bin_end": 4,
            "count": 1
           },
           {
            "bin_start": 4,
            "bin_end": 5,
            "count": 0
           },
           {
            "bin_start": 5,
            "bin_end": 6,
            "count": 1
           },
           {
            "bin_start": 6,
            "bin_end": 7,
            "count": 1
           },
           {
            "bin_start": 7,
            "bin_end": 8,
            "count": 0
           },
           {
            "bin_start": 8,
            "bin_end": 9,
            "count": 2
           },
           {
            "bin_start": 9,
            "bin_end": 10,
            "count": 1
           }
          ]
         }
        },
        {
         "name": "plas",
         "dtype": "int64",
         "stats": {
          "unique_count": 10,
          "nan_count": 0,
          "min": "78",
          "max": "197",
          "histogram": [
           {
            "bin_start": 78,
            "bin_end": 89.9,
            "count": 3
           },
           {
            "bin_start": 89.9,
            "bin_end": 101.8,
            "count": 0
           },
           {
            "bin_start": 101.8,
            "bin_end": 113.7,
            "count": 0
           },
           {
            "bin_start": 113.7,
            "bin_end": 125.6,
            "count": 3
           },
           {
            "bin_start": 125.6,
            "bin_end": 137.5,
            "count": 1
           },
           {
            "bin_start": 137.5,
            "bin_end": 149.4,
            "count": 1
           },
           {
            "bin_start": 149.4,
            "bin_end": 161.3,
            "count": 0
           },
           {
            "bin_start": 161.3,
            "bin_end": 173.2,
            "count": 0
           },
           {
            "bin_start": 173.2,
            "bin_end": 185.10000000000002,
            "count": 1
           },
           {
            "bin_start": 185.10000000000002,
            "bin_end": 197,
            "count": 1
           }
          ]
         }
        },
        {
         "name": "pres",
         "dtype": "int64",
         "stats": {
          "unique_count": 9,
          "nan_count": 0,
          "min": "0",
          "max": "96",
          "histogram": [
           {
            "bin_start": 0,
            "bin_end": 9.6,
            "count": 1
           },
           {
            "bin_start": 9.6,
            "bin_end": 19.2,
            "count": 0
           },
           {
            "bin_start": 19.2,
            "bin_end": 28.799999999999997,
            "count": 0
           },
           {
            "bin_start": 28.799999999999997,
            "bin_end": 38.4,
            "count": 0
           },
           {
            "bin_start": 38.4,
            "bin_end": 48,
            "count": 1
           },
           {
            "bin_start": 48,
            "bin_end": 57.599999999999994,
            "count": 1
           },
           {
            "bin_start": 57.599999999999994,
            "bin_end": 67.2,
            "count": 3
           },
           {
            "bin_start": 67.2,
            "bin_end": 76.8,
            "count": 3
           },
           {
            "bin_start": 76.8,
            "bin_end": 86.39999999999999,
            "count": 0
           },
           {
            "bin_start": 86.39999999999999,
            "bin_end": 96,
            "count": 1
           }
          ]
         }
        },
        {
         "name": "skin",
         "dtype": "int64",
         "stats": {
          "unique_count": 6,
          "nan_count": 0,
          "min": "0",
          "max": "45",
          "histogram": [
           {
            "bin_start": 0,
            "bin_end": 4.5,
            "count": 4
           },
           {
            "bin_start": 4.5,
            "bin_end": 9,
            "count": 0
           },
           {
            "bin_start": 9,
            "bin_end": 13.5,
            "count": 0
           },
           {
            "bin_start": 13.5,
            "bin_end": 18,
            "count": 0
           },
           {
            "bin_start": 18,
            "bin_end": 22.5,
            "count": 0
           },
           {
            "bin_start": 22.5,
            "bin_end": 27,
            "count": 1
           },
           {
            "bin_start": 27,
            "bin_end": 31.5,
            "count": 1
           },
           {
            "bin_start": 31.5,
            "bin_end": 36,
            "count": 3
           },
           {
            "bin_start": 36,
            "bin_end": 40.5,
            "count": 0
           },
           {
            "bin_start": 40.5,
            "bin_end": 45,
            "count": 1
           }
          ]
         }
        },
        {
         "name": "test",
         "dtype": "int64",
         "stats": {
          "unique_count": 5,
          "nan_count": 0,
          "min": "0",
          "max": "543",
          "histogram": [
           {
            "bin_start": 0,
            "bin_end": 54.3,
            "count": 6
           },
           {
            "bin_start": 54.3,
            "bin_end": 108.6,
            "count": 2
           },
           {
            "bin_start": 108.6,
            "bin_end": 162.89999999999998,
            "count": 0
           },
           {
            "bin_start": 162.89999999999998,
            "bin_end": 217.2,
            "count": 1
           },
           {
            "bin_start": 217.2,
            "bin_end": 271.5,
            "count": 0
           },
           {
            "bin_start": 271.5,
            "bin_end": 325.79999999999995,
            "count": 0
           },
           {
            "bin_start": 325.79999999999995,
            "bin_end": 380.09999999999997,
            "count": 0
           },
           {
            "bin_start": 380.09999999999997,
            "bin_end": 434.4,
            "count": 0
           },
           {
            "bin_start": 434.4,
            "bin_end": 488.7,
            "count": 0
           },
           {
            "bin_start": 488.7,
            "bin_end": 543,
            "count": 1
           }
          ]
         }
        },
        {
         "name": "mass",
         "dtype": "float64",
         "stats": {
          "unique_count": 10,
          "nan_count": 0,
          "min": "0.0",
          "max": "43.1",
          "histogram": [
           {
            "bin_start": 0,
            "bin_end": 4.3100000000000005,
            "count": 1
           },
           {
            "bin_start": 4.3100000000000005,
            "bin_end": 8.620000000000001,
            "count": 0
           },
           {
            "bin_start": 8.620000000000001,
            "bin_end": 12.930000000000001,
            "count": 0
           },
           {
            "bin_start": 12.930000000000001,
            "bin_end": 17.240000000000002,
            "count": 0
           },
           {
            "bin_start": 17.240000000000002,
            "bin_end": 21.550000000000004,
            "count": 0
           },
           {
            "bin_start": 21.550000000000004,
            "bin_end": 25.860000000000003,
            "count": 2
           },
           {
            "bin_start": 25.860000000000003,
            "bin_end": 30.17,
            "count": 2
           },
           {
            "bin_start": 30.17,
            "bin_end": 34.480000000000004,
            "count": 3
           },
           {
            "bin_start": 34.480000000000004,
            "bin_end": 38.790000000000006,
            "count": 1
           },
           {
            "bin_start": 38.790000000000006,
            "bin_end": 43.1,
            "count": 1
           }
          ]
         }
        },
        {
         "name": "pedi",
         "dtype": "float64",
         "stats": {
          "unique_count": 10,
          "nan_count": 0,
          "min": "0.134",
          "max": "2.288",
          "histogram": [
           {
            "bin_start": 0.134,
            "bin_end": 0.3494,
            "count": 6
           },
           {
            "bin_start": 0.3494,
            "bin_end": 0.5648,
            "count": 1
           },
           {
            "bin_start": 0.5648,
            "bin_end": 0.7801999999999999,
            "count": 2
           },
           {
            "bin_start": 0.7801999999999999,
            "bin_end": 0.9955999999999999,
            "count": 0
           },
           {
            "bin_start": 0.9955999999999999,
            "bin_end": 1.2109999999999999,
            "count": 0
           },
           {
            "bin_start": 1.2109999999999999,
            "bin_end": 1.4263999999999997,
            "count": 0
           },
           {
            "bin_start": 1.4263999999999997,
            "bin_end": 1.6418,
            "count": 0
           },
           {
            "bin_start": 1.6418,
            "bin_end": 1.8571999999999997,
            "count": 0
           },
           {
            "bin_start": 1.8571999999999997,
            "bin_end": 2.0726,
            "count": 0
           },
           {
            "bin_start": 2.0726,
            "bin_end": 2.288,
            "count": 1
           }
          ]
         }
        },
        {
         "name": "age",
         "dtype": "int64",
         "stats": {
          "unique_count": 10,
          "nan_count": 0,
          "min": "21",
          "max": "54",
          "histogram": [
           {
            "bin_start": 21,
            "bin_end": 24.3,
            "count": 1
           },
           {
            "bin_start": 24.3,
            "bin_end": 27.6,
            "count": 1
           },
           {
            "bin_start": 27.6,
            "bin_end": 30.9,
            "count": 2
           },
           {
            "bin_start": 30.9,
            "bin_end": 34.2,
            "count": 3
           },
           {
            "bin_start": 34.2,
            "bin_end": 37.5,
            "count": 0
           },
           {
            "bin_start": 37.5,
            "bin_end": 40.8,
            "count": 0
           },
           {
            "bin_start": 40.8,
            "bin_end": 44.099999999999994,
            "count": 0
           },
           {
            "bin_start": 44.099999999999994,
            "bin_end": 47.4,
            "count": 0
           },
           {
            "bin_start": 47.4,
            "bin_end": 50.7,
            "count": 1
           },
           {
            "bin_start": 50.7,
            "bin_end": 54,
            "count": 2
           }
          ]
         }
        },
        {
         "name": "class",
         "dtype": "int64",
         "stats": {
          "unique_count": 2,
          "nan_count": 0,
          "min": "0",
          "max": "1",
          "histogram": [
           {
            "bin_start": 0,
            "bin_end": 0.1,
            "count": 4
           },
           {
            "bin_start": 0.1,
            "bin_end": 0.2,
            "count": 0
           },
           {
            "bin_start": 0.2,
            "bin_end": 0.30000000000000004,
            "count": 0
           },
           {
            "bin_start": 0.30000000000000004,
            "bin_end": 0.4,
            "count": 0
           },
           {
            "bin_start": 0.4,
            "bin_end": 0.5,
            "count": 0
           },
           {
            "bin_start": 0.5,
            "bin_end": 0.6000000000000001,
            "count": 0
           },
           {
            "bin_start": 0.6000000000000001,
            "bin_end": 0.7000000000000001,
            "count": 0
           },
           {
            "bin_start": 0.7000000000000001,
            "bin_end": 0.8,
            "count": 0
           },
           {
            "bin_start": 0.8,
            "bin_end": 0.9,
            "count": 0
           },
           {
            "bin_start": 0.9,
            "bin_end": 1,
            "count": 6
           }
          ]
         }
        },
        {
         "name": "_deepnote_index_column",
         "dtype": "int64"
        }
       ],
       "rows_top": [
        {
         "preg": 6,
         "plas": 148,
         "pres": 72,
         "skin": 35,
         "test": 0,
         "mass": 33.6,
         "pedi": 0.627,
         "age": 50,
         "class": 1,
         "_deepnote_index_column": 0
        },
        {
         "preg": 1,
         "plas": 85,
         "pres": 66,
         "skin": 29,
         "test": 0,
         "mass": 26.6,
         "pedi": 0.351,
         "age": 31,
         "class": 0,
         "_deepnote_index_column": 1
        },
        {
         "preg": 8,
         "plas": 183,
         "pres": 64,
         "skin": 0,
         "test": 0,
         "mass": 23.3,
         "pedi": 0.672,
         "age": 32,
         "class": 1,
         "_deepnote_index_column": 2
        },
        {
         "preg": 1,
         "plas": 89,
         "pres": 66,
         "skin": 23,
         "test": 94,
         "mass": 28.1,
         "pedi": 0.167,
         "age": 21,
         "class": 0,
         "_deepnote_index_column": 3
        },
        {
         "preg": 0,
         "plas": 137,
         "pres": 40,
         "skin": 35,
         "test": 168,
         "mass": 43.1,
         "pedi": 2.288,
         "age": 33,
         "class": 1,
         "_deepnote_index_column": 4
        },
        {
         "preg": 5,
         "plas": 116,
         "pres": 74,
         "skin": 0,
         "test": 0,
         "mass": 25.6,
         "pedi": 0.201,
         "age": 30,
         "class": 0,
         "_deepnote_index_column": 5
        },
        {
         "preg": 3,
         "plas": 78,
         "pres": 50,
         "skin": 32,
         "test": 88,
         "mass": 31,
         "pedi": 0.248,
         "age": 26,
         "class": 1,
         "_deepnote_index_column": 6
        },
        {
         "preg": 10,
         "plas": 115,
         "pres": 0,
         "skin": 0,
         "test": 0,
         "mass": 35.3,
         "pedi": 0.134,
         "age": 29,
         "class": 0,
         "_deepnote_index_column": 7
        },
        {
         "preg": 2,
         "plas": 197,
         "pres": 70,
         "skin": 45,
         "test": 543,
         "mass": 30.5,
         "pedi": 0.158,
         "age": 53,
         "class": 1,
         "_deepnote_index_column": 8
        },
        {
         "preg": 8,
         "plas": 125,
         "pres": 96,
         "skin": 0,
         "test": 0,
         "mass": 0,
         "pedi": 0.232,
         "age": 54,
         "class": 1,
         "_deepnote_index_column": 9
        }
       ],
       "rows_bottom": null
      },
      "text/plain": "   preg  plas  pres  skin  test  mass   pedi  age  class\n0     6   148    72    35     0  33.6  0.627   50      1\n1     1    85    66    29     0  26.6  0.351   31      0\n2     8   183    64     0     0  23.3  0.672   32      1\n3     1    89    66    23    94  28.1  0.167   21      0\n4     0   137    40    35   168  43.1  2.288   33      1\n5     5   116    74     0     0  25.6  0.201   30      0\n6     3    78    50    32    88  31.0  0.248   26      1\n7    10   115     0     0     0  35.3  0.134   29      0\n8     2   197    70    45   543  30.5  0.158   53      1\n9     8   125    96     0     0   0.0  0.232   54      1",
      "text/html": "<div>\n<style scoped>\n    .dataframe tbody tr th:only-of-type {\n        vertical-align: middle;\n    }\n\n    .dataframe tbody tr th {\n        vertical-align: top;\n    }\n\n    .dataframe thead th {\n        text-align: right;\n    }\n</style>\n<table border=\"1\" class=\"dataframe\">\n  <thead>\n    <tr style=\"text-align: right;\">\n      <th></th>\n      <th>preg</th>\n      <th>plas</th>\n      <th>pres</th>\n      <th>skin</th>\n      <th>test</th>\n      <th>mass</th>\n      <th>pedi</th>\n      <th>age</th>\n      <th>class</th>\n    </tr>\n  </thead>\n  <tbody>\n    <tr>\n      <th>0</th>\n      <td>6</td>\n      <td>148</td>\n      <td>72</td>\n      <td>35</td>\n      <td>0</td>\n      <td>33.6</td>\n      <td>0.627</td>\n      <td>50</td>\n      <td>1</td>\n    </tr>\n    <tr>\n      <th>1</th>\n      <td>1</td>\n      <td>85</td>\n      <td>66</td>\n      <td>29</td>\n      <td>0</td>\n      <td>26.6</td>\n      <td>0.351</td>\n      <td>31</td>\n      <td>0</td>\n    </tr>\n    <tr>\n      <th>2</th>\n      <td>8</td>\n      <td>183</td>\n      <td>64</td>\n      <td>0</td>\n      <td>0</td>\n      <td>23.3</td>\n      <td>0.672</td>\n      <td>32</td>\n      <td>1</td>\n    </tr>\n    <tr>\n      <th>3</th>\n      <td>1</td>\n      <td>89</td>\n      <td>66</td>\n      <td>23</td>\n      <td>94</td>\n      <td>28.1</td>\n      <td>0.167</td>\n      <td>21</td>\n      <td>0</td>\n    </tr>\n    <tr>\n      <th>4</th>\n      <td>0</td>\n      <td>137</td>\n      <td>40</td>\n      <td>35</td>\n      <td>168</td>\n      <td>43.1</td>\n      <td>2.288</td>\n      <td>33</td>\n      <td>1</td>\n    </tr>\n    <tr>\n      <th>5</th>\n      <td>5</td>\n      <td>116</td>\n      <td>74</td>\n      <td>0</td>\n      <td>0</td>\n      <td>25.6</td>\n      <td>0.201</td>\n      <td>30</td>\n      <td>0</td>\n    </tr>\n    <tr>\n      <th>6</th>\n      <td>3</td>\n      <td>78</td>\n      <td>50</td>\n      <td>32</td>\n      <td>88</td>\n      <td>31.0</td>\n      <td>0.248</td>\n      <td>26</td>\n      <td>1</td>\n    </tr>\n    <tr>\n      <th>7</th>\n      <td>10</td>\n      <td>115</td>\n      <td>0</td>\n      <td>0</td>\n      <td>0</td>\n      <td>35.3</td>\n      <td>0.134</td>\n      <td>29</td>\n      <td>0</td>\n    </tr>\n    <tr>\n      <th>8</th>\n      <td>2</td>\n      <td>197</td>\n      <td>70</td>\n      <td>45</td>\n      <td>543</td>\n      <td>30.5</td>\n      <td>0.158</td>\n      <td>53</td>\n      <td>1</td>\n    </tr>\n    <tr>\n      <th>9</th>\n      <td>8</td>\n      <td>125</td>\n      <td>96</td>\n      <td>0</td>\n      <td>0</td>\n      <td>0.0</td>\n      <td>0.232</td>\n      <td>54</td>\n      <td>1</td>\n    </tr>\n  </tbody>\n</table>\n</div>"
     },
     "metadata": {}
    }
   ]
  },
  {
   "cell_type": "markdown",
   "source": "Create a new dataframe that only includes people who are above the average value for each column in the dataset. In other words, find the average value for each column, and then find which users have values above all of these average column values.",
   "metadata": {
    "colab_type": "text",
    "id": "RxGIQp0JrUnq",
    "cell_id": "00020-d5d0c3ea-9655-4aa2-97dd-4bf3a09e357f",
    "deepnote_cell_type": "markdown"
   }
  },
  {
   "cell_type": "code",
   "metadata": {
    "tags": [],
    "cell_id": "00021-dc626d56-9e85-4696-ad91-b1890c1d962e",
    "deepnote_to_be_reexecuted": false,
    "source_hash": "d786443f",
    "execution_start": 1625600275709,
    "execution_millis": 60,
    "deepnote_cell_type": "code"
   },
   "source": "data.describe()",
   "execution_count": null,
   "outputs": [
    {
     "output_type": "execute_result",
     "execution_count": 92,
     "data": {
      "application/vnd.deepnote.dataframe.v2+json": {
       "row_count": 8,
       "column_count": 9,
       "columns": [
        {
         "name": "preg",
         "dtype": "float64",
         "stats": {
          "unique_count": 8,
          "nan_count": 0,
          "min": "0.0",
          "max": "768.0",
          "histogram": [
           {
            "bin_start": 0,
            "bin_end": 76.8,
            "count": 7
           },
           {
            "bin_start": 76.8,
            "bin_end": 153.6,
            "count": 0
           },
           {
            "bin_start": 153.6,
            "bin_end": 230.39999999999998,
            "count": 0
           },
           {
            "bin_start": 230.39999999999998,
            "bin_end": 307.2,
            "count": 0
           },
           {
            "bin_start": 307.2,
            "bin_end": 384,
            "count": 0
           },
           {
            "bin_start": 384,
            "bin_end": 460.79999999999995,
            "count": 0
           },
           {
            "bin_start": 460.79999999999995,
            "bin_end": 537.6,
            "count": 0
           },
           {
            "bin_start": 537.6,
            "bin_end": 614.4,
            "count": 0
           },
           {
            "bin_start": 614.4,
            "bin_end": 691.1999999999999,
            "count": 0
           },
           {
            "bin_start": 691.1999999999999,
            "bin_end": 768,
            "count": 1
           }
          ]
         }
        },
        {
         "name": "plas",
         "dtype": "float64",
         "stats": {
          "unique_count": 8,
          "nan_count": 0,
          "min": "0.0",
          "max": "768.0",
          "histogram": [
           {
            "bin_start": 0,
            "bin_end": 76.8,
            "count": 2
           },
           {
            "bin_start": 76.8,
            "bin_end": 153.6,
            "count": 4
           },
           {
            "bin_start": 153.6,
            "bin_end": 230.39999999999998,
            "count": 1
           },
           {
            "bin_start": 230.39999999999998,
            "bin_end": 307.2,
            "count": 0
           },
           {
            "bin_start": 307.2,
            "bin_end": 384,
            "count": 0
           },
           {
            "bin_start": 384,
            "bin_end": 460.79999999999995,
            "count": 0
           },
           {
            "bin_start": 460.79999999999995,
            "bin_end": 537.6,
            "count": 0
           },
           {
            "bin_start": 537.6,
            "bin_end": 614.4,
            "count": 0
           },
           {
            "bin_start": 614.4,
            "bin_end": 691.1999999999999,
            "count": 0
           },
           {
            "bin_start": 691.1999999999999,
            "bin_end": 768,
            "count": 1
           }
          ]
         }
        },
        {
         "name": "pres",
         "dtype": "float64",
         "stats": {
          "unique_count": 8,
          "nan_count": 0,
          "min": "0.0",
          "max": "768.0",
          "histogram": [
           {
            "bin_start": 0,
            "bin_end": 76.8,
            "count": 5
           },
           {
            "bin_start": 76.8,
            "bin_end": 153.6,
            "count": 2
           },
           {
            "bin_start": 153.6,
            "bin_end": 230.39999999999998,
            "count": 0
           },
           {
            "bin_start": 230.39999999999998,
            "bin_end": 307.2,
            "count": 0
           },
           {
            "bin_start": 307.2,
            "bin_end": 384,
            "count": 0
           },
           {
            "bin_start": 384,
            "bin_end": 460.79999999999995,
            "count": 0
           },
           {
            "bin_start": 460.79999999999995,
            "bin_end": 537.6,
            "count": 0
           },
           {
            "bin_start": 537.6,
            "bin_end": 614.4,
            "count": 0
           },
           {
            "bin_start": 614.4,
            "bin_end": 691.1999999999999,
            "count": 0
           },
           {
            "bin_start": 691.1999999999999,
            "bin_end": 768,
            "count": 1
           }
          ]
         }
        },
        {
         "name": "skin",
         "dtype": "float64",
         "stats": {
          "unique_count": 7,
          "nan_count": 0,
          "min": "0.0",
          "max": "768.0",
          "histogram": [
           {
            "bin_start": 0,
            "bin_end": 76.8,
            "count": 6
           },
           {
            "bin_start": 76.8,
            "bin_end": 153.6,
            "count": 1
           },
           {
            "bin_start": 153.6,
            "bin_end": 230.39999999999998,
            "count": 0
           },
           {
            "bin_start": 230.39999999999998,
            "bin_end": 307.2,
            "count": 0
           },
           {
            "bin_start": 307.2,
            "bin_end": 384,
            "count": 0
           },
           {
            "bin_start": 384,
            "bin_end": 460.79999999999995,
            "count": 0
           },
           {
            "bin_start": 460.79999999999995,
            "bin_end": 537.6,
            "count": 0
           },
           {
            "bin_start": 537.6,
            "bin_end": 614.4,
            "count": 0
           },
           {
            "bin_start": 614.4,
            "bin_end": 691.1999999999999,
            "count": 0
           },
           {
            "bin_start": 691.1999999999999,
            "bin_end": 768,
            "count": 1
           }
          ]
         }
        },
        {
         "name": "test",
         "dtype": "float64",
         "stats": {
          "unique_count": 7,
          "nan_count": 0,
          "min": "0.0",
          "max": "846.0",
          "histogram": [
           {
            "bin_start": 0,
            "bin_end": 84.6,
            "count": 4
           },
           {
            "bin_start": 84.6,
            "bin_end": 169.2,
            "count": 2
           },
           {
            "bin_start": 169.2,
            "bin_end": 253.79999999999998,
            "count": 0
           },
           {
            "bin_start": 253.79999999999998,
            "bin_end": 338.4,
            "count": 0
           },
           {
            "bin_start": 338.4,
            "bin_end": 423,
            "count": 0
           },
           {
            "bin_start": 423,
            "bin_end": 507.59999999999997,
            "count": 0
           },
           {
            "bin_start": 507.59999999999997,
            "bin_end": 592.1999999999999,
            "count": 0
           },
           {
            "bin_start": 592.1999999999999,
            "bin_end": 676.8,
            "count": 0
           },
           {
            "bin_start": 676.8,
            "bin_end": 761.4,
            "count": 0
           },
           {
            "bin_start": 761.4,
            "bin_end": 846,
            "count": 2
           }
          ]
         }
        },
        {
         "name": "mass",
         "dtype": "float64",
         "stats": {
          "unique_count": 8,
          "nan_count": 0,
          "min": "0.0",
          "max": "768.0",
          "histogram": [
           {
            "bin_start": 0,
            "bin_end": 76.8,
            "count": 7
           },
           {
            "bin_start": 76.8,
            "bin_end": 153.6,
            "count": 0
           },
           {
            "bin_start": 153.6,
            "bin_end": 230.39999999999998,
            "count": 0
           },
           {
            "bin_start": 230.39999999999998,
            "bin_end": 307.2,
            "count": 0
           },
           {
            "bin_start": 307.2,
            "bin_end": 384,
            "count": 0
           },
           {
            "bin_start": 384,
            "bin_end": 460.79999999999995,
            "count": 0
           },
           {
            "bin_start": 460.79999999999995,
            "bin_end": 537.6,
            "count": 0
           },
           {
            "bin_start": 537.6,
            "bin_end": 614.4,
            "count": 0
           },
           {
            "bin_start": 614.4,
            "bin_end": 691.1999999999999,
            "count": 0
           },
           {
            "bin_start": 691.1999999999999,
            "bin_end": 768,
            "count": 1
           }
          ]
         }
        },
        {
         "name": "pedi",
         "dtype": "float64",
         "stats": {
          "unique_count": 8,
          "nan_count": 0,
          "min": "0.078",
          "max": "768.0",
          "histogram": [
           {
            "bin_start": 0.078,
            "bin_end": 76.87020000000001,
            "count": 7
           },
           {
            "bin_start": 76.87020000000001,
            "bin_end": 153.66240000000002,
            "count": 0
           },
           {
            "bin_start": 153.66240000000002,
            "bin_end": 230.45460000000003,
            "count": 0
           },
           {
            "bin_start": 230.45460000000003,
            "bin_end": 307.2468,
            "count": 0
           },
           {
            "bin_start": 307.2468,
            "bin_end": 384.039,
            "count": 0
           },
           {
            "bin_start": 384.039,
            "bin_end": 460.8312,
            "count": 0
           },
           {
            "bin_start": 460.8312,
            "bin_end": 537.6234000000001,
            "count": 0
           },
           {
            "bin_start": 537.6234000000001,
            "bin_end": 614.4156,
            "count": 0
           },
           {
            "bin_start": 614.4156,
            "bin_end": 691.2078,
            "count": 0
           },
           {
            "bin_start": 691.2078,
            "bin_end": 768,
            "count": 1
           }
          ]
         }
        },
        {
         "name": "age",
         "dtype": "float64",
         "stats": {
          "unique_count": 8,
          "nan_count": 0,
          "min": "11.760231540678685",
          "max": "768.0",
          "histogram": [
           {
            "bin_start": 11.760231540678685,
            "bin_end": 87.38420838661082,
            "count": 7
           },
           {
            "bin_start": 87.38420838661082,
            "bin_end": 163.00818523254296,
            "count": 0
           },
           {
            "bin_start": 163.00818523254296,
            "bin_end": 238.6321620784751,
            "count": 0
           },
           {
            "bin_start": 238.6321620784751,
            "bin_end": 314.2561389244072,
            "count": 0
           },
           {
            "bin_start": 314.2561389244072,
            "bin_end": 389.88011577033933,
            "count": 0
           },
           {
            "bin_start": 389.88011577033933,
            "bin_end": 465.50409261627146,
            "count": 0
           },
           {
            "bin_start": 465.50409261627146,
            "bin_end": 541.1280694622036,
            "count": 0
           },
           {
            "bin_start": 541.1280694622036,
            "bin_end": 616.7520463081357,
            "count": 0
           },
           {
            "bin_start": 616.7520463081357,
            "bin_end": 692.3760231540679,
            "count": 0
           },
           {
            "bin_start": 692.3760231540679,
            "bin_end": 768,
            "count": 1
           }
          ]
         }
        },
        {
         "name": "class",
         "dtype": "float64",
         "stats": {
          "unique_count": 5,
          "nan_count": 0,
          "min": "0.0",
          "max": "768.0",
          "histogram": [
           {
            "bin_start": 0,
            "bin_end": 76.8,
            "count": 7
           },
           {
            "bin_start": 76.8,
            "bin_end": 153.6,
            "count": 0
           },
           {
            "bin_start": 153.6,
            "bin_end": 230.39999999999998,
            "count": 0
           },
           {
            "bin_start": 230.39999999999998,
            "bin_end": 307.2,
            "count": 0
           },
           {
            "bin_start": 307.2,
            "bin_end": 384,
            "count": 0
           },
           {
            "bin_start": 384,
            "bin_end": 460.79999999999995,
            "count": 0
           },
           {
            "bin_start": 460.79999999999995,
            "bin_end": 537.6,
            "count": 0
           },
           {
            "bin_start": 537.6,
            "bin_end": 614.4,
            "count": 0
           },
           {
            "bin_start": 614.4,
            "bin_end": 691.1999999999999,
            "count": 0
           },
           {
            "bin_start": 691.1999999999999,
            "bin_end": 768,
            "count": 1
           }
          ]
         }
        },
        {
         "name": "_deepnote_index_column",
         "dtype": "object"
        }
       ],
       "rows_top": [
        {
         "preg": 768,
         "plas": 768,
         "pres": 768,
         "skin": 768,
         "test": 768,
         "mass": 768,
         "pedi": 768,
         "age": 768,
         "class": 768,
         "_deepnote_index_column": "count"
        },
        {
         "preg": 3.8450520833333335,
         "plas": 120.89453125,
         "pres": 69.10546875,
         "skin": 20.536458333333332,
         "test": 79.79947916666667,
         "mass": 31.992578124999998,
         "pedi": 0.47187630208333325,
         "age": 33.240885416666664,
         "class": 0.3489583333333333,
         "_deepnote_index_column": "mean"
        },
        {
         "preg": 3.3695780626988694,
         "plas": 31.97261819513622,
         "pres": 19.355807170644777,
         "skin": 15.952217567727637,
         "test": 115.24400235133817,
         "mass": 7.884160320375446,
         "pedi": 0.3313285950127749,
         "age": 11.760231540678685,
         "class": 0.47695137724279896,
         "_deepnote_index_column": "std"
        },
        {
         "preg": 0,
         "plas": 0,
         "pres": 0,
         "skin": 0,
         "test": 0,
         "mass": 0,
         "pedi": 0.078,
         "age": 21,
         "class": 0,
         "_deepnote_index_column": "min"
        },
        {
         "preg": 1,
         "plas": 99,
         "pres": 62,
         "skin": 0,
         "test": 0,
         "mass": 27.3,
         "pedi": 0.24375,
         "age": 24,
         "class": 0,
         "_deepnote_index_column": "25%"
        },
        {
         "preg": 3,
         "plas": 117,
         "pres": 72,
         "skin": 23,
         "test": 30.5,
         "mass": 32,
         "pedi": 0.3725,
         "age": 29,
         "class": 0,
         "_deepnote_index_column": "50%"
        },
        {
         "preg": 6,
         "plas": 140.25,
         "pres": 80,
         "skin": 32,
         "test": 127.25,
         "mass": 36.6,
         "pedi": 0.62625,
         "age": 41,
         "class": 1,
         "_deepnote_index_column": "75%"
        },
        {
         "preg": 17,
         "plas": 199,
         "pres": 122,
         "skin": 99,
         "test": 846,
         "mass": 67.1,
         "pedi": 2.42,
         "age": 81,
         "class": 1,
         "_deepnote_index_column": "max"
        }
       ],
       "rows_bottom": null
      },
      "text/plain": "             preg        plas        pres        skin        test        mass  \\\ncount  768.000000  768.000000  768.000000  768.000000  768.000000  768.000000   \nmean     3.845052  120.894531   69.105469   20.536458   79.799479   31.992578   \nstd      3.369578   31.972618   19.355807   15.952218  115.244002    7.884160   \nmin      0.000000    0.000000    0.000000    0.000000    0.000000    0.000000   \n25%      1.000000   99.000000   62.000000    0.000000    0.000000   27.300000   \n50%      3.000000  117.000000   72.000000   23.000000   30.500000   32.000000   \n75%      6.000000  140.250000   80.000000   32.000000  127.250000   36.600000   \nmax     17.000000  199.000000  122.000000   99.000000  846.000000   67.100000   \n\n             pedi         age       class  \ncount  768.000000  768.000000  768.000000  \nmean     0.471876   33.240885    0.348958  \nstd      0.331329   11.760232    0.476951  \nmin      0.078000   21.000000    0.000000  \n25%      0.243750   24.000000    0.000000  \n50%      0.372500   29.000000    0.000000  \n75%      0.626250   41.000000    1.000000  \nmax      2.420000   81.000000    1.000000  ",
      "text/html": "<div>\n<style scoped>\n    .dataframe tbody tr th:only-of-type {\n        vertical-align: middle;\n    }\n\n    .dataframe tbody tr th {\n        vertical-align: top;\n    }\n\n    .dataframe thead th {\n        text-align: right;\n    }\n</style>\n<table border=\"1\" class=\"dataframe\">\n  <thead>\n    <tr style=\"text-align: right;\">\n      <th></th>\n      <th>preg</th>\n      <th>plas</th>\n      <th>pres</th>\n      <th>skin</th>\n      <th>test</th>\n      <th>mass</th>\n      <th>pedi</th>\n      <th>age</th>\n      <th>class</th>\n    </tr>\n  </thead>\n  <tbody>\n    <tr>\n      <th>count</th>\n      <td>768.000000</td>\n      <td>768.000000</td>\n      <td>768.000000</td>\n      <td>768.000000</td>\n      <td>768.000000</td>\n      <td>768.000000</td>\n      <td>768.000000</td>\n      <td>768.000000</td>\n      <td>768.000000</td>\n    </tr>\n    <tr>\n      <th>mean</th>\n      <td>3.845052</td>\n      <td>120.894531</td>\n      <td>69.105469</td>\n      <td>20.536458</td>\n      <td>79.799479</td>\n      <td>31.992578</td>\n      <td>0.471876</td>\n      <td>33.240885</td>\n      <td>0.348958</td>\n    </tr>\n    <tr>\n      <th>std</th>\n      <td>3.369578</td>\n      <td>31.972618</td>\n      <td>19.355807</td>\n      <td>15.952218</td>\n      <td>115.244002</td>\n      <td>7.884160</td>\n      <td>0.331329</td>\n      <td>11.760232</td>\n      <td>0.476951</td>\n    </tr>\n    <tr>\n      <th>min</th>\n      <td>0.000000</td>\n      <td>0.000000</td>\n      <td>0.000000</td>\n      <td>0.000000</td>\n      <td>0.000000</td>\n      <td>0.000000</td>\n      <td>0.078000</td>\n      <td>21.000000</td>\n      <td>0.000000</td>\n    </tr>\n    <tr>\n      <th>25%</th>\n      <td>1.000000</td>\n      <td>99.000000</td>\n      <td>62.000000</td>\n      <td>0.000000</td>\n      <td>0.000000</td>\n      <td>27.300000</td>\n      <td>0.243750</td>\n      <td>24.000000</td>\n      <td>0.000000</td>\n    </tr>\n    <tr>\n      <th>50%</th>\n      <td>3.000000</td>\n      <td>117.000000</td>\n      <td>72.000000</td>\n      <td>23.000000</td>\n      <td>30.500000</td>\n      <td>32.000000</td>\n      <td>0.372500</td>\n      <td>29.000000</td>\n      <td>0.000000</td>\n    </tr>\n    <tr>\n      <th>75%</th>\n      <td>6.000000</td>\n      <td>140.250000</td>\n      <td>80.000000</td>\n      <td>32.000000</td>\n      <td>127.250000</td>\n      <td>36.600000</td>\n      <td>0.626250</td>\n      <td>41.000000</td>\n      <td>1.000000</td>\n    </tr>\n    <tr>\n      <th>max</th>\n      <td>17.000000</td>\n      <td>199.000000</td>\n      <td>122.000000</td>\n      <td>99.000000</td>\n      <td>846.000000</td>\n      <td>67.100000</td>\n      <td>2.420000</td>\n      <td>81.000000</td>\n      <td>1.000000</td>\n    </tr>\n  </tbody>\n</table>\n</div>"
     },
     "metadata": {}
    }
   ]
  },
  {
   "cell_type": "code",
   "metadata": {
    "colab_type": "code",
    "id": "Ylf4p6NNrfME",
    "colab": {},
    "cell_id": "00021-064e8e41-d624-434c-a65a-392e463c840e",
    "deepnote_to_be_reexecuted": false,
    "source_hash": "484ca01b",
    "execution_start": 1625600979513,
    "execution_millis": 13,
    "deepnote_cell_type": "code"
   },
   "source": "# YOUR CODE HERE\n\n\n# for col in data.corr():\n#     avg2 = data.corr()[col].mean()\n#     plas_mean_plus = data[data['plas'] > avg2]\n    \n\nmeans = data.describe().iloc[1][:]\ndata_above_avg = data[data > means]\n\ndata_above_avg = data.dropna(axis=0).reset_index(drop=True) # axis: 0=row, 1=column\n\ndata_above_avg.head(10)",
   "execution_count": null,
   "outputs": [
    {
     "output_type": "execute_result",
     "execution_count": 124,
     "data": {
      "application/vnd.deepnote.dataframe.v2+json": {
       "row_count": 10,
       "column_count": 9,
       "columns": [
        {
         "name": "preg",
         "dtype": "int64",
         "stats": {
          "unique_count": 8,
          "nan_count": 0,
          "min": "0",
          "max": "10",
          "histogram": [
           {
            "bin_start": 0,
            "bin_end": 1,
            "count": 1
           },
           {
            "bin_start": 1,
            "bin_end": 2,
            "count": 2
           },
           {
            "bin_start": 2,
            "bin_end": 3,
            "count": 1
           },
           {
            "bin_start": 3,
            "bin_end": 4,
            "count": 1
           },
           {
            "bin_start": 4,
            "bin_end": 5,
            "count": 0
           },
           {
            "bin_start": 5,
            "bin_end": 6,
            "count": 1
           },
           {
            "bin_start": 6,
            "bin_end": 7,
            "count": 1
           },
           {
            "bin_start": 7,
            "bin_end": 8,
            "count": 0
           },
           {
            "bin_start": 8,
            "bin_end": 9,
            "count": 2
           },
           {
            "bin_start": 9,
            "bin_end": 10,
            "count": 1
           }
          ]
         }
        },
        {
         "name": "plas",
         "dtype": "int64",
         "stats": {
          "unique_count": 10,
          "nan_count": 0,
          "min": "78",
          "max": "197",
          "histogram": [
           {
            "bin_start": 78,
            "bin_end": 89.9,
            "count": 3
           },
           {
            "bin_start": 89.9,
            "bin_end": 101.8,
            "count": 0
           },
           {
            "bin_start": 101.8,
            "bin_end": 113.7,
            "count": 0
           },
           {
            "bin_start": 113.7,
            "bin_end": 125.6,
            "count": 3
           },
           {
            "bin_start": 125.6,
            "bin_end": 137.5,
            "count": 1
           },
           {
            "bin_start": 137.5,
            "bin_end": 149.4,
            "count": 1
           },
           {
            "bin_start": 149.4,
            "bin_end": 161.3,
            "count": 0
           },
           {
            "bin_start": 161.3,
            "bin_end": 173.2,
            "count": 0
           },
           {
            "bin_start": 173.2,
            "bin_end": 185.10000000000002,
            "count": 1
           },
           {
            "bin_start": 185.10000000000002,
            "bin_end": 197,
            "count": 1
           }
          ]
         }
        },
        {
         "name": "pres",
         "dtype": "int64",
         "stats": {
          "unique_count": 9,
          "nan_count": 0,
          "min": "0",
          "max": "96",
          "histogram": [
           {
            "bin_start": 0,
            "bin_end": 9.6,
            "count": 1
           },
           {
            "bin_start": 9.6,
            "bin_end": 19.2,
            "count": 0
           },
           {
            "bin_start": 19.2,
            "bin_end": 28.799999999999997,
            "count": 0
           },
           {
            "bin_start": 28.799999999999997,
            "bin_end": 38.4,
            "count": 0
           },
           {
            "bin_start": 38.4,
            "bin_end": 48,
            "count": 1
           },
           {
            "bin_start": 48,
            "bin_end": 57.599999999999994,
            "count": 1
           },
           {
            "bin_start": 57.599999999999994,
            "bin_end": 67.2,
            "count": 3
           },
           {
            "bin_start": 67.2,
            "bin_end": 76.8,
            "count": 3
           },
           {
            "bin_start": 76.8,
            "bin_end": 86.39999999999999,
            "count": 0
           },
           {
            "bin_start": 86.39999999999999,
            "bin_end": 96,
            "count": 1
           }
          ]
         }
        },
        {
         "name": "skin",
         "dtype": "int64",
         "stats": {
          "unique_count": 6,
          "nan_count": 0,
          "min": "0",
          "max": "45",
          "histogram": [
           {
            "bin_start": 0,
            "bin_end": 4.5,
            "count": 4
           },
           {
            "bin_start": 4.5,
            "bin_end": 9,
            "count": 0
           },
           {
            "bin_start": 9,
            "bin_end": 13.5,
            "count": 0
           },
           {
            "bin_start": 13.5,
            "bin_end": 18,
            "count": 0
           },
           {
            "bin_start": 18,
            "bin_end": 22.5,
            "count": 0
           },
           {
            "bin_start": 22.5,
            "bin_end": 27,
            "count": 1
           },
           {
            "bin_start": 27,
            "bin_end": 31.5,
            "count": 1
           },
           {
            "bin_start": 31.5,
            "bin_end": 36,
            "count": 3
           },
           {
            "bin_start": 36,
            "bin_end": 40.5,
            "count": 0
           },
           {
            "bin_start": 40.5,
            "bin_end": 45,
            "count": 1
           }
          ]
         }
        },
        {
         "name": "test",
         "dtype": "int64",
         "stats": {
          "unique_count": 5,
          "nan_count": 0,
          "min": "0",
          "max": "543",
          "histogram": [
           {
            "bin_start": 0,
            "bin_end": 54.3,
            "count": 6
           },
           {
            "bin_start": 54.3,
            "bin_end": 108.6,
            "count": 2
           },
           {
            "bin_start": 108.6,
            "bin_end": 162.89999999999998,
            "count": 0
           },
           {
            "bin_start": 162.89999999999998,
            "bin_end": 217.2,
            "count": 1
           },
           {
            "bin_start": 217.2,
            "bin_end": 271.5,
            "count": 0
           },
           {
            "bin_start": 271.5,
            "bin_end": 325.79999999999995,
            "count": 0
           },
           {
            "bin_start": 325.79999999999995,
            "bin_end": 380.09999999999997,
            "count": 0
           },
           {
            "bin_start": 380.09999999999997,
            "bin_end": 434.4,
            "count": 0
           },
           {
            "bin_start": 434.4,
            "bin_end": 488.7,
            "count": 0
           },
           {
            "bin_start": 488.7,
            "bin_end": 543,
            "count": 1
           }
          ]
         }
        },
        {
         "name": "mass",
         "dtype": "float64",
         "stats": {
          "unique_count": 10,
          "nan_count": 0,
          "min": "0.0",
          "max": "43.1",
          "histogram": [
           {
            "bin_start": 0,
            "bin_end": 4.3100000000000005,
            "count": 1
           },
           {
            "bin_start": 4.3100000000000005,
            "bin_end": 8.620000000000001,
            "count": 0
           },
           {
            "bin_start": 8.620000000000001,
            "bin_end": 12.930000000000001,
            "count": 0
           },
           {
            "bin_start": 12.930000000000001,
            "bin_end": 17.240000000000002,
            "count": 0
           },
           {
            "bin_start": 17.240000000000002,
            "bin_end": 21.550000000000004,
            "count": 0
           },
           {
            "bin_start": 21.550000000000004,
            "bin_end": 25.860000000000003,
            "count": 2
           },
           {
            "bin_start": 25.860000000000003,
            "bin_end": 30.17,
            "count": 2
           },
           {
            "bin_start": 30.17,
            "bin_end": 34.480000000000004,
            "count": 3
           },
           {
            "bin_start": 34.480000000000004,
            "bin_end": 38.790000000000006,
            "count": 1
           },
           {
            "bin_start": 38.790000000000006,
            "bin_end": 43.1,
            "count": 1
           }
          ]
         }
        },
        {
         "name": "pedi",
         "dtype": "float64",
         "stats": {
          "unique_count": 10,
          "nan_count": 0,
          "min": "0.134",
          "max": "2.288",
          "histogram": [
           {
            "bin_start": 0.134,
            "bin_end": 0.3494,
            "count": 6
           },
           {
            "bin_start": 0.3494,
            "bin_end": 0.5648,
            "count": 1
           },
           {
            "bin_start": 0.5648,
            "bin_end": 0.7801999999999999,
            "count": 2
           },
           {
            "bin_start": 0.7801999999999999,
            "bin_end": 0.9955999999999999,
            "count": 0
           },
           {
            "bin_start": 0.9955999999999999,
            "bin_end": 1.2109999999999999,
            "count": 0
           },
           {
            "bin_start": 1.2109999999999999,
            "bin_end": 1.4263999999999997,
            "count": 0
           },
           {
            "bin_start": 1.4263999999999997,
            "bin_end": 1.6418,
            "count": 0
           },
           {
            "bin_start": 1.6418,
            "bin_end": 1.8571999999999997,
            "count": 0
           },
           {
            "bin_start": 1.8571999999999997,
            "bin_end": 2.0726,
            "count": 0
           },
           {
            "bin_start": 2.0726,
            "bin_end": 2.288,
            "count": 1
           }
          ]
         }
        },
        {
         "name": "age",
         "dtype": "int64",
         "stats": {
          "unique_count": 10,
          "nan_count": 0,
          "min": "21",
          "max": "54",
          "histogram": [
           {
            "bin_start": 21,
            "bin_end": 24.3,
            "count": 1
           },
           {
            "bin_start": 24.3,
            "bin_end": 27.6,
            "count": 1
           },
           {
            "bin_start": 27.6,
            "bin_end": 30.9,
            "count": 2
           },
           {
            "bin_start": 30.9,
            "bin_end": 34.2,
            "count": 3
           },
           {
            "bin_start": 34.2,
            "bin_end": 37.5,
            "count": 0
           },
           {
            "bin_start": 37.5,
            "bin_end": 40.8,
            "count": 0
           },
           {
            "bin_start": 40.8,
            "bin_end": 44.099999999999994,
            "count": 0
           },
           {
            "bin_start": 44.099999999999994,
            "bin_end": 47.4,
            "count": 0
           },
           {
            "bin_start": 47.4,
            "bin_end": 50.7,
            "count": 1
           },
           {
            "bin_start": 50.7,
            "bin_end": 54,
            "count": 2
           }
          ]
         }
        },
        {
         "name": "class",
         "dtype": "int64",
         "stats": {
          "unique_count": 2,
          "nan_count": 0,
          "min": "0",
          "max": "1",
          "histogram": [
           {
            "bin_start": 0,
            "bin_end": 0.1,
            "count": 4
           },
           {
            "bin_start": 0.1,
            "bin_end": 0.2,
            "count": 0
           },
           {
            "bin_start": 0.2,
            "bin_end": 0.30000000000000004,
            "count": 0
           },
           {
            "bin_start": 0.30000000000000004,
            "bin_end": 0.4,
            "count": 0
           },
           {
            "bin_start": 0.4,
            "bin_end": 0.5,
            "count": 0
           },
           {
            "bin_start": 0.5,
            "bin_end": 0.6000000000000001,
            "count": 0
           },
           {
            "bin_start": 0.6000000000000001,
            "bin_end": 0.7000000000000001,
            "count": 0
           },
           {
            "bin_start": 0.7000000000000001,
            "bin_end": 0.8,
            "count": 0
           },
           {
            "bin_start": 0.8,
            "bin_end": 0.9,
            "count": 0
           },
           {
            "bin_start": 0.9,
            "bin_end": 1,
            "count": 6
           }
          ]
         }
        },
        {
         "name": "_deepnote_index_column",
         "dtype": "int64"
        }
       ],
       "rows_top": [
        {
         "preg": 6,
         "plas": 148,
         "pres": 72,
         "skin": 35,
         "test": 0,
         "mass": 33.6,
         "pedi": 0.627,
         "age": 50,
         "class": 1,
         "_deepnote_index_column": 0
        },
        {
         "preg": 1,
         "plas": 85,
         "pres": 66,
         "skin": 29,
         "test": 0,
         "mass": 26.6,
         "pedi": 0.351,
         "age": 31,
         "class": 0,
         "_deepnote_index_column": 1
        },
        {
         "preg": 8,
         "plas": 183,
         "pres": 64,
         "skin": 0,
         "test": 0,
         "mass": 23.3,
         "pedi": 0.672,
         "age": 32,
         "class": 1,
         "_deepnote_index_column": 2
        },
        {
         "preg": 1,
         "plas": 89,
         "pres": 66,
         "skin": 23,
         "test": 94,
         "mass": 28.1,
         "pedi": 0.167,
         "age": 21,
         "class": 0,
         "_deepnote_index_column": 3
        },
        {
         "preg": 0,
         "plas": 137,
         "pres": 40,
         "skin": 35,
         "test": 168,
         "mass": 43.1,
         "pedi": 2.288,
         "age": 33,
         "class": 1,
         "_deepnote_index_column": 4
        },
        {
         "preg": 5,
         "plas": 116,
         "pres": 74,
         "skin": 0,
         "test": 0,
         "mass": 25.6,
         "pedi": 0.201,
         "age": 30,
         "class": 0,
         "_deepnote_index_column": 5
        },
        {
         "preg": 3,
         "plas": 78,
         "pres": 50,
         "skin": 32,
         "test": 88,
         "mass": 31,
         "pedi": 0.248,
         "age": 26,
         "class": 1,
         "_deepnote_index_column": 6
        },
        {
         "preg": 10,
         "plas": 115,
         "pres": 0,
         "skin": 0,
         "test": 0,
         "mass": 35.3,
         "pedi": 0.134,
         "age": 29,
         "class": 0,
         "_deepnote_index_column": 7
        },
        {
         "preg": 2,
         "plas": 197,
         "pres": 70,
         "skin": 45,
         "test": 543,
         "mass": 30.5,
         "pedi": 0.158,
         "age": 53,
         "class": 1,
         "_deepnote_index_column": 8
        },
        {
         "preg": 8,
         "plas": 125,
         "pres": 96,
         "skin": 0,
         "test": 0,
         "mass": 0,
         "pedi": 0.232,
         "age": 54,
         "class": 1,
         "_deepnote_index_column": 9
        }
       ],
       "rows_bottom": null
      },
      "text/plain": "   preg  plas  pres  skin  test  mass   pedi  age  class\n0     6   148    72    35     0  33.6  0.627   50      1\n1     1    85    66    29     0  26.6  0.351   31      0\n2     8   183    64     0     0  23.3  0.672   32      1\n3     1    89    66    23    94  28.1  0.167   21      0\n4     0   137    40    35   168  43.1  2.288   33      1\n5     5   116    74     0     0  25.6  0.201   30      0\n6     3    78    50    32    88  31.0  0.248   26      1\n7    10   115     0     0     0  35.3  0.134   29      0\n8     2   197    70    45   543  30.5  0.158   53      1\n9     8   125    96     0     0   0.0  0.232   54      1",
      "text/html": "<div>\n<style scoped>\n    .dataframe tbody tr th:only-of-type {\n        vertical-align: middle;\n    }\n\n    .dataframe tbody tr th {\n        vertical-align: top;\n    }\n\n    .dataframe thead th {\n        text-align: right;\n    }\n</style>\n<table border=\"1\" class=\"dataframe\">\n  <thead>\n    <tr style=\"text-align: right;\">\n      <th></th>\n      <th>preg</th>\n      <th>plas</th>\n      <th>pres</th>\n      <th>skin</th>\n      <th>test</th>\n      <th>mass</th>\n      <th>pedi</th>\n      <th>age</th>\n      <th>class</th>\n    </tr>\n  </thead>\n  <tbody>\n    <tr>\n      <th>0</th>\n      <td>6</td>\n      <td>148</td>\n      <td>72</td>\n      <td>35</td>\n      <td>0</td>\n      <td>33.6</td>\n      <td>0.627</td>\n      <td>50</td>\n      <td>1</td>\n    </tr>\n    <tr>\n      <th>1</th>\n      <td>1</td>\n      <td>85</td>\n      <td>66</td>\n      <td>29</td>\n      <td>0</td>\n      <td>26.6</td>\n      <td>0.351</td>\n      <td>31</td>\n      <td>0</td>\n    </tr>\n    <tr>\n      <th>2</th>\n      <td>8</td>\n      <td>183</td>\n      <td>64</td>\n      <td>0</td>\n      <td>0</td>\n      <td>23.3</td>\n      <td>0.672</td>\n      <td>32</td>\n      <td>1</td>\n    </tr>\n    <tr>\n      <th>3</th>\n      <td>1</td>\n      <td>89</td>\n      <td>66</td>\n      <td>23</td>\n      <td>94</td>\n      <td>28.1</td>\n      <td>0.167</td>\n      <td>21</td>\n      <td>0</td>\n    </tr>\n    <tr>\n      <th>4</th>\n      <td>0</td>\n      <td>137</td>\n      <td>40</td>\n      <td>35</td>\n      <td>168</td>\n      <td>43.1</td>\n      <td>2.288</td>\n      <td>33</td>\n      <td>1</td>\n    </tr>\n    <tr>\n      <th>5</th>\n      <td>5</td>\n      <td>116</td>\n      <td>74</td>\n      <td>0</td>\n      <td>0</td>\n      <td>25.6</td>\n      <td>0.201</td>\n      <td>30</td>\n      <td>0</td>\n    </tr>\n    <tr>\n      <th>6</th>\n      <td>3</td>\n      <td>78</td>\n      <td>50</td>\n      <td>32</td>\n      <td>88</td>\n      <td>31.0</td>\n      <td>0.248</td>\n      <td>26</td>\n      <td>1</td>\n    </tr>\n    <tr>\n      <th>7</th>\n      <td>10</td>\n      <td>115</td>\n      <td>0</td>\n      <td>0</td>\n      <td>0</td>\n      <td>35.3</td>\n      <td>0.134</td>\n      <td>29</td>\n      <td>0</td>\n    </tr>\n    <tr>\n      <th>8</th>\n      <td>2</td>\n      <td>197</td>\n      <td>70</td>\n      <td>45</td>\n      <td>543</td>\n      <td>30.5</td>\n      <td>0.158</td>\n      <td>53</td>\n      <td>1</td>\n    </tr>\n    <tr>\n      <th>9</th>\n      <td>8</td>\n      <td>125</td>\n      <td>96</td>\n      <td>0</td>\n      <td>0</td>\n      <td>0.0</td>\n      <td>0.232</td>\n      <td>54</td>\n      <td>1</td>\n    </tr>\n  </tbody>\n</table>\n</div>"
     },
     "metadata": {}
    }
   ]
  },
  {
   "cell_type": "markdown",
   "source": "*Note: the next 3 problems were not explicitly shown in our tutorial—being able to effectively google and look through documentation is a very important coding tool!* ¯\\\\\\_(ツ)_/¯",
   "metadata": {
    "id": "Cy_6ce7_8qAB",
    "colab_type": "text",
    "cell_id": "00022-a1b28b03-6953-469c-a45d-80d21b3d36f6",
    "deepnote_cell_type": "markdown"
   }
  },
  {
   "cell_type": "markdown",
   "source": "Ignoring the index (resetting the index to 0) and using the dataframe from the cell above, sort the values based on `\"skin\"`, `\"test\"`, and `\"pedi\"` values in ascending order. Please write this in one line.",
   "metadata": {
    "colab_type": "text",
    "id": "24pCgP2xbCwZ",
    "cell_id": "00023-818ed759-16d8-4469-8fcb-19c412faa4c9",
    "deepnote_cell_type": "markdown"
   }
  },
  {
   "cell_type": "code",
   "metadata": {
    "colab_type": "code",
    "id": "wXZysbVwa7i5",
    "colab": {},
    "cell_id": "00024-1c8fa3ef-1628-44ef-bef7-554c548fea45",
    "deepnote_to_be_reexecuted": false,
    "source_hash": "976af000",
    "execution_start": 1625601351138,
    "execution_millis": 26,
    "deepnote_cell_type": "code"
   },
   "source": "# YOUR CODE HERE\n\ndata_above_avg.sort_values([\"skin\", 'test', 'pedi']).reset_index(drop=True)\n\n",
   "execution_count": null,
   "outputs": [
    {
     "output_type": "execute_result",
     "execution_count": 138,
     "data": {
      "application/vnd.deepnote.dataframe.v2+json": {
       "row_count": 768,
       "column_count": 9,
       "columns": [
        {
         "name": "preg",
         "dtype": "int64",
         "stats": {
          "unique_count": 17,
          "nan_count": 0,
          "min": "0",
          "max": "17",
          "histogram": [
           {
            "bin_start": 0,
            "bin_end": 1.7,
            "count": 246
           },
           {
            "bin_start": 1.7,
            "bin_end": 3.4,
            "count": 178
           },
           {
            "bin_start": 3.4,
            "bin_end": 5.1,
            "count": 125
           },
           {
            "bin_start": 5.1,
            "bin_end": 6.8,
            "count": 50
           },
           {
            "bin_start": 6.8,
            "bin_end": 8.5,
            "count": 83
           },
           {
            "bin_start": 8.5,
            "bin_end": 10.2,
            "count": 52
           },
           {
            "bin_start": 10.2,
            "bin_end": 11.9,
            "count": 11
           },
           {
            "bin_start": 11.9,
            "bin_end": 13.6,
            "count": 19
           },
           {
            "bin_start": 13.6,
            "bin_end": 15.299999999999999,
            "count": 3
           },
           {
            "bin_start": 15.299999999999999,
            "bin_end": 17,
            "count": 1
           }
          ]
         }
        },
        {
         "name": "plas",
         "dtype": "int64",
         "stats": {
          "unique_count": 136,
          "nan_count": 0,
          "min": "0",
          "max": "199",
          "histogram": [
           {
            "bin_start": 0,
            "bin_end": 19.9,
            "count": 5
           },
           {
            "bin_start": 19.9,
            "bin_end": 39.8,
            "count": 0
           },
           {
            "bin_start": 39.8,
            "bin_end": 59.699999999999996,
            "count": 4
           },
           {
            "bin_start": 59.699999999999996,
            "bin_end": 79.6,
            "count": 32
           },
           {
            "bin_start": 79.6,
            "bin_end": 99.5,
            "count": 156
           },
           {
            "bin_start": 99.5,
            "bin_end": 119.39999999999999,
            "count": 211
           },
           {
            "bin_start": 119.39999999999999,
            "bin_end": 139.29999999999998,
            "count": 163
           },
           {
            "bin_start": 139.29999999999998,
            "bin_end": 159.2,
            "count": 95
           },
           {
            "bin_start": 159.2,
            "bin_end": 179.1,
            "count": 56
           },
           {
            "bin_start": 179.1,
            "bin_end": 199,
            "count": 46
           }
          ]
         }
        },
        {
         "name": "pres",
         "dtype": "int64",
         "stats": {
          "unique_count": 47,
          "nan_count": 0,
          "min": "0",
          "max": "122",
          "histogram": [
           {
            "bin_start": 0,
            "bin_end": 12.2,
            "count": 35
           },
           {
            "bin_start": 12.2,
            "bin_end": 24.4,
            "count": 1
           },
           {
            "bin_start": 24.4,
            "bin_end": 36.599999999999994,
            "count": 2
           },
           {
            "bin_start": 36.599999999999994,
            "bin_end": 48.8,
            "count": 13
           },
           {
            "bin_start": 48.8,
            "bin_end": 61,
            "count": 107
           },
           {
            "bin_start": 61,
            "bin_end": 73.19999999999999,
            "count": 261
           },
           {
            "bin_start": 73.19999999999999,
            "bin_end": 85.39999999999999,
            "count": 243
           },
           {
            "bin_start": 85.39999999999999,
            "bin_end": 97.6,
            "count": 87
           },
           {
            "bin_start": 97.6,
            "bin_end": 109.8,
            "count": 14
           },
           {
            "bin_start": 109.8,
            "bin_end": 122,
            "count": 5
           }
          ]
         }
        },
        {
         "name": "skin",
         "dtype": "int64",
         "stats": {
          "unique_count": 51,
          "nan_count": 0,
          "min": "0",
          "max": "99",
          "histogram": [
           {
            "bin_start": 0,
            "bin_end": 9.9,
            "count": 231
           },
           {
            "bin_start": 9.9,
            "bin_end": 19.8,
            "count": 107
           },
           {
            "bin_start": 19.8,
            "bin_end": 29.700000000000003,
            "count": 165
           },
           {
            "bin_start": 29.700000000000003,
            "bin_end": 39.6,
            "count": 175
           },
           {
            "bin_start": 39.6,
            "bin_end": 49.5,
            "count": 78
           },
           {
            "bin_start": 49.5,
            "bin_end": 59.400000000000006,
            "count": 9
           },
           {
            "bin_start": 59.400000000000006,
            "bin_end": 69.3,
            "count": 2
           },
           {
            "bin_start": 69.3,
            "bin_end": 79.2,
            "count": 0
           },
           {
            "bin_start": 79.2,
            "bin_end": 89.10000000000001,
            "count": 0
           },
           {
            "bin_start": 89.10000000000001,
            "bin_end": 99,
            "count": 1
           }
          ]
         }
        },
        {
         "name": "test",
         "dtype": "int64",
         "stats": {
          "unique_count": 186,
          "nan_count": 0,
          "min": "0",
          "max": "846",
          "histogram": [
           {
            "bin_start": 0,
            "bin_end": 84.6,
            "count": 487
           },
           {
            "bin_start": 84.6,
            "bin_end": 169.2,
            "count": 155
           },
           {
            "bin_start": 169.2,
            "bin_end": 253.79999999999998,
            "count": 70
           },
           {
            "bin_start": 253.79999999999998,
            "bin_end": 338.4,
            "count": 30
           },
           {
            "bin_start": 338.4,
            "bin_end": 423,
            "count": 8
           },
           {
            "bin_start": 423,
            "bin_end": 507.59999999999997,
            "count": 9
           },
           {
            "bin_start": 507.59999999999997,
            "bin_end": 592.1999999999999,
            "count": 5
           },
           {
            "bin_start": 592.1999999999999,
            "bin_end": 676.8,
            "count": 1
           },
           {
            "bin_start": 676.8,
            "bin_end": 761.4,
            "count": 2
           },
           {
            "bin_start": 761.4,
            "bin_end": 846,
            "count": 1
           }
          ]
         }
        },
        {
         "name": "mass",
         "dtype": "float64",
         "stats": {
          "unique_count": 248,
          "nan_count": 0,
          "min": "0.0",
          "max": "67.1",
          "histogram": [
           {
            "bin_start": 0,
            "bin_end": 6.709999999999999,
            "count": 11
           },
           {
            "bin_start": 6.709999999999999,
            "bin_end": 13.419999999999998,
            "count": 0
           },
           {
            "bin_start": 13.419999999999998,
            "bin_end": 20.129999999999995,
            "count": 15
           },
           {
            "bin_start": 20.129999999999995,
            "bin_end": 26.839999999999996,
            "count": 156
           },
           {
            "bin_start": 26.839999999999996,
            "bin_end": 33.55,
            "count": 268
           },
           {
            "bin_start": 33.55,
            "bin_end": 40.25999999999999,
            "count": 224
           },
           {
            "bin_start": 40.25999999999999,
            "bin_end": 46.96999999999999,
            "count": 78
           },
           {
            "bin_start": 46.96999999999999,
            "bin_end": 53.67999999999999,
            "count": 12
           },
           {
            "bin_start": 53.67999999999999,
            "bin_end": 60.38999999999999,
            "count": 3
           },
           {
            "bin_start": 60.38999999999999,
            "bin_end": 67.1,
            "count": 1
           }
          ]
         }
        },
        {
         "name": "pedi",
         "dtype": "float64",
         "stats": {
          "unique_count": 517,
          "nan_count": 0,
          "min": "0.078",
          "max": "2.42",
          "histogram": [
           {
            "bin_start": 0.078,
            "bin_end": 0.31220000000000003,
            "count": 318
           },
           {
            "bin_start": 0.31220000000000003,
            "bin_end": 0.5464,
            "count": 206
           },
           {
            "bin_start": 0.5464,
            "bin_end": 0.7806000000000001,
            "count": 136
           },
           {
            "bin_start": 0.7806000000000001,
            "bin_end": 1.0148000000000001,
            "count": 58
           },
           {
            "bin_start": 1.0148000000000001,
            "bin_end": 1.249,
            "count": 25
           },
           {
            "bin_start": 1.249,
            "bin_end": 1.4832000000000003,
            "count": 15
           },
           {
            "bin_start": 1.4832000000000003,
            "bin_end": 1.7174000000000003,
            "count": 3
           },
           {
            "bin_start": 1.7174000000000003,
            "bin_end": 1.9516000000000002,
            "count": 3
           },
           {
            "bin_start": 1.9516000000000002,
            "bin_end": 2.1858,
            "count": 1
           },
           {
            "bin_start": 2.1858,
            "bin_end": 2.42,
            "count": 3
           }
          ]
         }
        },
        {
         "name": "age",
         "dtype": "int64",
         "stats": {
          "unique_count": 52,
          "nan_count": 0,
          "min": "21",
          "max": "81",
          "histogram": [
           {
            "bin_start": 21,
            "bin_end": 27,
            "count": 300
           },
           {
            "bin_start": 27,
            "bin_end": 33,
            "count": 157
           },
           {
            "bin_start": 33,
            "bin_end": 39,
            "count": 92
           },
           {
            "bin_start": 39,
            "bin_end": 45,
            "count": 86
           },
           {
            "bin_start": 45,
            "bin_end": 51,
            "count": 52
           },
           {
            "bin_start": 51,
            "bin_end": 57,
            "count": 34
           },
           {
            "bin_start": 57,
            "bin_end": 63,
            "count": 26
           },
           {
            "bin_start": 63,
            "bin_end": 69,
            "count": 16
           },
           {
            "bin_start": 69,
            "bin_end": 75,
            "count": 4
           },
           {
            "bin_start": 75,
            "bin_end": 81,
            "count": 1
           }
          ]
         }
        },
        {
         "name": "class",
         "dtype": "int64",
         "stats": {
          "unique_count": 2,
          "nan_count": 0,
          "min": "0",
          "max": "1",
          "histogram": [
           {
            "bin_start": 0,
            "bin_end": 0.1,
            "count": 500
           },
           {
            "bin_start": 0.1,
            "bin_end": 0.2,
            "count": 0
           },
           {
            "bin_start": 0.2,
            "bin_end": 0.30000000000000004,
            "count": 0
           },
           {
            "bin_start": 0.30000000000000004,
            "bin_end": 0.4,
            "count": 0
           },
           {
            "bin_start": 0.4,
            "bin_end": 0.5,
            "count": 0
           },
           {
            "bin_start": 0.5,
            "bin_end": 0.6000000000000001,
            "count": 0
           },
           {
            "bin_start": 0.6000000000000001,
            "bin_end": 0.7000000000000001,
            "count": 0
           },
           {
            "bin_start": 0.7000000000000001,
            "bin_end": 0.8,
            "count": 0
           },
           {
            "bin_start": 0.8,
            "bin_end": 0.9,
            "count": 0
           },
           {
            "bin_start": 0.9,
            "bin_end": 1,
            "count": 268
           }
          ]
         }
        },
        {
         "name": "_deepnote_index_column",
         "dtype": "int64"
        }
       ],
       "rows_top": [
        {
         "preg": 0,
         "plas": 102,
         "pres": 52,
         "skin": 0,
         "test": 0,
         "mass": 25.1,
         "pedi": 0.078,
         "age": 21,
         "class": 0,
         "_deepnote_index_column": 0
        },
        {
         "preg": 6,
         "plas": 87,
         "pres": 80,
         "skin": 0,
         "test": 0,
         "mass": 23.2,
         "pedi": 0.084,
         "age": 32,
         "class": 0,
         "_deepnote_index_column": 1
        },
        {
         "preg": 1,
         "plas": 173,
         "pres": 74,
         "skin": 0,
         "test": 0,
         "mass": 36.8,
         "pedi": 0.088,
         "age": 38,
         "class": 1,
         "_deepnote_index_column": 2
        },
        {
         "preg": 2,
         "plas": 74,
         "pres": 0,
         "skin": 0,
         "test": 0,
         "mass": 0,
         "pedi": 0.102,
         "age": 22,
         "class": 0,
         "_deepnote_index_column": 3
        },
        {
         "preg": 2,
         "plas": 99,
         "pres": 0,
         "skin": 0,
         "test": 0,
         "mass": 22.2,
         "pedi": 0.108,
         "age": 23,
         "class": 0,
         "_deepnote_index_column": 4
        },
        {
         "preg": 6,
         "plas": 125,
         "pres": 76,
         "skin": 0,
         "test": 0,
         "mass": 33.8,
         "pedi": 0.121,
         "age": 54,
         "class": 1,
         "_deepnote_index_column": 5
        },
        {
         "preg": 3,
         "plas": 102,
         "pres": 74,
         "skin": 0,
         "test": 0,
         "mass": 29.5,
         "pedi": 0.121,
         "age": 32,
         "class": 0,
         "_deepnote_index_column": 6
        },
        {
         "preg": 4,
         "plas": 114,
         "pres": 64,
         "skin": 0,
         "test": 0,
         "mass": 28.9,
         "pedi": 0.126,
         "age": 24,
         "class": 0,
         "_deepnote_index_column": 7
        },
        {
         "preg": 3,
         "plas": 121,
         "pres": 52,
         "skin": 0,
         "test": 0,
         "mass": 36,
         "pedi": 0.127,
         "age": 25,
         "class": 1,
         "_deepnote_index_column": 8
        },
        {
         "preg": 6,
         "plas": 194,
         "pres": 78,
         "skin": 0,
         "test": 0,
         "mass": 23.5,
         "pedi": 0.129,
         "age": 59,
         "class": 1,
         "_deepnote_index_column": 9
        },
        {
         "preg": 8,
         "plas": 143,
         "pres": 66,
         "skin": 0,
         "test": 0,
         "mass": 34.9,
         "pedi": 0.129,
         "age": 41,
         "class": 1,
         "_deepnote_index_column": 10
        },
        {
         "preg": 10,
         "plas": 115,
         "pres": 0,
         "skin": 0,
         "test": 0,
         "mass": 35.3,
         "pedi": 0.134,
         "age": 29,
         "class": 0,
         "_deepnote_index_column": 11
        },
        {
         "preg": 5,
         "plas": 168,
         "pres": 64,
         "skin": 0,
         "test": 0,
         "mass": 32.9,
         "pedi": 0.135,
         "age": 41,
         "class": 1,
         "_deepnote_index_column": 12
        },
        {
         "preg": 8,
         "plas": 188,
         "pres": 78,
         "skin": 0,
         "test": 0,
         "mass": 47.9,
         "pedi": 0.137,
         "age": 43,
         "class": 1,
         "_deepnote_index_column": 13
        },
        {
         "preg": 12,
         "plas": 106,
         "pres": 80,
         "skin": 0,
         "test": 0,
         "mass": 23.6,
         "pedi": 0.137,
         "age": 44,
         "class": 0,
         "_deepnote_index_column": 14
        },
        {
         "preg": 0,
         "plas": 119,
         "pres": 0,
         "skin": 0,
         "test": 0,
         "mass": 32.4,
         "pedi": 0.141,
         "age": 24,
         "class": 1,
         "_deepnote_index_column": 15
        },
        {
         "preg": 2,
         "plas": 92,
         "pres": 52,
         "skin": 0,
         "test": 0,
         "mass": 30.1,
         "pedi": 0.141,
         "age": 22,
         "class": 0,
         "_deepnote_index_column": 16
        },
        {
         "preg": 3,
         "plas": 111,
         "pres": 62,
         "skin": 0,
         "test": 0,
         "mass": 22.6,
         "pedi": 0.142,
         "age": 21,
         "class": 0,
         "_deepnote_index_column": 17
        },
        {
         "preg": 9,
         "plas": 89,
         "pres": 62,
         "skin": 0,
         "test": 0,
         "mass": 22.5,
         "pedi": 0.142,
         "age": 33,
         "class": 0,
         "_deepnote_index_column": 18
        },
        {
         "preg": 5,
         "plas": 128,
         "pres": 80,
         "skin": 0,
         "test": 0,
         "mass": 34.6,
         "pedi": 0.144,
         "age": 45,
         "class": 0,
         "_deepnote_index_column": 19
        },
        {
         "preg": 9,
         "plas": 164,
         "pres": 78,
         "skin": 0,
         "test": 0,
         "mass": 32.8,
         "pedi": 0.148,
         "age": 45,
         "class": 1,
         "_deepnote_index_column": 20
        },
        {
         "preg": 5,
         "plas": 162,
         "pres": 104,
         "skin": 0,
         "test": 0,
         "mass": 37.7,
         "pedi": 0.151,
         "age": 52,
         "class": 1,
         "_deepnote_index_column": 21
        },
        {
         "preg": 6,
         "plas": 137,
         "pres": 61,
         "skin": 0,
         "test": 0,
         "mass": 24.2,
         "pedi": 0.151,
         "age": 55,
         "class": 0,
         "_deepnote_index_column": 22
        },
        {
         "preg": 3,
         "plas": 125,
         "pres": 58,
         "skin": 0,
         "test": 0,
         "mass": 31.6,
         "pedi": 0.151,
         "age": 24,
         "class": 0,
         "_deepnote_index_column": 23
        },
        {
         "preg": 5,
         "plas": 104,
         "pres": 74,
         "skin": 0,
         "test": 0,
         "mass": 28.8,
         "pedi": 0.153,
         "age": 48,
         "class": 0,
         "_deepnote_index_column": 24
        },
        {
         "preg": 6,
         "plas": 117,
         "pres": 96,
         "skin": 0,
         "test": 0,
         "mass": 28.7,
         "pedi": 0.157,
         "age": 30,
         "class": 0,
         "_deepnote_index_column": 25
        },
        {
         "preg": 2,
         "plas": 108,
         "pres": 64,
         "skin": 0,
         "test": 0,
         "mass": 30.8,
         "pedi": 0.158,
         "age": 21,
         "class": 0,
         "_deepnote_index_column": 26
        },
        {
         "preg": 4,
         "plas": 95,
         "pres": 64,
         "skin": 0,
         "test": 0,
         "mass": 32,
         "pedi": 0.161,
         "age": 31,
         "class": 1,
         "_deepnote_index_column": 27
        },
        {
         "preg": 7,
         "plas": 161,
         "pres": 86,
         "skin": 0,
         "test": 0,
         "mass": 30.4,
         "pedi": 0.165,
         "age": 47,
         "class": 1,
         "_deepnote_index_column": 28
        },
        {
         "preg": 2,
         "plas": 139,
         "pres": 75,
         "skin": 0,
         "test": 0,
         "mass": 25.6,
         "pedi": 0.167,
         "age": 29,
         "class": 0,
         "_deepnote_index_column": 29
        },
        {
         "preg": 10,
         "plas": 92,
         "pres": 62,
         "skin": 0,
         "test": 0,
         "mass": 25.9,
         "pedi": 0.167,
         "age": 31,
         "class": 0,
         "_deepnote_index_column": 30
        },
        {
         "preg": 3,
         "plas": 80,
         "pres": 0,
         "skin": 0,
         "test": 0,
         "mass": 0,
         "pedi": 0.174,
         "age": 22,
         "class": 0,
         "_deepnote_index_column": 31
        },
        {
         "preg": 6,
         "plas": 147,
         "pres": 80,
         "skin": 0,
         "test": 0,
         "mass": 29.5,
         "pedi": 0.178,
         "age": 50,
         "class": 1,
         "_deepnote_index_column": 32
        },
        {
         "preg": 6,
         "plas": 162,
         "pres": 62,
         "skin": 0,
         "test": 0,
         "mass": 24.3,
         "pedi": 0.178,
         "age": 50,
         "class": 1,
         "_deepnote_index_column": 33
        },
        {
         "preg": 1,
         "plas": 151,
         "pres": 60,
         "skin": 0,
         "test": 0,
         "mass": 26.1,
         "pedi": 0.179,
         "age": 22,
         "class": 0,
         "_deepnote_index_column": 34
        },
        {
         "preg": 6,
         "plas": 102,
         "pres": 82,
         "skin": 0,
         "test": 0,
         "mass": 30.8,
         "pedi": 0.18,
         "age": 36,
         "class": 1,
         "_deepnote_index_column": 35
        },
        {
         "preg": 13,
         "plas": 76,
         "pres": 60,
         "skin": 0,
         "test": 0,
         "mass": 32.8,
         "pedi": 0.18,
         "age": 41,
         "class": 0,
         "_deepnote_index_column": 36
        },
        {
         "preg": 10,
         "plas": 162,
         "pres": 84,
         "skin": 0,
         "test": 0,
         "mass": 27.7,
         "pedi": 0.182,
         "age": 54,
         "class": 0,
         "_deepnote_index_column": 37
        },
        {
         "preg": 8,
         "plas": 120,
         "pres": 0,
         "skin": 0,
         "test": 0,
         "mass": 30,
         "pedi": 0.183,
         "age": 38,
         "class": 1,
         "_deepnote_index_column": 38
        },
        {
         "preg": 5,
         "plas": 132,
         "pres": 80,
         "skin": 0,
         "test": 0,
         "mass": 26.8,
         "pedi": 0.186,
         "age": 69,
         "class": 0,
         "_deepnote_index_column": 39
        },
        {
         "preg": 1,
         "plas": 105,
         "pres": 58,
         "skin": 0,
         "test": 0,
         "mass": 24.3,
         "pedi": 0.187,
         "age": 21,
         "class": 0,
         "_deepnote_index_column": 40
        },
        {
         "preg": 3,
         "plas": 116,
         "pres": 0,
         "skin": 0,
         "test": 0,
         "mass": 23.5,
         "pedi": 0.187,
         "age": 23,
         "class": 0,
         "_deepnote_index_column": 41
        },
        {
         "preg": 6,
         "plas": 92,
         "pres": 92,
         "skin": 0,
         "test": 0,
         "mass": 19.9,
         "pedi": 0.188,
         "age": 28,
         "class": 0,
         "_deepnote_index_column": 42
        },
        {
         "preg": 6,
         "plas": 114,
         "pres": 0,
         "skin": 0,
         "test": 0,
         "mass": 0,
         "pedi": 0.189,
         "age": 26,
         "class": 0,
         "_deepnote_index_column": 43
        },
        {
         "preg": 5,
         "plas": 143,
         "pres": 78,
         "skin": 0,
         "test": 0,
         "mass": 45,
         "pedi": 0.19,
         "age": 47,
         "class": 0,
         "_deepnote_index_column": 44
        },
        {
         "preg": 8,
         "plas": 100,
         "pres": 76,
         "skin": 0,
         "test": 0,
         "mass": 38.7,
         "pedi": 0.19,
         "age": 42,
         "class": 0,
         "_deepnote_index_column": 45
        },
        {
         "preg": 6,
         "plas": 96,
         "pres": 0,
         "skin": 0,
         "test": 0,
         "mass": 23.7,
         "pedi": 0.19,
         "age": 28,
         "class": 0,
         "_deepnote_index_column": 46
        },
        {
         "preg": 11,
         "plas": 127,
         "pres": 106,
         "skin": 0,
         "test": 0,
         "mass": 39,
         "pedi": 0.19,
         "age": 51,
         "class": 0,
         "_deepnote_index_column": 47
        },
        {
         "preg": 4,
         "plas": 110,
         "pres": 92,
         "skin": 0,
         "test": 0,
         "mass": 37.6,
         "pedi": 0.191,
         "age": 30,
         "class": 0,
         "_deepnote_index_column": 48
        },
        {
         "preg": 2,
         "plas": 90,
         "pres": 60,
         "skin": 0,
         "test": 0,
         "mass": 23.5,
         "pedi": 0.191,
         "age": 25,
         "class": 0,
         "_deepnote_index_column": 49
        },
        {
         "preg": 0,
         "plas": 67,
         "pres": 76,
         "skin": 0,
         "test": 0,
         "mass": 45.3,
         "pedi": 0.194,
         "age": 46,
         "class": 0,
         "_deepnote_index_column": 50
        },
        {
         "preg": 0,
         "plas": 105,
         "pres": 90,
         "skin": 0,
         "test": 0,
         "mass": 29.6,
         "pedi": 0.197,
         "age": 46,
         "class": 0,
         "_deepnote_index_column": 51
        },
        {
         "preg": 1,
         "plas": 106,
         "pres": 76,
         "skin": 0,
         "test": 0,
         "mass": 37.5,
         "pedi": 0.197,
         "age": 26,
         "class": 0,
         "_deepnote_index_column": 52
        },
        {
         "preg": 0,
         "plas": 101,
         "pres": 76,
         "skin": 0,
         "test": 0,
         "mass": 35.7,
         "pedi": 0.198,
         "age": 26,
         "class": 0,
         "_deepnote_index_column": 53
        },
        {
         "preg": 10,
         "plas": 179,
         "pres": 70,
         "skin": 0,
         "test": 0,
         "mass": 35.1,
         "pedi": 0.2,
         "age": 37,
         "class": 0,
         "_deepnote_index_column": 54
        }
       ],
       "rows_bottom": [
        {
         "preg": 1,
         "plas": 88,
         "pres": 30,
         "skin": 42,
         "test": 99,
         "mass": 55,
         "pedi": 0.496,
         "age": 26,
         "class": 1,
         "_deepnote_index_column": 712
        },
        {
         "preg": 8,
         "plas": 179,
         "pres": 72,
         "skin": 42,
         "test": 130,
         "mass": 32.7,
         "pedi": 0.719,
         "age": 36,
         "class": 1,
         "_deepnote_index_column": 713
        },
        {
         "preg": 2,
         "plas": 112,
         "pres": 86,
         "skin": 42,
         "test": 160,
         "mass": 38.4,
         "pedi": 0.246,
         "age": 28,
         "class": 0,
         "_deepnote_index_column": 714
        },
        {
         "preg": 0,
         "plas": 135,
         "pres": 68,
         "skin": 42,
         "test": 250,
         "mass": 42.3,
         "pedi": 0.365,
         "age": 24,
         "class": 1,
         "_deepnote_index_column": 715
        },
        {
         "preg": 1,
         "plas": 181,
         "pres": 78,
         "skin": 42,
         "test": 293,
         "mass": 40,
         "pedi": 1.258,
         "age": 22,
         "class": 1,
         "_deepnote_index_column": 716
        },
        {
         "preg": 7,
         "plas": 168,
         "pres": 88,
         "skin": 42,
         "test": 321,
         "mass": 38.2,
         "pedi": 0.787,
         "age": 40,
         "class": 1,
         "_deepnote_index_column": 717
        },
        {
         "preg": 7,
         "plas": 150,
         "pres": 66,
         "skin": 42,
         "test": 342,
         "mass": 34.7,
         "pedi": 0.718,
         "age": 42,
         "class": 0,
         "_deepnote_index_column": 718
        },
        {
         "preg": 1,
         "plas": 153,
         "pres": 82,
         "skin": 42,
         "test": 485,
         "mass": 40.6,
         "pedi": 0.687,
         "age": 23,
         "class": 0,
         "_deepnote_index_column": 719
        },
        {
         "preg": 1,
         "plas": 199,
         "pres": 76,
         "skin": 43,
         "test": 0,
         "mass": 42.9,
         "pedi": 1.394,
         "age": 22,
         "class": 1,
         "_deepnote_index_column": 720
        },
        {
         "preg": 1,
         "plas": 164,
         "pres": 82,
         "skin": 43,
         "test": 67,
         "mass": 32.8,
         "pedi": 0.341,
         "age": 50,
         "class": 0,
         "_deepnote_index_column": 721
        },
        {
         "preg": 5,
         "plas": 108,
         "pres": 72,
         "skin": 43,
         "test": 75,
         "mass": 36.1,
         "pedi": 0.263,
         "age": 33,
         "class": 0,
         "_deepnote_index_column": 722
        },
        {
         "preg": 2,
         "plas": 122,
         "pres": 52,
         "skin": 43,
         "test": 158,
         "mass": 36.2,
         "pedi": 0.816,
         "age": 28,
         "class": 0,
         "_deepnote_index_column": 723
        },
        {
         "preg": 0,
         "plas": 165,
         "pres": 76,
         "skin": 43,
         "test": 255,
         "mass": 47.9,
         "pedi": 0.259,
         "age": 26,
         "class": 0,
         "_deepnote_index_column": 724
        },
        {
         "preg": 12,
         "plas": 140,
         "pres": 82,
         "skin": 43,
         "test": 325,
         "mass": 39.2,
         "pedi": 0.528,
         "age": 58,
         "class": 1,
         "_deepnote_index_column": 725
        },
        {
         "preg": 7,
         "plas": 152,
         "pres": 88,
         "skin": 44,
         "test": 0,
         "mass": 50,
         "pedi": 0.337,
         "age": 36,
         "class": 1,
         "_deepnote_index_column": 726
        },
        {
         "preg": 9,
         "plas": 123,
         "pres": 70,
         "skin": 44,
         "test": 94,
         "mass": 33.1,
         "pedi": 0.374,
         "age": 40,
         "class": 0,
         "_deepnote_index_column": 727
        },
        {
         "preg": 4,
         "plas": 109,
         "pres": 64,
         "skin": 44,
         "test": 99,
         "mass": 34.8,
         "pedi": 0.905,
         "age": 26,
         "class": 1,
         "_deepnote_index_column": 728
        },
        {
         "preg": 0,
         "plas": 181,
         "pres": 88,
         "skin": 44,
         "test": 510,
         "mass": 43.3,
         "pedi": 0.222,
         "age": 26,
         "class": 1,
         "_deepnote_index_column": 729
        },
        {
         "preg": 5,
         "plas": 155,
         "pres": 84,
         "skin": 44,
         "test": 545,
         "mass": 38.7,
         "pedi": 0.619,
         "age": 34,
         "class": 0,
         "_deepnote_index_column": 730
        },
        {
         "preg": 0,
         "plas": 95,
         "pres": 80,
         "skin": 45,
         "test": 92,
         "mass": 36.5,
         "pedi": 0.33,
         "age": 26,
         "class": 0,
         "_deepnote_index_column": 731
        },
        {
         "preg": 1,
         "plas": 112,
         "pres": 80,
         "skin": 45,
         "test": 132,
         "mass": 34.8,
         "pedi": 0.217,
         "age": 24,
         "class": 0,
         "_deepnote_index_column": 732
        },
        {
         "preg": 2,
         "plas": 105,
         "pres": 80,
         "skin": 45,
         "test": 191,
         "mass": 33.7,
         "pedi": 0.711,
         "age": 29,
         "class": 1,
         "_deepnote_index_column": 733
        },
        {
         "preg": 1,
         "plas": 128,
         "pres": 48,
         "skin": 45,
         "test": 194,
         "mass": 40.5,
         "pedi": 0.613,
         "age": 24,
         "class": 1,
         "_deepnote_index_column": 734
        },
        {
         "preg": 6,
         "plas": 123,
         "pres": 72,
         "skin": 45,
         "test": 230,
         "mass": 33.6,
         "pedi": 0.733,
         "age": 34,
         "class": 0,
         "_deepnote_index_column": 735
        },
        {
         "preg": 2,
         "plas": 197,
         "pres": 70,
         "skin": 45,
         "test": 543,
         "mass": 30.5,
         "pedi": 0.158,
         "age": 53,
         "class": 1,
         "_deepnote_index_column": 736
        },
        {
         "preg": 0,
         "plas": 151,
         "pres": 90,
         "skin": 46,
         "test": 0,
         "mass": 42.1,
         "pedi": 0.371,
         "age": 21,
         "class": 1,
         "_deepnote_index_column": 737
        },
        {
         "preg": 0,
         "plas": 102,
         "pres": 64,
         "skin": 46,
         "test": 78,
         "mass": 40.6,
         "pedi": 0.496,
         "age": 21,
         "class": 0,
         "_deepnote_index_column": 738
        },
        {
         "preg": 0,
         "plas": 129,
         "pres": 110,
         "skin": 46,
         "test": 130,
         "mass": 67.1,
         "pedi": 0.319,
         "age": 26,
         "class": 1,
         "_deepnote_index_column": 739
        },
        {
         "preg": 9,
         "plas": 145,
         "pres": 80,
         "skin": 46,
         "test": 130,
         "mass": 37.9,
         "pedi": 0.637,
         "age": 40,
         "class": 1,
         "_deepnote_index_column": 740
        },
        {
         "preg": 0,
         "plas": 135,
         "pres": 94,
         "skin": 46,
         "test": 145,
         "mass": 40.6,
         "pedi": 0.284,
         "age": 26,
         "class": 0,
         "_deepnote_index_column": 741
        },
        {
         "preg": 1,
         "plas": 108,
         "pres": 60,
         "skin": 46,
         "test": 178,
         "mass": 35.5,
         "pedi": 0.415,
         "age": 24,
         "class": 0,
         "_deepnote_index_column": 742
        },
        {
         "preg": 1,
         "plas": 144,
         "pres": 82,
         "skin": 46,
         "test": 180,
         "mass": 46.1,
         "pedi": 0.335,
         "age": 46,
         "class": 1,
         "_deepnote_index_column": 743
        },
        {
         "preg": 8,
         "plas": 167,
         "pres": 106,
         "skin": 46,
         "test": 231,
         "mass": 37.6,
         "pedi": 0.165,
         "age": 43,
         "class": 1,
         "_deepnote_index_column": 744
        },
        {
         "preg": 4,
         "plas": 90,
         "pres": 88,
         "skin": 47,
         "test": 54,
         "mass": 37.7,
         "pedi": 0.362,
         "age": 29,
         "class": 0,
         "_deepnote_index_column": 745
        },
        {
         "preg": 1,
         "plas": 119,
         "pres": 44,
         "skin": 47,
         "test": 63,
         "mass": 35.5,
         "pedi": 0.28,
         "age": 25,
         "class": 0,
         "_deepnote_index_column": 746
        },
        {
         "preg": 4,
         "plas": 111,
         "pres": 72,
         "skin": 47,
         "test": 207,
         "mass": 37.1,
         "pedi": 1.39,
         "age": 56,
         "class": 1,
         "_deepnote_index_column": 747
        },
        {
         "preg": 0,
         "plas": 118,
         "pres": 84,
         "skin": 47,
         "test": 230,
         "mass": 45.8,
         "pedi": 0.551,
         "age": 31,
         "class": 1,
         "_deepnote_index_column": 748
        },
        {
         "preg": 10,
         "plas": 101,
         "pres": 76,
         "skin": 48,
         "test": 180,
         "mass": 32.9,
         "pedi": 0.171,
         "age": 63,
         "class": 0,
         "_deepnote_index_column": 749
        },
        {
         "preg": 1,
         "plas": 120,
         "pres": 80,
         "skin": 48,
         "test": 200,
         "mass": 38.9,
         "pedi": 1.162,
         "age": 41,
         "class": 0,
         "_deepnote_index_column": 750
        },
        {
         "preg": 10,
         "plas": 148,
         "pres": 84,
         "skin": 48,
         "test": 237,
         "mass": 37.6,
         "pedi": 1.001,
         "age": 51,
         "class": 1,
         "_deepnote_index_column": 751
        },
        {
         "preg": 3,
         "plas": 173,
         "pres": 82,
         "skin": 48,
         "test": 465,
         "mass": 38.4,
         "pedi": 2.137,
         "age": 25,
         "class": 1,
         "_deepnote_index_column": 752
        },
        {
         "preg": 7,
         "plas": 129,
         "pres": 68,
         "skin": 49,
         "test": 125,
         "mass": 38.5,
         "pedi": 0.439,
         "age": 43,
         "class": 1,
         "_deepnote_index_column": 753
        },
        {
         "preg": 3,
         "plas": 129,
         "pres": 92,
         "skin": 49,
         "test": 155,
         "mass": 36.4,
         "pedi": 0.968,
         "age": 32,
         "class": 1,
         "_deepnote_index_column": 754
        },
        {
         "preg": 1,
         "plas": 172,
         "pres": 68,
         "skin": 49,
         "test": 579,
         "mass": 42.4,
         "pedi": 0.702,
         "age": 28,
         "class": 1,
         "_deepnote_index_column": 755
        },
        {
         "preg": 1,
         "plas": 71,
         "pres": 78,
         "skin": 50,
         "test": 45,
         "mass": 33.2,
         "pedi": 0.422,
         "age": 21,
         "class": 0,
         "_deepnote_index_column": 756
        },
        {
         "preg": 2,
         "plas": 112,
         "pres": 78,
         "skin": 50,
         "test": 140,
         "mass": 39.4,
         "pedi": 0.175,
         "age": 24,
         "class": 0,
         "_deepnote_index_column": 757
        },
        {
         "preg": 1,
         "plas": 136,
         "pres": 74,
         "skin": 50,
         "test": 204,
         "mass": 37.4,
         "pedi": 0.399,
         "age": 24,
         "class": 0,
         "_deepnote_index_column": 758
        },
        {
         "preg": 1,
         "plas": 122,
         "pres": 90,
         "skin": 51,
         "test": 220,
         "mass": 49.7,
         "pedi": 0.325,
         "age": 31,
         "class": 1,
         "_deepnote_index_column": 759
        },
        {
         "preg": 2,
         "plas": 100,
         "pres": 70,
         "skin": 52,
         "test": 57,
         "mass": 40.5,
         "pedi": 0.677,
         "age": 25,
         "class": 0,
         "_deepnote_index_column": 760
        },
        {
         "preg": 1,
         "plas": 86,
         "pres": 66,
         "skin": 52,
         "test": 65,
         "mass": 41.3,
         "pedi": 0.917,
         "age": 29,
         "class": 0,
         "_deepnote_index_column": 761
        },
        {
         "preg": 13,
         "plas": 106,
         "pres": 72,
         "skin": 54,
         "test": 0,
         "mass": 36.6,
         "pedi": 0.178,
         "age": 45,
         "class": 0,
         "_deepnote_index_column": 762
        },
        {
         "preg": 0,
         "plas": 147,
         "pres": 85,
         "skin": 54,
         "test": 0,
         "mass": 42.8,
         "pedi": 0.375,
         "age": 24,
         "class": 0,
         "_deepnote_index_column": 763
        },
        {
         "preg": 0,
         "plas": 162,
         "pres": 76,
         "skin": 56,
         "test": 100,
         "mass": 53.2,
         "pedi": 0.759,
         "age": 25,
         "class": 1,
         "_deepnote_index_column": 764
        },
        {
         "preg": 0,
         "plas": 100,
         "pres": 88,
         "skin": 60,
         "test": 110,
         "mass": 46.8,
         "pedi": 0.962,
         "age": 31,
         "class": 0,
         "_deepnote_index_column": 765
        },
        {
         "preg": 0,
         "plas": 180,
         "pres": 78,
         "skin": 63,
         "test": 14,
         "mass": 59.4,
         "pedi": 2.42,
         "age": 25,
         "class": 1,
         "_deepnote_index_column": 766
        },
        {
         "preg": 2,
         "plas": 197,
         "pres": 70,
         "skin": 99,
         "test": 0,
         "mass": 34.7,
         "pedi": 0.575,
         "age": 62,
         "class": 1,
         "_deepnote_index_column": 767
        }
       ]
      },
      "text/plain": "     preg  plas  pres  skin  test  mass   pedi  age  class\n0       0   102    52     0     0  25.1  0.078   21      0\n1       6    87    80     0     0  23.2  0.084   32      0\n2       1   173    74     0     0  36.8  0.088   38      1\n3       2    74     0     0     0   0.0  0.102   22      0\n4       2    99     0     0     0  22.2  0.108   23      0\n..    ...   ...   ...   ...   ...   ...    ...  ...    ...\n763     0   147    85    54     0  42.8  0.375   24      0\n764     0   162    76    56   100  53.2  0.759   25      1\n765     0   100    88    60   110  46.8  0.962   31      0\n766     0   180    78    63    14  59.4  2.420   25      1\n767     2   197    70    99     0  34.7  0.575   62      1\n\n[768 rows x 9 columns]",
      "text/html": "<div>\n<style scoped>\n    .dataframe tbody tr th:only-of-type {\n        vertical-align: middle;\n    }\n\n    .dataframe tbody tr th {\n        vertical-align: top;\n    }\n\n    .dataframe thead th {\n        text-align: right;\n    }\n</style>\n<table border=\"1\" class=\"dataframe\">\n  <thead>\n    <tr style=\"text-align: right;\">\n      <th></th>\n      <th>preg</th>\n      <th>plas</th>\n      <th>pres</th>\n      <th>skin</th>\n      <th>test</th>\n      <th>mass</th>\n      <th>pedi</th>\n      <th>age</th>\n      <th>class</th>\n    </tr>\n  </thead>\n  <tbody>\n    <tr>\n      <th>0</th>\n      <td>0</td>\n      <td>102</td>\n      <td>52</td>\n      <td>0</td>\n      <td>0</td>\n      <td>25.1</td>\n      <td>0.078</td>\n      <td>21</td>\n      <td>0</td>\n    </tr>\n    <tr>\n      <th>1</th>\n      <td>6</td>\n      <td>87</td>\n      <td>80</td>\n      <td>0</td>\n      <td>0</td>\n      <td>23.2</td>\n      <td>0.084</td>\n      <td>32</td>\n      <td>0</td>\n    </tr>\n    <tr>\n      <th>2</th>\n      <td>1</td>\n      <td>173</td>\n      <td>74</td>\n      <td>0</td>\n      <td>0</td>\n      <td>36.8</td>\n      <td>0.088</td>\n      <td>38</td>\n      <td>1</td>\n    </tr>\n    <tr>\n      <th>3</th>\n      <td>2</td>\n      <td>74</td>\n      <td>0</td>\n      <td>0</td>\n      <td>0</td>\n      <td>0.0</td>\n      <td>0.102</td>\n      <td>22</td>\n      <td>0</td>\n    </tr>\n    <tr>\n      <th>4</th>\n      <td>2</td>\n      <td>99</td>\n      <td>0</td>\n      <td>0</td>\n      <td>0</td>\n      <td>22.2</td>\n      <td>0.108</td>\n      <td>23</td>\n      <td>0</td>\n    </tr>\n    <tr>\n      <th>...</th>\n      <td>...</td>\n      <td>...</td>\n      <td>...</td>\n      <td>...</td>\n      <td>...</td>\n      <td>...</td>\n      <td>...</td>\n      <td>...</td>\n      <td>...</td>\n    </tr>\n    <tr>\n      <th>763</th>\n      <td>0</td>\n      <td>147</td>\n      <td>85</td>\n      <td>54</td>\n      <td>0</td>\n      <td>42.8</td>\n      <td>0.375</td>\n      <td>24</td>\n      <td>0</td>\n    </tr>\n    <tr>\n      <th>764</th>\n      <td>0</td>\n      <td>162</td>\n      <td>76</td>\n      <td>56</td>\n      <td>100</td>\n      <td>53.2</td>\n      <td>0.759</td>\n      <td>25</td>\n      <td>1</td>\n    </tr>\n    <tr>\n      <th>765</th>\n      <td>0</td>\n      <td>100</td>\n      <td>88</td>\n      <td>60</td>\n      <td>110</td>\n      <td>46.8</td>\n      <td>0.962</td>\n      <td>31</td>\n      <td>0</td>\n    </tr>\n    <tr>\n      <th>766</th>\n      <td>0</td>\n      <td>180</td>\n      <td>78</td>\n      <td>63</td>\n      <td>14</td>\n      <td>59.4</td>\n      <td>2.420</td>\n      <td>25</td>\n      <td>1</td>\n    </tr>\n    <tr>\n      <th>767</th>\n      <td>2</td>\n      <td>197</td>\n      <td>70</td>\n      <td>99</td>\n      <td>0</td>\n      <td>34.7</td>\n      <td>0.575</td>\n      <td>62</td>\n      <td>1</td>\n    </tr>\n  </tbody>\n</table>\n<p>768 rows × 9 columns</p>\n</div>"
     },
     "metadata": {}
    }
   ]
  },
  {
   "cell_type": "markdown",
   "source": "Now let's find the 4 largest values for `\"age\"`",
   "metadata": {
    "colab_type": "text",
    "id": "BIJkXsK4ch-u",
    "cell_id": "00025-31c03cc1-a702-4c90-89f0-dab8fb9b51bf",
    "deepnote_cell_type": "markdown"
   }
  },
  {
   "cell_type": "code",
   "metadata": {
    "colab_type": "code",
    "id": "kSl28jLLdAF9",
    "colab": {},
    "cell_id": "00026-9728e4ca-d0d3-4d8c-a818-707a90e9e5d3",
    "deepnote_to_be_reexecuted": false,
    "source_hash": "85e01849",
    "execution_start": 1625601970307,
    "execution_millis": 8,
    "deepnote_cell_type": "code"
   },
   "source": "# YOUR CODE HERE\ndata_above_avg.sort_values(['age'])['age'][-4:]",
   "execution_count": null,
   "outputs": [
    {
     "output_type": "execute_result",
     "execution_count": 155,
     "data": {
      "text/plain": "186    69\n301    70\n208    72\n584    81\nName: age, dtype: int64"
     },
     "metadata": {}
    }
   ]
  },
  {
   "cell_type": "markdown",
   "source": "Now find the smallest 4 values for `\"pedi\"` and `\"plas\"` in reverse order (smallest to largest).",
   "metadata": {
    "colab_type": "text",
    "id": "fJRwe8UfqvNG",
    "cell_id": "00027-a5e12cb1-a313-47bf-9640-256181c460ad",
    "deepnote_cell_type": "markdown"
   }
  },
  {
   "cell_type": "code",
   "metadata": {
    "colab_type": "code",
    "id": "icQcbPg1quNI",
    "colab": {},
    "cell_id": "00028-2add4c0a-65b7-424e-a4d9-756817979e60",
    "deepnote_to_be_reexecuted": false,
    "source_hash": "4c3e903d",
    "execution_start": 1625602060206,
    "execution_millis": 13,
    "deepnote_cell_type": "code"
   },
   "source": "# YOUR CODE HERE\nprint(data_above_avg.sort_values([\"pedi\", 'plas'])[:4]['pedi'])\ndata_above_avg.sort_values([\"pedi\", 'plas'])[:4]['plas']\n\n\n",
   "execution_count": null,
   "outputs": [
    {
     "name": "stdout",
     "text": "0      0.078\n1      0.084\n286    0.085\n568    0.085\nName: pedi, dtype: float64\n",
     "output_type": "stream"
    },
    {
     "output_type": "execute_result",
     "execution_count": 157,
     "data": {
      "text/plain": "0      102\n1       87\n286     90\n568     92\nName: plas, dtype: int64"
     },
     "metadata": {}
    }
   ]
  },
  {
   "cell_type": "code",
   "metadata": {
    "tags": [],
    "cell_id": "00030-283d3454-7b86-418d-8aba-e9c268f1645f",
    "deepnote_cell_type": "code"
   },
   "source": "",
   "execution_count": null,
   "outputs": []
  },
  {
   "cell_type": "markdown",
   "source": "<a style='text-decoration:none;line-height:16px;display:flex;color:#5B5B62;padding:10px;justify-content:end;' href='https://deepnote.com?utm_source=created-in-deepnote-cell&projectId=87ac0e45-1ead-4d49-81f5-83b26292767f' target=\"_blank\">\n<img alt='Created in deepnote.com' style='display:inline;max-height:16px;margin:0px;margin-right:7.5px;' src='data:image/svg+xml;base64,PD94bWwgdmVyc2lvbj0iMS4wIiBlbmNvZGluZz0iVVRGLTgiPz4KPHN2ZyB3aWR0aD0iODBweCIgaGVpZ2h0PSI4MHB4IiB2aWV3Qm94PSIwIDAgODAgODAiIHZlcnNpb249IjEuMSIgeG1sbnM9Imh0dHA6Ly93d3cudzMub3JnLzIwMDAvc3ZnIiB4bWxuczp4bGluaz0iaHR0cDovL3d3dy53My5vcmcvMTk5OS94bGluayI+CiAgICA8IS0tIEdlbmVyYXRvcjogU2tldGNoIDU0LjEgKDc2NDkwKSAtIGh0dHBzOi8vc2tldGNoYXBwLmNvbSAtLT4KICAgIDx0aXRsZT5Hcm91cCAzPC90aXRsZT4KICAgIDxkZXNjPkNyZWF0ZWQgd2l0aCBTa2V0Y2guPC9kZXNjPgogICAgPGcgaWQ9IkxhbmRpbmciIHN0cm9rZT0ibm9uZSIgc3Ryb2tlLXdpZHRoPSIxIiBmaWxsPSJub25lIiBmaWxsLXJ1bGU9ImV2ZW5vZGQiPgogICAgICAgIDxnIGlkPSJBcnRib2FyZCIgdHJhbnNmb3JtPSJ0cmFuc2xhdGUoLTEyMzUuMDAwMDAwLCAtNzkuMDAwMDAwKSI+CiAgICAgICAgICAgIDxnIGlkPSJHcm91cC0zIiB0cmFuc2Zvcm09InRyYW5zbGF0ZSgxMjM1LjAwMDAwMCwgNzkuMDAwMDAwKSI+CiAgICAgICAgICAgICAgICA8cG9seWdvbiBpZD0iUGF0aC0yMCIgZmlsbD0iIzAyNjVCNCIgcG9pbnRzPSIyLjM3NjIzNzYyIDgwIDM4LjA0NzY2NjcgODAgNTcuODIxNzgyMiA3My44MDU3NTkyIDU3LjgyMTc4MjIgMzIuNzU5MjczOSAzOS4xNDAyMjc4IDMxLjY4MzE2ODMiPjwvcG9seWdvbj4KICAgICAgICAgICAgICAgIDxwYXRoIGQ9Ik0zNS4wMDc3MTgsODAgQzQyLjkwNjIwMDcsNzYuNDU0OTM1OCA0Ny41NjQ5MTY3LDcxLjU0MjI2NzEgNDguOTgzODY2LDY1LjI2MTk5MzkgQzUxLjExMjI4OTksNTUuODQxNTg0MiA0MS42NzcxNzk1LDQ5LjIxMjIyODQgMjUuNjIzOTg0Niw0OS4yMTIyMjg0IEMyNS40ODQ5Mjg5LDQ5LjEyNjg0NDggMjkuODI2MTI5Niw0My4yODM4MjQ4IDM4LjY0NzU4NjksMzEuNjgzMTY4MyBMNzIuODcxMjg3MSwzMi41NTQ0MjUgTDY1LjI4MDk3Myw2Ny42NzYzNDIxIEw1MS4xMTIyODk5LDc3LjM3NjE0NCBMMzUuMDA3NzE4LDgwIFoiIGlkPSJQYXRoLTIyIiBmaWxsPSIjMDAyODY4Ij48L3BhdGg+CiAgICAgICAgICAgICAgICA8cGF0aCBkPSJNMCwzNy43MzA0NDA1IEwyNy4xMTQ1MzcsMC4yNTcxMTE0MzYgQzYyLjM3MTUxMjMsLTEuOTkwNzE3MDEgODAsMTAuNTAwMzkyNyA4MCwzNy43MzA0NDA1IEM4MCw2NC45NjA0ODgyIDY0Ljc3NjUwMzgsNzkuMDUwMzQxNCAzNC4zMjk1MTEzLDgwIEM0Ny4wNTUzNDg5LDc3LjU2NzA4MDggNTMuNDE4MjY3Nyw3MC4zMTM2MTAzIDUzLjQxODI2NzcsNTguMjM5NTg4NSBDNTMuNDE4MjY3Nyw0MC4xMjg1NTU3IDM2LjMwMzk1NDQsMzcuNzMwNDQwNSAyNS4yMjc0MTcsMzcuNzMwNDQwNSBDMTcuODQzMDU4NiwzNy43MzA0NDA1IDkuNDMzOTE5NjYsMzcuNzMwNDQwNSAwLDM3LjczMDQ0MDUgWiIgaWQ9IlBhdGgtMTkiIGZpbGw9IiMzNzkzRUYiPjwvcGF0aD4KICAgICAgICAgICAgPC9nPgogICAgICAgIDwvZz4KICAgIDwvZz4KPC9zdmc+' > </img>\nCreated in <span style='font-weight:600;margin-left:4px;'>Deepnote</span></a>",
   "metadata": {
    "tags": [],
    "created_in_deepnote_cell": true,
    "deepnote_cell_type": "markdown"
   }
  }
 ],
 "nbformat": 4,
 "nbformat_minor": 0,
 "metadata": {
  "colab": {
   "name": "Pandas_Exercises",
   "provenance": [],
   "collapsed_sections": []
  },
  "kernelspec": {
   "display_name": "Python 3",
   "language": "python",
   "name": "python3"
  },
  "language_info": {
   "codemirror_mode": {
    "name": "ipython",
    "version": 3
   },
   "file_extension": ".py",
   "mimetype": "text/x-python",
   "name": "python",
   "nbconvert_exporter": "python",
   "pygments_lexer": "ipython3",
   "version": "3.7.3"
  },
  "deepnote_notebook_id": "86faf811-6ae2-4018-b15f-d354237ab127",
  "deepnote": {},
  "deepnote_execution_queue": []
 }
}